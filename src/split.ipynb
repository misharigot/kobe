{
 "cells": [
  {
   "cell_type": "markdown",
   "metadata": {},
   "source": [
    "## TODO: See if we can use numpy arrays exclusively, instead of pandas.\n",
    "\n",
    "\n",
    "## TODO: Check if below is still relevant\n",
    "\n",
    "This notebook splits the initial data set into n fold (cross validation).\n",
    "\n",
    "\n",
    "### input: \n",
    "dataset\n",
    "\n",
    "### output: \n",
    "```\n",
    "[\n",
    "    [train1.csv, validation1.csv],\n",
    "    [train2.csv, validation2.csv],\n",
    "    [train3.csv, validation3.csv],\n",
    "    [train4.csv, validation4.csv],\n",
    "]\n",
    "\n",
    "test.csv\n",
    "```"
   ]
  },
  {
   "cell_type": "code",
   "execution_count": 3,
   "metadata": {},
   "outputs": [],
   "source": [
    "import pandas as pd\n",
    "from sklearn.model_selection import TimeSeriesSplit\n",
    "from matplotlib import pyplot"
   ]
  },
  {
   "cell_type": "code",
   "execution_count": 43,
   "metadata": {},
   "outputs": [],
   "source": [
    "# series = read_csv('sunspots.csv', header=0, index_col=0)\n",
    "df = pd.read_csv('../data/data.csv')"
   ]
  },
  {
   "cell_type": "code",
   "execution_count": 47,
   "metadata": {},
   "outputs": [
    {
     "data": {
      "text/plain": [
       "(25697, 25)"
      ]
     },
     "execution_count": 47,
     "metadata": {},
     "output_type": "execute_result"
    }
   ],
   "source": [
    "# Only obtain the labeled rows\n",
    "df = df[~df['shot_made_flag'].isnull()]\n",
    "df.shape"
   ]
  },
  {
   "cell_type": "code",
   "execution_count": 67,
   "metadata": {},
   "outputs": [],
   "source": [
    "# TODO: Need to split the df into train/validation/test here\n",
    "# ..."
   ]
  },
  {
   "cell_type": "code",
   "execution_count": 68,
   "metadata": {},
   "outputs": [
    {
     "name": "stdout",
     "output_type": "stream",
     "text": [
      "(25697, 24)\n",
      "(25697,)\n"
     ]
    }
   ],
   "source": [
    "# X = series.values\n",
    "\n",
    "# split into input (X) and output (Y) variables\n",
    "X = df[df.columns.difference(['shot_made_flag'])]\n",
    "Y = df['shot_made_flag']\n",
    "\n",
    "print(X.shape)\n",
    "print(Y.shape)"
   ]
  },
  {
   "cell_type": "code",
   "execution_count": 55,
   "metadata": {},
   "outputs": [
    {
     "data": {
      "text/plain": [
       "<Figure size 432x288 with 0 Axes>"
      ]
     },
     "metadata": {},
     "output_type": "display_data"
    }
   ],
   "source": [
    "splits = TimeSeriesSplit(n_splits=3)\n",
    "\n",
    "pyplot.figure(1)\n",
    "index = 1"
   ]
  },
  {
   "cell_type": "code",
   "execution_count": 88,
   "metadata": {},
   "outputs": [
    {
     "ename": "TypeError",
     "evalue": "Singleton array array(<bound method DataFrame.to_numpy of               action_type combined_shot_type   game_date  game_event_id  \\\n1               Jump Shot          Jump Shot  2000-10-31             12   \n2               Jump Shot          Jump Shot  2000-10-31             35   \n3               Jump Shot          Jump Shot  2000-10-31             43   \n4       Driving Dunk Shot               Dunk  2000-10-31            155   \n5               Jump Shot          Jump Shot  2000-10-31            244   \n...                   ...                ...         ...            ...   \n30691  Driving Layup Shot              Layup  2000-06-19            382   \n30692           Jump Shot          Jump Shot  2000-06-19            397   \n30694   Running Jump Shot          Jump Shot  2000-06-19            426   \n30695           Jump Shot          Jump Shot  2000-06-19            448   \n30696           Jump Shot          Jump Shot  2000-06-19            471   \n\n        game_id      lat  loc_x  loc_y       lon      matchup  ...   season  \\\n1      20000012  34.0443   -157      0 -118.4268    LAL @ POR  ...  2000-01   \n2      20000012  33.9093   -101    135 -118.3708    LAL @ POR  ...  2000-01   \n3      20000012  33.8693    138    175 -118.1318    LAL @ POR  ...  2000-01   \n4      20000012  34.0443      0      0 -118.2698    LAL @ POR  ...  2000-01   \n5      20000012  34.0553   -145    -11 -118.4148    LAL @ POR  ...  2000-01   \n...         ...      ...    ...    ...       ...          ...  ...      ...   \n30691  49900088  34.0443      0      0 -118.2698  LAL vs. IND  ...  1999-00   \n30692  49900088  33.9963      1     48 -118.2688  LAL vs. IND  ...  1999-00   \n30694  49900088  33.8783   -134    166 -118.4038  LAL vs. IND  ...  1999-00   \n30695  49900088  33.7773     31    267 -118.2388  LAL vs. IND  ...  1999-00   \n30696  49900088  33.9723      1     72 -118.2688  LAL vs. IND  ...  1999-00   \n\n      seconds_remaining  shot_distance  shot_id       shot_type  \\\n1                    22             15        2  2PT Field Goal   \n2                    45             16        3  2PT Field Goal   \n3                    52             22        4  2PT Field Goal   \n4                    19              0        5  2PT Field Goal   \n5                    32             14        6  2PT Field Goal   \n...                 ...            ...      ...             ...   \n30691                 4              0    30692  2PT Field Goal   \n30692                 5              4    30693  2PT Field Goal   \n30694                28             21    30695  2PT Field Goal   \n30695                10             26    30696  3PT Field Goal   \n30696                39              7    30697  2PT Field Goal   \n\n              shot_zone_area        shot_zone_basic  shot_zone_range  \\\n1               Left Side(L)              Mid-Range         8-16 ft.   \n2       Left Side Center(LC)              Mid-Range        16-24 ft.   \n3      Right Side Center(RC)              Mid-Range        16-24 ft.   \n4                  Center(C)        Restricted Area  Less Than 8 ft.   \n5               Left Side(L)              Mid-Range         8-16 ft.   \n...                      ...                    ...              ...   \n30691              Center(C)        Restricted Area  Less Than 8 ft.   \n30692              Center(C)  In The Paint (Non-RA)  Less Than 8 ft.   \n30694   Left Side Center(LC)              Mid-Range        16-24 ft.   \n30695              Center(C)      Above the Break 3          24+ ft.   \n30696              Center(C)  In The Paint (Non-RA)  Less Than 8 ft.   \n\n          team_id           team_name  \n1      1610612747  Los Angeles Lakers  \n2      1610612747  Los Angeles Lakers  \n3      1610612747  Los Angeles Lakers  \n4      1610612747  Los Angeles Lakers  \n5      1610612747  Los Angeles Lakers  \n...           ...                 ...  \n30691  1610612747  Los Angeles Lakers  \n30692  1610612747  Los Angeles Lakers  \n30694  1610612747  Los Angeles Lakers  \n30695  1610612747  Los Angeles Lakers  \n30696  1610612747  Los Angeles Lakers  \n\n[25697 rows x 24 columns]>, dtype=object) cannot be considered a valid collection.",
     "output_type": "error",
     "traceback": [
      "\u001b[0;31m---------------------------------------------------------------------------\u001b[0m",
      "\u001b[0;31mTypeError\u001b[0m                                 Traceback (most recent call last)",
      "\u001b[0;32m<ipython-input-88-29f7f725cc92>\u001b[0m in \u001b[0;36m<module>\u001b[0;34m\u001b[0m\n\u001b[0;32m----> 1\u001b[0;31m \u001b[0;32mfor\u001b[0m \u001b[0mtrain_index\u001b[0m\u001b[0;34m,\u001b[0m \u001b[0mtest_index\u001b[0m \u001b[0;32min\u001b[0m \u001b[0msplits\u001b[0m\u001b[0;34m.\u001b[0m\u001b[0msplit\u001b[0m\u001b[0;34m(\u001b[0m\u001b[0mX\u001b[0m\u001b[0;34m.\u001b[0m\u001b[0mto_numpy\u001b[0m\u001b[0;34m)\u001b[0m\u001b[0;34m:\u001b[0m\u001b[0;34m\u001b[0m\u001b[0;34m\u001b[0m\u001b[0m\n\u001b[0m\u001b[1;32m      2\u001b[0m     \u001b[0mtrain\u001b[0m \u001b[0;34m=\u001b[0m \u001b[0mX\u001b[0m\u001b[0;34m[\u001b[0m\u001b[0mtrain_index\u001b[0m\u001b[0;34m]\u001b[0m\u001b[0;34m\u001b[0m\u001b[0;34m\u001b[0m\u001b[0m\n\u001b[1;32m      3\u001b[0m \u001b[0;31m#     test = X[test_index]\u001b[0m\u001b[0;34m\u001b[0m\u001b[0;34m\u001b[0m\u001b[0;34m\u001b[0m\u001b[0m\n\u001b[1;32m      4\u001b[0m \u001b[0;34m\u001b[0m\u001b[0m\n\u001b[1;32m      5\u001b[0m \u001b[0;31m#     print('Observations: %d' % (len(train) + len(test)))\u001b[0m\u001b[0;34m\u001b[0m\u001b[0;34m\u001b[0m\u001b[0;34m\u001b[0m\u001b[0m\n",
      "\u001b[0;32m~/vu/machine-learning/kobe/.venv/lib/python3.7/site-packages/sklearn/model_selection/_split.py\u001b[0m in \u001b[0;36msplit\u001b[0;34m(self, X, y, groups)\u001b[0m\n\u001b[1;32m    813\u001b[0m             \u001b[0mThe\u001b[0m \u001b[0mtesting\u001b[0m \u001b[0mset\u001b[0m \u001b[0mindices\u001b[0m \u001b[0;32mfor\u001b[0m \u001b[0mthat\u001b[0m \u001b[0msplit\u001b[0m\u001b[0;34m.\u001b[0m\u001b[0;34m\u001b[0m\u001b[0;34m\u001b[0m\u001b[0m\n\u001b[1;32m    814\u001b[0m         \"\"\"\n\u001b[0;32m--> 815\u001b[0;31m         \u001b[0mX\u001b[0m\u001b[0;34m,\u001b[0m \u001b[0my\u001b[0m\u001b[0;34m,\u001b[0m \u001b[0mgroups\u001b[0m \u001b[0;34m=\u001b[0m \u001b[0mindexable\u001b[0m\u001b[0;34m(\u001b[0m\u001b[0mX\u001b[0m\u001b[0;34m,\u001b[0m \u001b[0my\u001b[0m\u001b[0;34m,\u001b[0m \u001b[0mgroups\u001b[0m\u001b[0;34m)\u001b[0m\u001b[0;34m\u001b[0m\u001b[0;34m\u001b[0m\u001b[0m\n\u001b[0m\u001b[1;32m    816\u001b[0m         \u001b[0mn_samples\u001b[0m \u001b[0;34m=\u001b[0m \u001b[0m_num_samples\u001b[0m\u001b[0;34m(\u001b[0m\u001b[0mX\u001b[0m\u001b[0;34m)\u001b[0m\u001b[0;34m\u001b[0m\u001b[0;34m\u001b[0m\u001b[0m\n\u001b[1;32m    817\u001b[0m         \u001b[0mn_splits\u001b[0m \u001b[0;34m=\u001b[0m \u001b[0mself\u001b[0m\u001b[0;34m.\u001b[0m\u001b[0mn_splits\u001b[0m\u001b[0;34m\u001b[0m\u001b[0;34m\u001b[0m\u001b[0m\n",
      "\u001b[0;32m~/vu/machine-learning/kobe/.venv/lib/python3.7/site-packages/sklearn/utils/validation.py\u001b[0m in \u001b[0;36mindexable\u001b[0;34m(*iterables)\u001b[0m\n\u001b[1;32m    246\u001b[0m     \"\"\"\n\u001b[1;32m    247\u001b[0m     \u001b[0mresult\u001b[0m \u001b[0;34m=\u001b[0m \u001b[0;34m[\u001b[0m\u001b[0m_make_indexable\u001b[0m\u001b[0;34m(\u001b[0m\u001b[0mX\u001b[0m\u001b[0;34m)\u001b[0m \u001b[0;32mfor\u001b[0m \u001b[0mX\u001b[0m \u001b[0;32min\u001b[0m \u001b[0miterables\u001b[0m\u001b[0;34m]\u001b[0m\u001b[0;34m\u001b[0m\u001b[0;34m\u001b[0m\u001b[0m\n\u001b[0;32m--> 248\u001b[0;31m     \u001b[0mcheck_consistent_length\u001b[0m\u001b[0;34m(\u001b[0m\u001b[0;34m*\u001b[0m\u001b[0mresult\u001b[0m\u001b[0;34m)\u001b[0m\u001b[0;34m\u001b[0m\u001b[0;34m\u001b[0m\u001b[0m\n\u001b[0m\u001b[1;32m    249\u001b[0m     \u001b[0;32mreturn\u001b[0m \u001b[0mresult\u001b[0m\u001b[0;34m\u001b[0m\u001b[0;34m\u001b[0m\u001b[0m\n\u001b[1;32m    250\u001b[0m \u001b[0;34m\u001b[0m\u001b[0m\n",
      "\u001b[0;32m~/vu/machine-learning/kobe/.venv/lib/python3.7/site-packages/sklearn/utils/validation.py\u001b[0m in \u001b[0;36mcheck_consistent_length\u001b[0;34m(*arrays)\u001b[0m\n\u001b[1;32m    206\u001b[0m     \"\"\"\n\u001b[1;32m    207\u001b[0m \u001b[0;34m\u001b[0m\u001b[0m\n\u001b[0;32m--> 208\u001b[0;31m     \u001b[0mlengths\u001b[0m \u001b[0;34m=\u001b[0m \u001b[0;34m[\u001b[0m\u001b[0m_num_samples\u001b[0m\u001b[0;34m(\u001b[0m\u001b[0mX\u001b[0m\u001b[0;34m)\u001b[0m \u001b[0;32mfor\u001b[0m \u001b[0mX\u001b[0m \u001b[0;32min\u001b[0m \u001b[0marrays\u001b[0m \u001b[0;32mif\u001b[0m \u001b[0mX\u001b[0m \u001b[0;32mis\u001b[0m \u001b[0;32mnot\u001b[0m \u001b[0;32mNone\u001b[0m\u001b[0;34m]\u001b[0m\u001b[0;34m\u001b[0m\u001b[0;34m\u001b[0m\u001b[0m\n\u001b[0m\u001b[1;32m    209\u001b[0m     \u001b[0muniques\u001b[0m \u001b[0;34m=\u001b[0m \u001b[0mnp\u001b[0m\u001b[0;34m.\u001b[0m\u001b[0munique\u001b[0m\u001b[0;34m(\u001b[0m\u001b[0mlengths\u001b[0m\u001b[0;34m)\u001b[0m\u001b[0;34m\u001b[0m\u001b[0;34m\u001b[0m\u001b[0m\n\u001b[1;32m    210\u001b[0m     \u001b[0;32mif\u001b[0m \u001b[0mlen\u001b[0m\u001b[0;34m(\u001b[0m\u001b[0muniques\u001b[0m\u001b[0;34m)\u001b[0m \u001b[0;34m>\u001b[0m \u001b[0;36m1\u001b[0m\u001b[0;34m:\u001b[0m\u001b[0;34m\u001b[0m\u001b[0;34m\u001b[0m\u001b[0m\n",
      "\u001b[0;32m~/vu/machine-learning/kobe/.venv/lib/python3.7/site-packages/sklearn/utils/validation.py\u001b[0m in \u001b[0;36m<listcomp>\u001b[0;34m(.0)\u001b[0m\n\u001b[1;32m    206\u001b[0m     \"\"\"\n\u001b[1;32m    207\u001b[0m \u001b[0;34m\u001b[0m\u001b[0m\n\u001b[0;32m--> 208\u001b[0;31m     \u001b[0mlengths\u001b[0m \u001b[0;34m=\u001b[0m \u001b[0;34m[\u001b[0m\u001b[0m_num_samples\u001b[0m\u001b[0;34m(\u001b[0m\u001b[0mX\u001b[0m\u001b[0;34m)\u001b[0m \u001b[0;32mfor\u001b[0m \u001b[0mX\u001b[0m \u001b[0;32min\u001b[0m \u001b[0marrays\u001b[0m \u001b[0;32mif\u001b[0m \u001b[0mX\u001b[0m \u001b[0;32mis\u001b[0m \u001b[0;32mnot\u001b[0m \u001b[0;32mNone\u001b[0m\u001b[0;34m]\u001b[0m\u001b[0;34m\u001b[0m\u001b[0;34m\u001b[0m\u001b[0m\n\u001b[0m\u001b[1;32m    209\u001b[0m     \u001b[0muniques\u001b[0m \u001b[0;34m=\u001b[0m \u001b[0mnp\u001b[0m\u001b[0;34m.\u001b[0m\u001b[0munique\u001b[0m\u001b[0;34m(\u001b[0m\u001b[0mlengths\u001b[0m\u001b[0;34m)\u001b[0m\u001b[0;34m\u001b[0m\u001b[0;34m\u001b[0m\u001b[0m\n\u001b[1;32m    210\u001b[0m     \u001b[0;32mif\u001b[0m \u001b[0mlen\u001b[0m\u001b[0;34m(\u001b[0m\u001b[0muniques\u001b[0m\u001b[0;34m)\u001b[0m \u001b[0;34m>\u001b[0m \u001b[0;36m1\u001b[0m\u001b[0;34m:\u001b[0m\u001b[0;34m\u001b[0m\u001b[0;34m\u001b[0m\u001b[0m\n",
      "\u001b[0;32m~/vu/machine-learning/kobe/.venv/lib/python3.7/site-packages/sklearn/utils/validation.py\u001b[0m in \u001b[0;36m_num_samples\u001b[0;34m(x)\u001b[0m\n\u001b[1;32m    150\u001b[0m         \u001b[0;32mif\u001b[0m \u001b[0mlen\u001b[0m\u001b[0;34m(\u001b[0m\u001b[0mx\u001b[0m\u001b[0;34m.\u001b[0m\u001b[0mshape\u001b[0m\u001b[0;34m)\u001b[0m \u001b[0;34m==\u001b[0m \u001b[0;36m0\u001b[0m\u001b[0;34m:\u001b[0m\u001b[0;34m\u001b[0m\u001b[0;34m\u001b[0m\u001b[0m\n\u001b[1;32m    151\u001b[0m             raise TypeError(\"Singleton array %r cannot be considered\"\n\u001b[0;32m--> 152\u001b[0;31m                             \" a valid collection.\" % x)\n\u001b[0m\u001b[1;32m    153\u001b[0m         \u001b[0;31m# Check that shape is returning an integer or default to len\u001b[0m\u001b[0;34m\u001b[0m\u001b[0;34m\u001b[0m\u001b[0;34m\u001b[0m\u001b[0m\n\u001b[1;32m    154\u001b[0m         \u001b[0;31m# Dask dataframes may not return numeric shape[0] value\u001b[0m\u001b[0;34m\u001b[0m\u001b[0;34m\u001b[0m\u001b[0;34m\u001b[0m\u001b[0m\n",
      "\u001b[0;31mTypeError\u001b[0m: Singleton array array(<bound method DataFrame.to_numpy of               action_type combined_shot_type   game_date  game_event_id  \\\n1               Jump Shot          Jump Shot  2000-10-31             12   \n2               Jump Shot          Jump Shot  2000-10-31             35   \n3               Jump Shot          Jump Shot  2000-10-31             43   \n4       Driving Dunk Shot               Dunk  2000-10-31            155   \n5               Jump Shot          Jump Shot  2000-10-31            244   \n...                   ...                ...         ...            ...   \n30691  Driving Layup Shot              Layup  2000-06-19            382   \n30692           Jump Shot          Jump Shot  2000-06-19            397   \n30694   Running Jump Shot          Jump Shot  2000-06-19            426   \n30695           Jump Shot          Jump Shot  2000-06-19            448   \n30696           Jump Shot          Jump Shot  2000-06-19            471   \n\n        game_id      lat  loc_x  loc_y       lon      matchup  ...   season  \\\n1      20000012  34.0443   -157      0 -118.4268    LAL @ POR  ...  2000-01   \n2      20000012  33.9093   -101    135 -118.3708    LAL @ POR  ...  2000-01   \n3      20000012  33.8693    138    175 -118.1318    LAL @ POR  ...  2000-01   \n4      20000012  34.0443      0      0 -118.2698    LAL @ POR  ...  2000-01   \n5      20000012  34.0553   -145    -11 -118.4148    LAL @ POR  ...  2000-01   \n...         ...      ...    ...    ...       ...          ...  ...      ...   \n30691  49900088  34.0443      0      0 -118.2698  LAL vs. IND  ...  1999-00   \n30692  49900088  33.9963      1     48 -118.2688  LAL vs. IND  ...  1999-00   \n30694  49900088  33.8783   -134    166 -118.4038  LAL vs. IND  ...  1999-00   \n30695  49900088  33.7773     31    267 -118.2388  LAL vs. IND  ...  1999-00   \n30696  49900088  33.9723      1     72 -118.2688  LAL vs. IND  ...  1999-00   \n\n      seconds_remaining  shot_distance  shot_id       shot_type  \\\n1                    22             15        2  2PT Field Goal   \n2                    45             16        3  2PT Field Goal   \n3                    52             22        4  2PT Field Goal   \n4                    19              0        5  2PT Field Goal   \n5                    32             14        6  2PT Field Goal   \n...                 ...            ...      ...             ...   \n30691                 4              0    30692  2PT Field Goal   \n30692                 5              4    30693  2PT Field Goal   \n30694                28             21    30695  2PT Field Goal   \n30695                10             26    30696  3PT Field Goal   \n30696                39              7    30697  2PT Field Goal   \n\n              shot_zone_area        shot_zone_basic  shot_zone_range  \\\n1               Left Side(L)              Mid-Range         8-16 ft.   \n2       Left Side Center(LC)              Mid-Range        16-24 ft.   \n3      Right Side Center(RC)              Mid-Range        16-24 ft.   \n4                  Center(C)        Restricted Area  Less Than 8 ft.   \n5               Left Side(L)              Mid-Range         8-16 ft.   \n...                      ...                    ...              ...   \n30691              Center(C)        Restricted Area  Less Than 8 ft.   \n30692              Center(C)  In The Paint (Non-RA)  Less Than 8 ft.   \n30694   Left Side Center(LC)              Mid-Range        16-24 ft.   \n30695              Center(C)      Above the Break 3          24+ ft.   \n30696              Center(C)  In The Paint (Non-RA)  Less Than 8 ft.   \n\n          team_id           team_name  \n1      1610612747  Los Angeles Lakers  \n2      1610612747  Los Angeles Lakers  \n3      1610612747  Los Angeles Lakers  \n4      1610612747  Los Angeles Lakers  \n5      1610612747  Los Angeles Lakers  \n...           ...                 ...  \n30691  1610612747  Los Angeles Lakers  \n30692  1610612747  Los Angeles Lakers  \n30694  1610612747  Los Angeles Lakers  \n30695  1610612747  Los Angeles Lakers  \n30696  1610612747  Los Angeles Lakers  \n\n[25697 rows x 24 columns]>, dtype=object) cannot be considered a valid collection."
     ]
    }
   ],
   "source": [
    "for train_index, test_index in splits.split(X):\n",
    "    train = X[train_index]\n",
    "#     test = X[test_index]\n",
    "\n",
    "#     print('Observations: %d' % (len(train) + len(test)))\n",
    "#     print('Training Observations: %d' % (len(train)))\n",
    "#     print('Testing Observations: %d' % (len(test)))\n",
    "\n",
    "#     pyplot.subplot(310 + index)\n",
    "#     pyplot.plot(train)\n",
    "#     pyplot.plot([None for i in train] + [x for x in test])\n",
    "#     index += 1\n",
    "\n",
    "pyplot.show()"
   ]
  },
  {
   "cell_type": "code",
   "execution_count": 4,
   "metadata": {},
   "outputs": [],
   "source": [
    "from sklearn.model_selection import StratifiedKFold\n",
    "import numpy as np\n",
    "import pandas as pd\n"
   ]
  },
  {
   "cell_type": "code",
   "execution_count": null,
   "metadata": {},
   "outputs": [],
   "source": [
    "# fix random seed for reproducibility\n",
    "seed = 7\n",
    "numpy.random.seed(seed)"
   ]
  },
  {
   "cell_type": "code",
   "execution_count": 18,
   "metadata": {},
   "outputs": [],
   "source": [
    "df = pd.read_csv('../data/data.csv')"
   ]
  },
  {
   "cell_type": "code",
   "execution_count": 19,
   "metadata": {},
   "outputs": [],
   "source": [
    "# split into input (X) and output (Y) variables\n",
    "X = df[df.columns.difference(['shot_made_flag'])]\n",
    "Y = df['shot_made_flag']"
   ]
  },
  {
   "cell_type": "code",
   "execution_count": 24,
   "metadata": {},
   "outputs": [
    {
     "name": "stdout",
     "output_type": "stream",
     "text": [
      "(30697, 25)\n",
      "(30697, 24)\n",
      "(30697,)\n"
     ]
    }
   ],
   "source": [
    "print(df.shape)\n",
    "print(X.shape)\n",
    "print(Y.shape)"
   ]
  },
  {
   "cell_type": "code",
   "execution_count": null,
   "metadata": {},
   "outputs": [],
   "source": [
    "# define 10-fold cross validation test harness\n",
    "kfold = StratifiedKFold(n_splits=5, shuffle=True, random_state=seed)\n",
    "cvscores = []\n",
    "\n",
    "for train, test in kfold.split(X, Y):\n",
    "# create model\n",
    "# \tmodel = Sequential()\n",
    "# \tmodel.add(Dense(12, input_dim=8, activation='relu'))\n",
    "# \tmodel.add(Dense(8, activation='relu'))\n",
    "# \tmodel.add(Dense(1, activation='sigmoid'))\n",
    "# \t# Compile model\n",
    "# \tmodel.compile(loss='binary_crossentropy', optimizer='adam', metrics=['accuracy'])\n",
    "# \t# Fit the model\n",
    "# \tmodel.fit(X[train], Y[train], epochs=150, batch_size=10, verbose=0)\n",
    "# \t# evaluate the model\n",
    "# \tscores = model.evaluate(X[test], Y[test], verbose=0)\n",
    "# \tprint(\"%s: %.2f%%\" % (model.metrics_names[1], scores[1]*100))\n",
    "\tcvscores.append(scores[1] * 100)\n",
    "    \n",
    "print(\"%.2f%% (+/- %.2f%%)\" % (numpy.mean(cvscores), numpy.std(cvscores)))"
   ]
  }
 ],
 "metadata": {
  "kernelspec": {
   "display_name": "kobe",
   "language": "python",
   "name": "kobe"
  },
  "language_info": {
   "codemirror_mode": {
    "name": "ipython",
    "version": 3
   },
   "file_extension": ".py",
   "mimetype": "text/x-python",
   "name": "python",
   "nbconvert_exporter": "python",
   "pygments_lexer": "ipython3",
   "version": "3.7.6"
  }
 },
 "nbformat": 4,
 "nbformat_minor": 4
}
