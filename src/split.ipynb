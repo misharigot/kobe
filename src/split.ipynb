{
 "cells": [
  {
   "cell_type": "markdown",
   "metadata": {},
   "source": [
    "# This notebook does time series cross validation."
   ]
  },
  {
   "cell_type": "code",
   "execution_count": 221,
   "metadata": {},
   "outputs": [],
   "source": [
    "import pandas as pd\n",
    "import numpy as np\n",
    "from sklearn.model_selection import TimeSeriesSplit"
   ]
  },
  {
   "cell_type": "code",
   "execution_count": 222,
   "metadata": {},
   "outputs": [],
   "source": [
    "DATA_PATH = '../data/data.csv'\n",
    "df = pd.read_csv(DATA_PATH)"
   ]
  },
  {
   "cell_type": "code",
   "execution_count": 277,
   "metadata": {},
   "outputs": [
    {
     "name": "stdout",
     "output_type": "stream",
     "text": [
      "5\n",
      "   0\n",
      "0  1\n",
      "1  2\n",
      "2  3\n",
      "   0\n",
      "3  4\n",
      "4  5\n"
     ]
    }
   ],
   "source": [
    "start = 2\n",
    "temp = pd.DataFrame([1,2,3,4,5])\n",
    "a = temp.loc[:start].copy()\n",
    "b = temp.loc[start + 1:].copy()\n",
    "\n",
    "print(len(temp))\n",
    "print(a)\n",
    "print(b)"
   ]
  },
  {
   "cell_type": "code",
   "execution_count": 223,
   "metadata": {},
   "outputs": [
    {
     "data": {
      "text/plain": [
       "(25697, 25)"
      ]
     },
     "execution_count": 223,
     "metadata": {},
     "output_type": "execute_result"
    }
   ],
   "source": [
    "# Only obtain the labeled rows\n",
    "df = df[~df['shot_made_flag'].isnull()]\n",
    "df.shape"
   ]
  },
  {
   "cell_type": "code",
   "execution_count": 224,
   "metadata": {},
   "outputs": [],
   "source": [
    "def extract_test_set(df, split=0.8):\n",
    "    \"\"\"Returns a tuple with the train/validation and test set on a given split.\n",
    "    \"\"\"\n",
    "    n_rows = df.shape[0]\n",
    "    start = int(n_rows * split)\n",
    "    \n",
    "    train_validation_set = df[:start]\n",
    "    test_set = df[start:]\n",
    "    \n",
    "    assert train_validation_set.shape[0] + test_set.shape[0] == n_rows\n",
    "    return train_validation_set, test_set\n",
    "    \n",
    "train_validation_set, test_set = extract_test_set(df)"
   ]
  },
  {
   "cell_type": "code",
   "execution_count": 228,
   "metadata": {},
   "outputs": [
    {
     "name": "stdout",
     "output_type": "stream",
     "text": [
      "5140\n"
     ]
    }
   ],
   "source": [
    "print(len(test_set))"
   ]
  },
  {
   "cell_type": "code",
   "execution_count": 225,
   "metadata": {},
   "outputs": [],
   "source": [
    "# split into input (X) and output (Y) variables\n",
    "X = train_validation_set[train_validation_set.columns.difference(['shot_made_flag'])]\n",
    "Y = train_validation_set['shot_made_flag']"
   ]
  },
  {
   "cell_type": "code",
   "execution_count": 229,
   "metadata": {},
   "outputs": [],
   "source": [
    "def train_validation_split(X: pd.DataFrame, verbose=False):\n",
    "    splits = TimeSeriesSplit(n_splits=3)\n",
    "    X.loc[:, 'index'] = X.index  # Add dataframe index as a column\n",
    "    X = X.to_numpy()\n",
    "    index_column_number = 24  # Column number of the index column\n",
    "    \n",
    "    for train_index, validation_index in splits.split(X):\n",
    "        train = X[train_index]\n",
    "        validation = X[validation_index]\n",
    "        \n",
    "        if verbose:\n",
    "            print(train[:, index_column_number])\n",
    "            print(validation[:, index_column_number])\n",
    "\n",
    "            print(f'Observations: {len(train) + len(validation)}')\n",
    "            print(f'Training Observations: {len(train)}'\n",
    "                  f' First index: {train[0][index_column_number]} Last index: {train[len(train) - 1][index_column_number]}')\n",
    "            print(f'Validation Observations: {len(validation)}'\n",
    "                  f' First index: {validation[0][index_column_number]} Last index: {validation[len(validation) - 1][index_column_number]}\\n')\n",
    "        yield train, validation"
   ]
  },
  {
   "cell_type": "code",
   "execution_count": 230,
   "metadata": {},
   "outputs": [
    {
     "name": "stdout",
     "output_type": "stream",
     "text": [
      "[1 2 3 ... 6118 6119 6120]\n",
      "[6121 6122 6124 ... 12269 12270 12271]\n",
      "Observations: 10279\n",
      "Training Observations: 5140 First index: 1 Last index: 6120\n",
      "Validation Observations: 5139 First index: 6121 Last index: 12271\n",
      "\n",
      "[1 2 3 ... 12269 12270 12271]\n",
      "[12272 12273 12274 ... 18385 18386 18387]\n",
      "Observations: 15418\n",
      "Training Observations: 10279 First index: 1 Last index: 12271\n",
      "Validation Observations: 5139 First index: 12272 Last index: 18387\n",
      "\n",
      "[1 2 3 ... 18385 18386 18387]\n",
      "[18388 18389 18391 ... 24533 24534 24535]\n",
      "Observations: 20557\n",
      "Training Observations: 15418 First index: 1 Last index: 18387\n",
      "Validation Observations: 5139 First index: 18388 Last index: 24535\n",
      "\n"
     ]
    }
   ],
   "source": [
    "# Example usage\n",
    "\n",
    "accs = []\n",
    "\n",
    "for train, validation in train_validation_split(X, verbose=True):\n",
    "    pass\n",
    "    # print(train, validation)\n",
    "#     train = preprocess(train)\n",
    "#     validation = preprocess(validation)\n",
    "    \n",
    "#     model = knn.fit(train, Y_train)\n",
    "#     accuracy = model.validate(validation, Y_validation)\n",
    "#     accs.append(accuracy)\n",
    "    \n",
    "# total_accuracy_k1 = accs.avg()\n",
    "# total_accuracy_k2 = accs.avg()\n",
    "# total_accuracy_k3 = accs.avg()\n",
    "\n",
    "# best = max([total_accuracy_k1,total_accuracy_k2,total_accuracy_k3 ])\n",
    "\n",
    "# best_model.validate(test, y_test)\n",
    "\n",
    "# # FINAL SCORE!!!"
   ]
  },
  {
   "cell_type": "code",
   "execution_count": null,
   "metadata": {},
   "outputs": [],
   "source": [
    "split = Split(csv_path='../data/data.csv')\n",
    "\n",
    "for train, validation in split.train_validation_split():\n",
    "    # do stuff\n",
    "    pass\n",
    "\n",
    "\n",
    "best_model.validate(split.test_set, split.test_set['shot_made_flag'])"
   ]
  }
 ],
 "metadata": {
  "kernelspec": {
   "display_name": "kobe",
   "language": "python",
   "name": "kobe"
  },
  "language_info": {
   "codemirror_mode": {
    "name": "ipython",
    "version": 3
   },
   "file_extension": ".py",
   "mimetype": "text/x-python",
   "name": "python",
   "nbconvert_exporter": "python",
   "pygments_lexer": "ipython3",
   "version": "3.7.6"
  }
 },
 "nbformat": 4,
 "nbformat_minor": 4
}
