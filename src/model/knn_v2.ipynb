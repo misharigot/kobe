{
 "cells": [
  {
   "cell_type": "markdown",
   "metadata": {
    "colab_type": "text",
    "id": "view-in-github"
   },
   "source": [
    "<a href=\"https://colab.research.google.com/github/misharigot/kobe/blob/master/src/model/model.ipynb\" target=\"_parent\"><img src=\"https://colab.research.google.com/assets/colab-badge.svg\" alt=\"Open In Colab\"/></a>"
   ]
  },
  {
   "cell_type": "markdown",
   "metadata": {
    "colab_type": "text",
    "id": "Pl5KceKr8HWB"
   },
   "source": [
    "This notebook contains the neural network to predict kobe's shots."
   ]
  },
  {
   "cell_type": "markdown",
   "metadata": {
    "colab_type": "text",
    "id": "PQF73eWo8HWF"
   },
   "source": []
  },
  {
   "cell_type": "code",
   "execution_count": 8,
   "metadata": {
    "colab": {},
    "colab_type": "code",
    "id": "P32ha3sG8HWH",
    "outputId": "57c6a5d5-0c5d-4301-d86c-be20ad40023d",
    "pycharm": {
     "is_executing": true
    }
   },
   "outputs": [],
   "source": [
    "import sys; sys.path.insert(0, '..')  # Needed to make the import below work\n",
    "\n",
    "from multiple_train_test_splits import MultipleTrainTestSplits\n",
    "\n",
    "import numpy as np\n",
    "import pandas as pd\n",
    "\n",
    "from keras.models import Sequential\n",
    "from keras.layers import Dense\n",
    "from sklearn import preprocessing\n",
    "\n",
    "\n",
    "import numpy as np\n",
    "import csv\n",
    "import pandas as pd\n",
    "from scipy import stats\n",
    "\n",
    "from keras.models import Sequential\n",
    "from keras.layers import Dense\n",
    "import keras\n",
    "from sklearn import preprocessing\n",
    "import tensorflow as ft\n",
    "\n",
    "from sklearn.metrics import accuracy_score\n",
    "from sklearn.neighbors import KNeighborsClassifier\n",
    "from mlxtend.plotting import plot_decision_regions\n",
    "import matplotlib.pyplot as plt"
   ]
  },
  {
   "cell_type": "code",
   "execution_count": 9,
   "metadata": {
    "pycharm": {
     "is_executing": true
    }
   },
   "outputs": [],
   "source": [
    "def combine_time(df: pd.DataFrame) -> pd.DataFrame:\n",
    "    \"\"\"Combine the minutes and seconds remaining columns into one column.\n",
    "    \"\"\"\n",
    "    df['minutes_remaining'] = df['minutes_remaining'].astype(int)\n",
    "    df['seconds_remaining'] = df['seconds_remaining'].astype(int)\n",
    "\n",
    "    # Combine minutes and seconds remaining into decimal minutes remaining, e.g. 6.5 for 6 mins and 30 secs.\n",
    "    df['time_remaining'] = round(df['minutes_remaining'] + (df['seconds_remaining'] / 60), 2)\n",
    "    return df"
   ]
  },
  {
   "cell_type": "code",
   "execution_count": 10,
   "metadata": {
    "pycharm": {
     "is_executing": true
    }
   },
   "outputs": [],
   "source": [
    "def one_hot_encode(df: pd.DataFrame, encoder: preprocessing.OneHotEncoder = None) -> pd.DataFrame:\n",
    "    \"\"\"One-hot encode all categorical columns.\n",
    "    Optionally provide an encoder. Use the training set encoder to one-hot encode the test set.\n",
    "    \"\"\"\n",
    "     # Categorize all columns based on their data type\n",
    "    categorical_columns = [\n",
    "        'action_type',\n",
    "        'combined_shot_type',\n",
    "        'game_event_id', # Meaning?\n",
    "        'game_id',\n",
    "        'season',\n",
    "        'shot_type',\n",
    "        'shot_zone_area',\n",
    "        'shot_zone_basic',\n",
    "        'shot_zone_range',\n",
    "        'team_id',\n",
    "        'team_name',\n",
    "        'matchup',\n",
    "        'opponent'\n",
    "    ]\n",
    "\n",
    "    temporal_columns = [\n",
    "        'game_date'\n",
    "    ]\n",
    "\n",
    "    remaining_columns = [\n",
    "        'lat',\n",
    "        'loc_x',\n",
    "        'loc_y',\n",
    "        'lon',\n",
    "        'period',\n",
    "        'shot_distance',\n",
    "        'time_remaining',\n",
    "        'shot_made_flag'  # y label\n",
    "    ]\n",
    "\n",
    "    excluded_columns = [\n",
    "        'shot_id',            # Just an auto-increment id, does not mean anything\n",
    "        'minutes_remaining',  # Not needed, since we use the engineered field 'time_remaining'\n",
    "        'seconds_remaining'   # Not needed, since we use the engineered field 'time_remaining'\n",
    "    ]\n",
    "\n",
    "    # Convert relevant columns to categorical columns\n",
    "    df[categorical_columns] = df[categorical_columns].astype('category')\n",
    "    df_with_only_categoricals = df[categorical_columns]\n",
    "\n",
    "    # One hot encode categorical columns\n",
    "    if encoder is None:\n",
    "        encoder = preprocessing.OneHotEncoder(handle_unknown='ignore')\n",
    "        encoder.fit(df_with_only_categoricals)\n",
    "    one_hot_encoded_df = pd.DataFrame(encoder.transform(df_with_only_categoricals).toarray())\n",
    "    \n",
    "\n",
    "    # Combine the one hot encoded part of the df with the remaining df\n",
    "    non_categorical_df = df[remaining_columns]\n",
    "    resulting_df = pd.concat([one_hot_encoded_df, non_categorical_df], axis=1)\n",
    "    return resulting_df, encoder"
   ]
  },
  {
   "cell_type": "code",
   "execution_count": 11,
   "metadata": {
    "pycharm": {
     "is_executing": true
    }
   },
   "outputs": [],
   "source": [
    "def get_x(data: pd.DataFrame) -> pd.DataFrame:\n",
    "    \"\"\"Returns the features.\n",
    "    \"\"\"\n",
    "    X = data.drop(columns=['shot_made_flag'])\n",
    "    return X\n",
    "\n",
    "def get_y(data: pd.DataFrame) -> pd.Series:\n",
    "    \"\"\"Returns the target.\n",
    "    \"\"\"\n",
    "    Y = data['shot_made_flag'].copy()\n",
    "    return Y\n"
   ]
  },
  {
   "cell_type": "code",
   "execution_count": 12,
   "metadata": {
    "pycharm": {
     "is_executing": true
    }
   },
   "outputs": [],
   "source": [
    "def preprocess(data: pd.DataFrame, encoder:preprocessing.OneHotEncoder = None) -> np.array:\n",
    "    \"\"\"Preprocess the raw kobe data from Kaggle.\n",
    "    Optionally provide an encoder. Use the training set encoder to one-hot encode the test set.\n",
    "    \"\"\"\n",
    "    df = combine_time(data)\n",
    "    df, encoder = one_hot_encode(df, encoder)\n",
    "    \n",
    "    return df, encoder"
   ]
  },
  {
   "cell_type": "code",
   "execution_count": 23,
   "metadata": {
    "colab": {},
    "colab_type": "code",
    "id": "5sbi8PrU8HXm",
    "outputId": "79b3a233-10c7-4e46-fe67-a71c3d7917b1",
    "pycharm": {
     "is_executing": true
    }
   },
   "outputs": [
    {
     "name": "stdout",
     "output_type": "stream",
     "text": [
      "\n",
      "Loop: 1 iteration 1 accuracy  0.545826036193812\n",
      "Loop: 1 iteration 2 accuracy  0.5325938898618409\n",
      "Loop: 1 iteration 3 accuracy  0.562560809496011\n",
      "Average per k: 0.5469935785172213\n",
      "\n",
      "Loop: 2 iteration 1 accuracy  0.568398521113057\n",
      "Loop: 2 iteration 2 accuracy  0.5539988324576766\n",
      "Loop: 2 iteration 3 accuracy  0.5899980540961276\n",
      "Average per k: 0.570798469222287\n",
      "\n",
      "Loop: 3 iteration 1 accuracy  0.5613932671726016\n",
      "Loop: 3 iteration 2 accuracy  0.5471881689044561\n",
      "Loop: 3 iteration 3 accuracy  0.5682039307258221\n",
      "Average per k: 0.5589284556009599\n",
      "\n",
      "Loop: 4 iteration 1 accuracy  0.5765713173769216\n",
      "Loop: 4 iteration 2 accuracy  0.5656742556917689\n",
      "Loop: 4 iteration 3 accuracy  0.597003308036583\n",
      "Average per k: 0.5797496270350911\n",
      "\n",
      "Loop: 5 iteration 1 accuracy  0.5643121229811248\n",
      "Loop: 5 iteration 2 accuracy  0.5565285074917299\n",
      "Loop: 5 iteration 3 accuracy  0.5722903288577544\n",
      "Average per k: 0.5643769864435364\n",
      "\n",
      "Loop: 6 iteration 1 accuracy  0.583381980930142\n",
      "Loop: 6 iteration 2 accuracy  0.5682039307258221\n",
      "Loop: 6 iteration 3 accuracy  0.5962249464876435\n",
      "Average per k: 0.5826036193812025\n",
      "\n",
      "Loop: 7 iteration 1 accuracy  0.5662580268534735\n",
      "Loop: 7 iteration 2 accuracy  0.5648958941428294\n",
      "Loop: 7 iteration 3 accuracy  0.57890640202374\n",
      "Average per k: 0.5700201076733477\n",
      "\n",
      "Loop: 8 iteration 1 accuracy  0.5791009924109749\n",
      "Loop: 8 iteration 2 accuracy  0.5697606538237011\n",
      "Loop: 8 iteration 3 accuracy  0.6016734773302199\n",
      "Average per k: 0.5835117078549653\n",
      "\n",
      "Loop: 9 iteration 1 accuracy  0.5755983654407473\n",
      "Loop: 9 iteration 2 accuracy  0.5660634364662386\n",
      "Loop: 9 iteration 3 accuracy  0.5827982097684374\n",
      "Average per k: 0.5748200038918078\n",
      "\n",
      "Loop: 10 iteration 1 accuracy  0.5874683790620744\n",
      "Loop: 10 iteration 2 accuracy  0.5724849192449893\n",
      "Loop: 10 iteration 3 accuracy  0.6042031523642732\n",
      "Average per k: 0.588052150223779\n"
     ]
    }
   ],
   "source": [
    "mtts = MultipleTrainTestSplits(csv_path='../../data/data.csv')\n",
    "\n",
    "test_set = mtts.test_set\n",
    "\n",
    "loss_and_metrics = []\n",
    "\n",
    "k_range = range(1, 11)\n",
    "\n",
    "\n",
    "for k in k_range:\n",
    "    scores = []\n",
    "    i = 0\n",
    "    print()\n",
    "    for train_set, validation_set in mtts.train_validation_split(as_dataframe=True):\n",
    "        i += 1\n",
    "        # Preprocess the training set\n",
    "        preprocessed_train_set, one_hot_encoder = preprocess(train_set)\n",
    "        # Split the features from the target\n",
    "        x_train = get_x(preprocessed_train_set)\n",
    "        y_train = get_y(preprocessed_train_set)\n",
    "\n",
    "        # Preprocess the validation set (use the one hot encoder that was fit on the training set)\n",
    "        preprocessed_validation_set, _ = preprocess(validation_set, encoder=one_hot_encoder)\n",
    "        # Split the features from the target\n",
    "        x_validation = get_x(preprocessed_validation_set)\n",
    "        y_validation = get_y(preprocessed_validation_set)\n",
    "\n",
    "        knn = KNeighborsClassifier(k) # We set the number of neighbors to 15\n",
    "        knn.fit(x_train, y_train.astype('int'))\n",
    "        y_predicted = knn.predict(x_validation)\n",
    "        scores.append(accuracy_score(y_validation.astype('int'), y_predicted.astype('int')))\n",
    "\n",
    "        print('Loop:', k, 'iteration', i, 'accuracy ', accuracy_score(y_validation.astype('int'), y_predicted.astype('int')))\n",
    "    avg_accuracy = sum(scores) / len(scores)\n",
    "    print('Average per k:',avg_accuracy)\n",
    "    \n"
   ]
  },
  {
   "cell_type": "code",
   "execution_count": null,
   "metadata": {
    "pycharm": {
     "is_executing": true
    }
   },
   "outputs": [],
   "source": [
    "def print_average_metrics(loss_and_metrics):\n",
    "    # Get average accuracy\n",
    "    accuracies = []\n",
    "    for row in loss_and_metrics:\n",
    "        accuracies.append(row[1])\n",
    "    avg_accuracy = sum(accuracies) / len(accuracies)\n",
    "\n",
    "    print('Average accuracy:', round(avg_accuracy, 4))\n",
    "\n",
    "\n",
    "print_average_metrics(loss_and_metrics)"
   ]
  },
  {
   "cell_type": "code",
   "execution_count": null,
   "metadata": {
    "colab": {},
    "colab_type": "code",
    "id": "FXdEfk8U8HXz",
    "outputId": "93c02ec8-0302-466c-98da-328924921432",
    "pycharm": {
     "is_executing": true
    }
   },
   "outputs": [],
   "source": [
    "classes = model.predict(x_validation, batch_size=128)\n",
    "classes"
   ]
  },
  {
   "cell_type": "code",
   "execution_count": null,
   "metadata": {
    "pycharm": {
     "is_executing": true
    }
   },
   "outputs": [],
   "source": [
    "   \n",
    "        \n",
    "#     print('Loop:', 3 ,'accuracy ', accuracy_score(y_validation, y_predicted))\n",
    "    \n",
    "    # try K=1 through K=X and note the testing accuracy\n",
    "#     k_range = range(1, 4)\n",
    "\n",
    "\n",
    "#     for k in k_range:\n",
    "        \n",
    "\n",
    "    #plot_decision_regions(x_train[:500].to_numpy(), y_train.astype(np.integer)[:500].to_numpy(), clf=knn, feature_index = [0,1], res=0.1); # This is a slow classifier, so we reduce the resolution    \n",
    "\n",
    "#     # allow plots to appear within the notebook\n",
    "#     %matplotlib inline\n",
    "\n",
    "#     # plot the relationship between K and testing accuracy\n",
    "#     # plt.plot(x_axis, y_axis)\n",
    "#     plt.plot(k_range, scores)\n",
    "#     plt.xlabel('Value of K for KNN')\n",
    "#     plt.ylabel('Testing Accuracy')\n",
    "\n",
    "    #https://www.ritchieng.com/machine-learning-k-nearest-neighbors-knn/\n",
    "    \n",
    "    \n",
    "    \n",
    "    \n",
    "#     input_dim = x_train.shape[1]  # number of columns (dimensions for the input layer of the model)\n",
    "    \n",
    "#     model = create_model(input_dim=input_dim)\n",
    "#     model.fit(x_train, y_train, epochs=2, batch_size=32)\n",
    "\n",
    "#     loss_and_metrics.append(model.evaluate(x_validation, y_validation, batch_size=128))\n"
   ]
  }
 ],
 "metadata": {
  "colab": {
   "include_colab_link": true,
   "name": "model.ipynb",
   "provenance": []
  },
  "kernelspec": {
   "display_name": "Python 3",
   "language": "python",
   "name": "python3"
  },
  "language_info": {
   "codemirror_mode": {
    "name": "ipython",
    "version": 3
   },
   "file_extension": ".py",
   "mimetype": "text/x-python",
   "name": "python",
   "nbconvert_exporter": "python",
   "pygments_lexer": "ipython3",
   "version": "3.7.4"
  },
  "pycharm": {
   "stem_cell": {
    "cell_type": "raw",
    "metadata": {
     "collapsed": false
    },
    "source": []
   }
  }
 },
 "nbformat": 4,
 "nbformat_minor": 4
}
