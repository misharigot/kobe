{
 "cells": [
  {
   "cell_type": "markdown",
   "metadata": {
    "colab_type": "text",
    "id": "view-in-github"
   },
   "source": [
    "<a href=\"https://colab.research.google.com/github/misharigot/kobe/blob/master/src/model/model.ipynb\" target=\"_parent\"><img src=\"https://colab.research.google.com/assets/colab-badge.svg\" alt=\"Open In Colab\"/></a>"
   ]
  },
  {
   "cell_type": "markdown",
   "metadata": {
    "colab_type": "text",
    "id": "Pl5KceKr8HWB"
   },
   "source": [
    "This notebook contains the neural network to predict kobe's shots."
   ]
  },
  {
   "cell_type": "markdown",
   "metadata": {
    "colab_type": "text",
    "id": "PQF73eWo8HWF"
   },
   "source": []
  },
  {
   "cell_type": "code",
   "execution_count": 4,
   "metadata": {
    "colab": {},
    "colab_type": "code",
    "id": "P32ha3sG8HWH",
    "outputId": "57c6a5d5-0c5d-4301-d86c-be20ad40023d",
    "pycharm": {
     "is_executing": true
    }
   },
   "outputs": [
    {
     "name": "stderr",
     "output_type": "stream",
     "text": [
      "Using TensorFlow backend.\n"
     ]
    }
   ],
   "source": [
    "import sys; sys.path.insert(0, '..')  # Needed to make the import below work\n",
    "\n",
    "from multiple_train_test_splits import MultipleTrainTestSplits\n",
    "\n",
    "import numpy as np\n",
    "import pandas as pd\n",
    "\n",
    "from keras.models import Sequential\n",
    "from keras.layers import Dense\n",
    "from sklearn import preprocessing\n",
    "\n",
    "\n",
    "import numpy as np\n",
    "import csv\n",
    "import pandas as pd\n",
    "from scipy import stats\n",
    "\n",
    "from keras.models import Sequential\n",
    "from keras.layers import Dense\n",
    "import keras\n",
    "from sklearn import preprocessing\n",
    "import tensorflow as ft\n",
    "\n",
    "from sklearn.metrics import accuracy_score\n",
    "from sklearn.neighbors import KNeighborsClassifier\n",
    "from mlxtend.plotting import plot_decision_regions\n",
    "import matplotlib.pyplot as plt"
   ]
  },
  {
   "cell_type": "code",
   "execution_count": 5,
   "metadata": {
    "pycharm": {
     "is_executing": true
    }
   },
   "outputs": [],
   "source": [
    "def combine_time(df: pd.DataFrame) -> pd.DataFrame:\n",
    "    \"\"\"Combine the minutes and seconds remaining columns into one column.\n",
    "    \"\"\"\n",
    "    df['minutes_remaining'] = df['minutes_remaining'].astype(int)\n",
    "    df['seconds_remaining'] = df['seconds_remaining'].astype(int)\n",
    "\n",
    "    # Combine minutes and seconds remaining into decimal minutes remaining, e.g. 6.5 for 6 mins and 30 secs.\n",
    "    df['time_remaining'] = round(df['minutes_remaining'] + (df['seconds_remaining'] / 60), 2)\n",
    "    return df"
   ]
  },
  {
   "cell_type": "code",
   "execution_count": 6,
   "metadata": {
    "pycharm": {
     "is_executing": true
    }
   },
   "outputs": [],
   "source": [
    "def one_hot_encode(df: pd.DataFrame, encoder: preprocessing.OneHotEncoder = None) -> pd.DataFrame:\n",
    "    \"\"\"One-hot encode all categorical columns.\n",
    "    Optionally provide an encoder. Use the training set encoder to one-hot encode the test set.\n",
    "    \"\"\"\n",
    "     # Categorize all columns based on their data type\n",
    "    categorical_columns = [\n",
    "        'action_type',\n",
    "        'combined_shot_type',\n",
    "        'game_event_id', # Meaning?\n",
    "        'game_id',\n",
    "        'season',\n",
    "        'shot_type',\n",
    "        'shot_zone_area',\n",
    "        'shot_zone_basic',\n",
    "        'shot_zone_range',\n",
    "        'team_id',\n",
    "        'team_name',\n",
    "        'matchup',\n",
    "        'opponent'\n",
    "    ]\n",
    "\n",
    "    temporal_columns = [\n",
    "        'game_date'\n",
    "    ]\n",
    "\n",
    "    remaining_columns = [\n",
    "        'lat',\n",
    "        'loc_x',\n",
    "        'loc_y',\n",
    "        'lon',\n",
    "        'period',\n",
    "        'shot_distance',\n",
    "        'time_remaining',\n",
    "        'shot_made_flag'  # y label\n",
    "    ]\n",
    "\n",
    "    excluded_columns = [\n",
    "        'shot_id',            # Just an auto-increment id, does not mean anything\n",
    "        'minutes_remaining',  # Not needed, since we use the engineered field 'time_remaining'\n",
    "        'seconds_remaining'   # Not needed, since we use the engineered field 'time_remaining'\n",
    "    ]\n",
    "\n",
    "    # Convert relevant columns to categorical columns\n",
    "    df[categorical_columns] = df[categorical_columns].astype('category')\n",
    "    df_with_only_categoricals = df[categorical_columns]\n",
    "\n",
    "    # One hot encode categorical columns\n",
    "    if encoder is None:\n",
    "        encoder = preprocessing.OneHotEncoder(handle_unknown='ignore')\n",
    "        encoder.fit(df_with_only_categoricals)\n",
    "    one_hot_encoded_df = pd.DataFrame(encoder.transform(df_with_only_categoricals).toarray())\n",
    "    \n",
    "\n",
    "    # Combine the one hot encoded part of the df with the remaining df\n",
    "    non_categorical_df = df[remaining_columns]\n",
    "    resulting_df = pd.concat([one_hot_encoded_df, non_categorical_df], axis=1)\n",
    "    return resulting_df, encoder"
   ]
  },
  {
   "cell_type": "code",
   "execution_count": 7,
   "metadata": {
    "pycharm": {
     "is_executing": true
    }
   },
   "outputs": [],
   "source": [
    "def get_x(data: pd.DataFrame) -> pd.DataFrame:\n",
    "    \"\"\"Returns the features.\n",
    "    \"\"\"\n",
    "    X = data.drop(columns=['shot_made_flag'])\n",
    "    return X\n",
    "\n",
    "def get_y(data: pd.DataFrame) -> pd.Series:\n",
    "    \"\"\"Returns the target.\n",
    "    \"\"\"\n",
    "    Y = data['shot_made_flag'].copy()\n",
    "    return Y\n"
   ]
  },
  {
   "cell_type": "code",
   "execution_count": 8,
   "metadata": {
    "pycharm": {
     "is_executing": true
    }
   },
   "outputs": [],
   "source": [
    "def preprocess(data: pd.DataFrame, encoder:preprocessing.OneHotEncoder = None) -> np.array:\n",
    "    \"\"\"Preprocess the raw kobe data from Kaggle.\n",
    "    Optionally provide an encoder. Use the training set encoder to one-hot encode the test set.\n",
    "    \"\"\"\n",
    "    df = combine_time(data)\n",
    "    df, encoder = one_hot_encode(df, encoder)\n",
    "    \n",
    "    return df, encoder"
   ]
  },
  {
   "cell_type": "code",
   "execution_count": 15,
   "metadata": {
    "colab": {},
    "colab_type": "code",
    "id": "5sbi8PrU8HXm",
    "outputId": "79b3a233-10c7-4e46-fe67-a71c3d7917b1",
    "pycharm": {
     "is_executing": true
    }
   },
   "outputs": [
    {
     "name": "stdout",
     "output_type": "stream",
     "text": [
      "\n",
      "Loop: 1 iteration 1 accuracy  0.5670363884024129\n",
      "Loop: 1 iteration 2 accuracy  0.5434909515469936\n",
      "Loop: 1 iteration 3 accuracy  0.5380424207044172\n",
      "Average per k: 0.5495232535512745\n",
      "\n",
      "Loop: 2 iteration 1 accuracy  0.5903872348705974\n",
      "Loop: 2 iteration 2 accuracy  0.5680093403385873\n",
      "Loop: 2 iteration 3 accuracy  0.5610040863981319\n",
      "Average per k: 0.5731335538691056\n",
      "\n",
      "Loop: 3 iteration 1 accuracy  0.5660634364662386\n",
      "Loop: 3 iteration 2 accuracy  0.5598365440747227\n",
      "Loop: 3 iteration 3 accuracy  0.5471881689044561\n",
      "Average per k: 0.5576960498151391\n",
      "\n",
      "Loop: 4 iteration 1 accuracy  0.5923331387429461\n",
      "Loop: 4 iteration 2 accuracy  0.572874100019459\n",
      "Loop: 4 iteration 3 accuracy  0.5545826036193812\n",
      "Average per k: 0.5732632807939287\n",
      "\n",
      "Loop: 5 iteration 1 accuracy  0.5750145942790427\n",
      "Loop: 5 iteration 2 accuracy  0.5672309787896478\n",
      "Loop: 5 iteration 3 accuracy  0.5541934228449115\n",
      "Average per k: 0.565479665304534\n",
      "\n",
      "Loop: 6 iteration 1 accuracy  0.5968087176493482\n",
      "Loop: 6 iteration 2 accuracy  0.5769604981513913\n",
      "Loop: 6 iteration 3 accuracy  0.5557501459427904\n",
      "Average per k: 0.57650645391451\n",
      "\n",
      "Loop: 7 iteration 1 accuracy  0.5853278848024908\n",
      "Loop: 7 iteration 2 accuracy  0.5678147499513524\n",
      "Loop: 7 iteration 3 accuracy  0.5582798209768437\n",
      "Average per k: 0.5704741519102289\n",
      "\n",
      "Loop: 8 iteration 1 accuracy  0.6020626581046896\n",
      "Loop: 8 iteration 2 accuracy  0.5769604981513913\n",
      "Loop: 8 iteration 3 accuracy  0.5656742556917689\n",
      "Average per k: 0.5815658039826166\n",
      "\n",
      "Loop: 9 iteration 1 accuracy  0.5899980540961276\n",
      "Loop: 9 iteration 2 accuracy  0.574430823117338\n",
      "Loop: 9 iteration 3 accuracy  0.5611986767853668\n",
      "Average per k: 0.5752091846662775\n",
      "\n",
      "Loop: 10 iteration 1 accuracy  0.6096516832068496\n",
      "Loop: 10 iteration 2 accuracy  0.580463125121619\n",
      "Loop: 10 iteration 3 accuracy  0.5658688460790037\n",
      "Average per k: 0.5853278848024908\n",
      "\n",
      "Loop: 11 iteration 1 accuracy  0.5907764156450671\n",
      "Loop: 11 iteration 2 accuracy  0.5779334500875657\n",
      "Loop: 11 iteration 3 accuracy  0.562366219108776\n",
      "Average per k: 0.5770253616138029\n",
      "\n",
      "Loop: 12 iteration 1 accuracy  0.6038139715898034\n",
      "Loop: 12 iteration 2 accuracy  0.5892196925471882\n",
      "Loop: 12 iteration 3 accuracy  0.5664526172407083\n",
      "Average per k: 0.5864954271259\n",
      "\n",
      "Loop: 13 iteration 1 accuracy  0.6003113446195758\n",
      "Loop: 13 iteration 2 accuracy  0.5847441136407862\n",
      "Loop: 13 iteration 3 accuracy  0.5662580268534735\n",
      "Average per k: 0.5837711617046119\n",
      "\n",
      "Loop: 14 iteration 1 accuracy  0.6154893948238958\n",
      "Loop: 14 iteration 2 accuracy  0.5929169099046507\n",
      "Loop: 14 iteration 3 accuracy  0.5755983654407473\n",
      "Average per k: 0.5946682233897645\n",
      "\n",
      "Loop: 15 iteration 1 accuracy  0.6008951157812804\n",
      "Loop: 15 iteration 2 accuracy  0.5905818252578323\n",
      "Loop: 15 iteration 3 accuracy  0.5666472076279432\n",
      "Average per k: 0.5860413828890186\n",
      "\n",
      "Loop: 16 iteration 1 accuracy  0.6123759486281378\n",
      "Loop: 16 iteration 2 accuracy  0.5929169099046507\n",
      "Loop: 16 iteration 3 accuracy  0.5796847635726795\n",
      "Average per k: 0.5949925407018227\n",
      "\n",
      "Loop: 17 iteration 1 accuracy  0.6071220081727963\n",
      "Loop: 17 iteration 2 accuracy  0.5927223195174158\n",
      "Loop: 17 iteration 3 accuracy  0.573068690406694\n",
      "Average per k: 0.590971006032302\n",
      "\n",
      "Loop: 18 iteration 1 accuracy  0.6178244794707142\n",
      "Loop: 18 iteration 2 accuracy  0.5958357657131738\n",
      "Loop: 18 iteration 3 accuracy  0.5810468962833236\n",
      "Average per k: 0.5982357138224038\n",
      "\n",
      "Loop: 19 iteration 1 accuracy  0.6069274177855614\n",
      "Loop: 19 iteration 2 accuracy  0.5950574041642342\n",
      "Loop: 19 iteration 3 accuracy  0.5785172212492703\n",
      "Average per k: 0.5935006810663553\n",
      "\n",
      "Loop: 20 iteration 1 accuracy  0.6156839852111305\n",
      "Loop: 20 iteration 2 accuracy  0.5927223195174158\n",
      "Loop: 20 iteration 3 accuracy  0.5870791982876046\n",
      "Average per k: 0.5984951676720504\n",
      "\n",
      "Loop: 21 iteration 1 accuracy  0.6084841408834404\n",
      "Loop: 21 iteration 2 accuracy  0.5923331387429461\n",
      "Loop: 21 iteration 3 accuracy  0.5798793539599144\n",
      "Average per k: 0.593565544528767\n",
      "\n",
      "Loop: 22 iteration 1 accuracy  0.6154893948238958\n",
      "Loop: 22 iteration 2 accuracy  0.5929169099046507\n",
      "Loop: 22 iteration 3 accuracy  0.5843549328663165\n",
      "Average per k: 0.5975870791982877\n",
      "\n",
      "Loop: 23 iteration 1 accuracy  0.6069274177855614\n",
      "Loop: 23 iteration 2 accuracy  0.5935006810663553\n",
      "Loop: 23 iteration 3 accuracy  0.5818252578322631\n",
      "Average per k: 0.59408445222806\n",
      "\n",
      "Loop: 24 iteration 1 accuracy  0.6151002140494259\n",
      "Loop: 24 iteration 2 accuracy  0.5958357657131738\n",
      "Loop: 24 iteration 3 accuracy  0.5839657520918466\n",
      "Average per k: 0.5983005772848154\n",
      "\n",
      "Loop: 25 iteration 1 accuracy  0.6110138159174937\n",
      "Loop: 25 iteration 2 accuracy  0.5973924888110528\n",
      "Loop: 25 iteration 3 accuracy  0.5818252578322631\n",
      "Average per k: 0.5967438541869365\n"
     ]
    }
   ],
   "source": [
    "mtts = MultipleTrainTestSplits(csv_path='../../data/data.csv')\n",
    "\n",
    "test_set = mtts.test_set\n",
    "loss_and_metrics = []\n",
    "k_range = range(1, 26)\n",
    "all_averages = []\n",
    "\n",
    "for k in k_range:\n",
    "    scores = []\n",
    "    i = 0\n",
    "    print()\n",
    "    for train_set, validation_set in mtts.train_validation_split(as_dataframe=True):\n",
    "        i += 1\n",
    "        # Preprocess the training set\n",
    "        preprocessed_train_set, one_hot_encoder = preprocess(train_set)\n",
    "        # Split the features from the target\n",
    "        x_train = get_x(preprocessed_train_set)\n",
    "        y_train = get_y(preprocessed_train_set)\n",
    "\n",
    "        # Preprocess the validation set (use the one hot encoder that was fit on the training set)\n",
    "        preprocessed_validation_set, _ = preprocess(validation_set, encoder=one_hot_encoder)\n",
    "        # Split the features from the target\n",
    "        x_validation = get_x(preprocessed_validation_set)\n",
    "        y_validation = get_y(preprocessed_validation_set)\n",
    "\n",
    "        knn = KNeighborsClassifier(k) # We set the number of neighbors to 15\n",
    "        knn.fit(x_train, y_train.astype('int'))\n",
    "        y_predicted = knn.predict(x_validation)\n",
    "        scores.append(accuracy_score(y_validation.astype('int'), y_predicted.astype('int')))\n",
    "\n",
    "        print('Loop:', k, 'iteration', i, 'accuracy ', accuracy_score(y_validation.astype('int'), y_predicted.astype('int')))\n",
    "    avg_accuracy = sum(scores) / len(scores)\n",
    "    all_averages.append(avg_accuracy)\n",
    "    print('Average per k:',avg_accuracy)"
   ]
  },
  {
   "cell_type": "code",
   "execution_count": 16,
   "metadata": {
    "scrolled": true
   },
   "outputs": [
    {
     "data": {
      "text/plain": [
       "Text(0, 0.5, 'Testing Accuracy')"
      ]
     },
     "execution_count": 16,
     "metadata": {},
     "output_type": "execute_result"
    },
    {
     "data": {
      "image/png": "[encoded data removed]",
      "text/plain": [
       "<Figure size 432x288 with 1 Axes>"
      ]
     },
     "metadata": {
      "needs_background": "light"
     },
     "output_type": "display_data"
    }
   ],
   "source": [
    "%matplotlib inline\n",
    "\n",
    "# plot the relationship between K and testing accuracy\n",
    "# plt.plot(x_axis, y_axis)\n",
    "plt.plot(np.array(k_range), np.array(all_averages))\n",
    "plt.xlabel('Value of K for KNN')\n",
    "plt.ylabel('Testing Accuracy')"
   ]
  },
  {
   "cell_type": "code",
   "execution_count": null,
   "metadata": {
    "pycharm": {
     "is_executing": true
    }
   },
   "outputs": [],
   "source": [
    "def print_average_metrics(loss_and_metrics):\n",
    "    # Get average accuracy\n",
    "    accuracies = []\n",
    "    for row in loss_and_metrics:\n",
    "        accuracies.append(row[1])\n",
    "    avg_accuracy = sum(accuracies) / len(accuracies)\n",
    "\n",
    "    print('Average accuracy:', round(avg_accuracy, 4))\n",
    "\n",
    "\n",
    "print_average_metrics(loss_and_metrics)"
   ]
  },
  {
   "cell_type": "code",
   "execution_count": null,
   "metadata": {
    "colab": {},
    "colab_type": "code",
    "id": "FXdEfk8U8HXz",
    "outputId": "93c02ec8-0302-466c-98da-328924921432",
    "pycharm": {
     "is_executing": true
    }
   },
   "outputs": [],
   "source": [
    "classes = model.predict(x_validation, batch_size=128)\n",
    "classes"
   ]
  },
  {
   "cell_type": "code",
   "execution_count": null,
   "metadata": {
    "pycharm": {
     "is_executing": true
    }
   },
   "outputs": [],
   "source": [
    "   \n",
    "        \n",
    "#     print('Loop:', 3 ,'accuracy ', accuracy_score(y_validation, y_predicted))\n",
    "    \n",
    "    # try K=1 through K=X and note the testing accuracy\n",
    "#     k_range = range(1, 4)\n",
    "\n",
    "\n",
    "#     for k in k_range:\n",
    "        \n",
    "\n",
    "    #plot_decision_regions(x_train[:500].to_numpy(), y_train.astype(np.integer)[:500].to_numpy(), clf=knn, feature_index = [0,1], res=0.1); # This is a slow classifier, so we reduce the resolution    \n",
    "\n",
    "#     # allow plots to appear within the notebook\n",
    "#     %matplotlib inline\n",
    "\n",
    "#     # plot the relationship between K and testing accuracy\n",
    "#     # plt.plot(x_axis, y_axis)\n",
    "#     plt.plot(k_range, scores)\n",
    "#     plt.xlabel('Value of K for KNN')\n",
    "#     plt.ylabel('Testing Accuracy')\n",
    "\n",
    "    #https://www.ritchieng.com/machine-learning-k-nearest-neighbors-knn/\n",
    "    \n",
    "    \n",
    "    \n",
    "    \n",
    "#     input_dim = x_train.shape[1]  # number of columns (dimensions for the input layer of the model)\n",
    "    \n",
    "#     model = create_model(input_dim=input_dim)\n",
    "#     model.fit(x_train, y_train, epochs=2, batch_size=32)\n",
    "\n",
    "#     loss_and_metrics.append(model.evaluate(x_validation, y_validation, batch_size=128))\n"
   ]
  }
 ],
 "metadata": {
  "colab": {
   "include_colab_link": true,
   "name": "model.ipynb",
   "provenance": []
  },
  "kernelspec": {
   "display_name": "Python 3",
   "language": "python",
   "name": "python3"
  },
  "language_info": {
   "codemirror_mode": {
    "name": "ipython",
    "version": 3
   },
   "file_extension": ".py",
   "mimetype": "text/x-python",
   "name": "python",
   "nbconvert_exporter": "python",
   "pygments_lexer": "ipython3",
   "version": "3.7.4"
  },
  "pycharm": {
   "stem_cell": {
    "cell_type": "raw",
    "metadata": {
     "collapsed": false
    },
    "source": []
   }
  }
 },
 "nbformat": 4,
 "nbformat_minor": 4
}
