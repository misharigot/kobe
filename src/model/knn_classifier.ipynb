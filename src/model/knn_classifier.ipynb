{
 "cells": [
  {
   "cell_type": "markdown",
   "metadata": {},
   "source": [
    "This notebook contains the K-nearest neighbors algorithm to predict Kobe's shots."
   ]
  },
  {
   "cell_type": "markdown",
   "metadata": {},
   "source": [
    "## TODO: To avoid leakage: method should only train on events that occurred prior to the shot for which you are predicting!\n",
    "\n",
    "For more info on leakage, see:\n",
    "\n",
    "https://www.kaggle.com/dansbecker/data-leakage\n"
   ]
  },
  {
   "cell_type": "code",
   "execution_count": 1,
   "metadata": {
    "pycharm": {
     "is_executing": false
    }
   },
   "outputs": [
    {
     "name": "stderr",
     "text": [
      "Using TensorFlow backend.\n"
     ],
     "output_type": "stream"
    }
   ],
   "source": [
    "import numpy as np\n",
    "import csv\n",
    "import pandas as pd\n",
    "from scipy import stats\n",
    "\n",
    "from keras.models import Sequential\n",
    "from keras.layers import Dense\n",
    "import keras\n",
    "from sklearn import preprocessing\n",
    "import tensorflow as ft\n"
   ]
  },
  {
   "cell_type": "markdown",
   "metadata": {},
   "source": [
    "## Load the data"
   ]
  },
  {
   "cell_type": "code",
   "execution_count": 2,
   "metadata": {
    "pycharm": {
     "is_executing": false
    }
   },
   "outputs": [],
   "source": [
    "df = pd.read_csv('../../data/data.csv')"
   ]
  },
  {
   "cell_type": "code",
   "execution_count": 3,
   "metadata": {
    "pycharm": {
     "is_executing": false
    }
   },
   "outputs": [
    {
     "data": {
      "text/plain": "       game_event_id       game_id           lat         loc_x         loc_y  \\\ncount   30697.000000  3.069700e+04  30697.000000  30697.000000  30697.000000   \nmean      249.190800  2.476407e+07     33.953192      7.110499     91.107535   \nstd       150.003712  7.755175e+06      0.087791    110.124578     87.791361   \nmin         2.000000  2.000001e+07     33.253300   -250.000000    -44.000000   \n25%       110.000000  2.050008e+07     33.884300    -68.000000      4.000000   \n50%       253.000000  2.090035e+07     33.970300      0.000000     74.000000   \n75%       368.000000  2.960047e+07     34.040300     95.000000    160.000000   \nmax       659.000000  4.990009e+07     34.088300    248.000000    791.000000   \n\n                lon  minutes_remaining        period      playoffs  \\\ncount  30697.000000       30697.000000  30697.000000  30697.000000   \nmean    -118.262690           4.885624      2.519432      0.146562   \nstd        0.110125           3.449897      1.153665      0.353674   \nmin     -118.519800           0.000000      1.000000      0.000000   \n25%     -118.337800           2.000000      1.000000      0.000000   \n50%     -118.269800           5.000000      3.000000      0.000000   \n75%     -118.174800           8.000000      3.000000      0.000000   \nmax     -118.021800          11.000000      7.000000      1.000000   \n\n       seconds_remaining  shot_distance  shot_made_flag       team_id  \\\ncount       30697.000000   30697.000000    25697.000000  3.069700e+04   \nmean           28.365085      13.437437        0.446161  1.610613e+09   \nstd            17.478949       9.374189        0.497103  0.000000e+00   \nmin             0.000000       0.000000        0.000000  1.610613e+09   \n25%            13.000000       5.000000        0.000000  1.610613e+09   \n50%            28.000000      15.000000        0.000000  1.610613e+09   \n75%            43.000000      21.000000        1.000000  1.610613e+09   \nmax            59.000000      79.000000        1.000000  1.610613e+09   \n\n            shot_id  \ncount  30697.000000  \nmean   15349.000000  \nstd     8861.604943  \nmin        1.000000  \n25%     7675.000000  \n50%    15349.000000  \n75%    23023.000000  \nmax    30697.000000  ",
      "text/html": "<div>\n<style scoped>\n    .dataframe tbody tr th:only-of-type {\n        vertical-align: middle;\n    }\n\n    .dataframe tbody tr th {\n        vertical-align: top;\n    }\n\n    .dataframe thead th {\n        text-align: right;\n    }\n</style>\n<table border=\"1\" class=\"dataframe\">\n  <thead>\n    <tr style=\"text-align: right;\">\n      <th></th>\n      <th>game_event_id</th>\n      <th>game_id</th>\n      <th>lat</th>\n      <th>loc_x</th>\n      <th>loc_y</th>\n      <th>lon</th>\n      <th>minutes_remaining</th>\n      <th>period</th>\n      <th>playoffs</th>\n      <th>seconds_remaining</th>\n      <th>shot_distance</th>\n      <th>shot_made_flag</th>\n      <th>team_id</th>\n      <th>shot_id</th>\n    </tr>\n  </thead>\n  <tbody>\n    <tr>\n      <th>count</th>\n      <td>30697.000000</td>\n      <td>3.069700e+04</td>\n      <td>30697.000000</td>\n      <td>30697.000000</td>\n      <td>30697.000000</td>\n      <td>30697.000000</td>\n      <td>30697.000000</td>\n      <td>30697.000000</td>\n      <td>30697.000000</td>\n      <td>30697.000000</td>\n      <td>30697.000000</td>\n      <td>25697.000000</td>\n      <td>3.069700e+04</td>\n      <td>30697.000000</td>\n    </tr>\n    <tr>\n      <th>mean</th>\n      <td>249.190800</td>\n      <td>2.476407e+07</td>\n      <td>33.953192</td>\n      <td>7.110499</td>\n      <td>91.107535</td>\n      <td>-118.262690</td>\n      <td>4.885624</td>\n      <td>2.519432</td>\n      <td>0.146562</td>\n      <td>28.365085</td>\n      <td>13.437437</td>\n      <td>0.446161</td>\n      <td>1.610613e+09</td>\n      <td>15349.000000</td>\n    </tr>\n    <tr>\n      <th>std</th>\n      <td>150.003712</td>\n      <td>7.755175e+06</td>\n      <td>0.087791</td>\n      <td>110.124578</td>\n      <td>87.791361</td>\n      <td>0.110125</td>\n      <td>3.449897</td>\n      <td>1.153665</td>\n      <td>0.353674</td>\n      <td>17.478949</td>\n      <td>9.374189</td>\n      <td>0.497103</td>\n      <td>0.000000e+00</td>\n      <td>8861.604943</td>\n    </tr>\n    <tr>\n      <th>min</th>\n      <td>2.000000</td>\n      <td>2.000001e+07</td>\n      <td>33.253300</td>\n      <td>-250.000000</td>\n      <td>-44.000000</td>\n      <td>-118.519800</td>\n      <td>0.000000</td>\n      <td>1.000000</td>\n      <td>0.000000</td>\n      <td>0.000000</td>\n      <td>0.000000</td>\n      <td>0.000000</td>\n      <td>1.610613e+09</td>\n      <td>1.000000</td>\n    </tr>\n    <tr>\n      <th>25%</th>\n      <td>110.000000</td>\n      <td>2.050008e+07</td>\n      <td>33.884300</td>\n      <td>-68.000000</td>\n      <td>4.000000</td>\n      <td>-118.337800</td>\n      <td>2.000000</td>\n      <td>1.000000</td>\n      <td>0.000000</td>\n      <td>13.000000</td>\n      <td>5.000000</td>\n      <td>0.000000</td>\n      <td>1.610613e+09</td>\n      <td>7675.000000</td>\n    </tr>\n    <tr>\n      <th>50%</th>\n      <td>253.000000</td>\n      <td>2.090035e+07</td>\n      <td>33.970300</td>\n      <td>0.000000</td>\n      <td>74.000000</td>\n      <td>-118.269800</td>\n      <td>5.000000</td>\n      <td>3.000000</td>\n      <td>0.000000</td>\n      <td>28.000000</td>\n      <td>15.000000</td>\n      <td>0.000000</td>\n      <td>1.610613e+09</td>\n      <td>15349.000000</td>\n    </tr>\n    <tr>\n      <th>75%</th>\n      <td>368.000000</td>\n      <td>2.960047e+07</td>\n      <td>34.040300</td>\n      <td>95.000000</td>\n      <td>160.000000</td>\n      <td>-118.174800</td>\n      <td>8.000000</td>\n      <td>3.000000</td>\n      <td>0.000000</td>\n      <td>43.000000</td>\n      <td>21.000000</td>\n      <td>1.000000</td>\n      <td>1.610613e+09</td>\n      <td>23023.000000</td>\n    </tr>\n    <tr>\n      <th>max</th>\n      <td>659.000000</td>\n      <td>4.990009e+07</td>\n      <td>34.088300</td>\n      <td>248.000000</td>\n      <td>791.000000</td>\n      <td>-118.021800</td>\n      <td>11.000000</td>\n      <td>7.000000</td>\n      <td>1.000000</td>\n      <td>59.000000</td>\n      <td>79.000000</td>\n      <td>1.000000</td>\n      <td>1.610613e+09</td>\n      <td>30697.000000</td>\n    </tr>\n  </tbody>\n</table>\n</div>"
     },
     "metadata": {},
     "output_type": "execute_result",
     "execution_count": 3
    }
   ],
   "source": [
    "df.describe()"
   ]
  },
  {
   "cell_type": "markdown",
   "metadata": {},
   "source": [
    "## Data preprocessing"
   ]
  },
  {
   "cell_type": "markdown",
   "metadata": {},
   "source": [
    "The following cell combines the two columns `minutes_remaining` and `seconds_remaining` into the new column `time_remaining`."
   ]
  },
  {
   "cell_type": "code",
   "execution_count": 4,
   "metadata": {
    "pycharm": {
     "is_executing": false
    }
   },
   "outputs": [
    {
     "data": {
      "text/plain": "       time_remaining\n0               10.45\n1               10.37\n2                7.75\n3                6.87\n4                6.32\n...               ...\n30692            6.08\n30693            6.08\n30694            3.47\n30695            2.17\n30696            0.65\n\n[30697 rows x 1 columns]",
      "text/html": "<div>\n<style scoped>\n    .dataframe tbody tr th:only-of-type {\n        vertical-align: middle;\n    }\n\n    .dataframe tbody tr th {\n        vertical-align: top;\n    }\n\n    .dataframe thead th {\n        text-align: right;\n    }\n</style>\n<table border=\"1\" class=\"dataframe\">\n  <thead>\n    <tr style=\"text-align: right;\">\n      <th></th>\n      <th>time_remaining</th>\n    </tr>\n  </thead>\n  <tbody>\n    <tr>\n      <th>0</th>\n      <td>10.45</td>\n    </tr>\n    <tr>\n      <th>1</th>\n      <td>10.37</td>\n    </tr>\n    <tr>\n      <th>2</th>\n      <td>7.75</td>\n    </tr>\n    <tr>\n      <th>3</th>\n      <td>6.87</td>\n    </tr>\n    <tr>\n      <th>4</th>\n      <td>6.32</td>\n    </tr>\n    <tr>\n      <th>...</th>\n      <td>...</td>\n    </tr>\n    <tr>\n      <th>30692</th>\n      <td>6.08</td>\n    </tr>\n    <tr>\n      <th>30693</th>\n      <td>6.08</td>\n    </tr>\n    <tr>\n      <th>30694</th>\n      <td>3.47</td>\n    </tr>\n    <tr>\n      <th>30695</th>\n      <td>2.17</td>\n    </tr>\n    <tr>\n      <th>30696</th>\n      <td>0.65</td>\n    </tr>\n  </tbody>\n</table>\n<p>30697 rows × 1 columns</p>\n</div>"
     },
     "metadata": {},
     "output_type": "execute_result",
     "execution_count": 4
    }
   ],
   "source": [
    "# Combine minutes and seconds remaining into decimal minutes remaining, e.g. 6.5 for 6 mins and 30 secs.\n",
    "df['time_remaining'] = round(df['minutes_remaining'] + (df['seconds_remaining'] / 60), 2)\n",
    "df[['time_remaining']]"
   ]
  },
  {
   "cell_type": "code",
   "execution_count": 5,
   "metadata": {
    "pycharm": {
     "is_executing": false
    }
   },
   "outputs": [
    {
     "name": "stdout",
     "text": [
      "<class 'pandas.core.frame.DataFrame'>\nRangeIndex: 30697 entries, 0 to 30696\nData columns (total 26 columns):\n #   Column              Non-Null Count  Dtype  \n---  ------              --------------  -----  \n 0   action_type         30697 non-null  object \n 1   combined_shot_type  30697 non-null  object \n 2   game_event_id       30697 non-null  int64  \n 3   game_id             30697 non-null  int64  \n 4   lat                 30697 non-null  float64\n 5   loc_x               30697 non-null  int64  \n 6   loc_y               30697 non-null  int64  \n 7   lon                 30697 non-null  float64\n 8   minutes_remaining   30697 non-null  int64  \n 9   period              30697 non-null  int64  \n 10  playoffs            30697 non-null  int64  \n 11  season              30697 non-null  object \n 12  seconds_remaining   30697 non-null  int64  \n 13  shot_distance       30697 non-null  int64  \n 14  shot_made_flag      25697 non-null  float64\n 15  shot_type           30697 non-null  object \n 16  shot_zone_area      30697 non-null  object \n 17  shot_zone_basic     30697 non-null  object \n 18  shot_zone_range     30697 non-null  object \n 19  team_id             30697 non-null  int64  \n 20  team_name           30697 non-null  object \n 21  game_date           30697 non-null  object \n 22  matchup             30697 non-null  object \n 23  opponent            30697 non-null  object \n 24  shot_id             30697 non-null  int64  \n 25  time_remaining      30697 non-null  float64\ndtypes: float64(4), int64(11), object(11)\nmemory usage: 6.1+ MB\n"
     ],
     "output_type": "stream"
    }
   ],
   "source": [
    "df.info()"
   ]
  },
  {
   "cell_type": "markdown",
   "metadata": {},
   "source": [
    "### Convert the data types of the columns to categoricals when relevant"
   ]
  },
  {
   "cell_type": "code",
   "execution_count": 6,
   "metadata": {
    "pycharm": {
     "is_executing": false
    }
   },
   "outputs": [
    {
     "data": {
      "text/plain": "action_type                    Jump Shot\ncombined_shot_type             Jump Shot\ngame_event_id                         10\ngame_id                         20000012\nlat                              33.9723\nloc_x                                167\nloc_y                                 72\nlon                             -118.103\nminutes_remaining                     10\nperiod                                 1\nplayoffs                               0\nseason                           2000-01\nseconds_remaining                     27\nshot_distance                         18\nshot_made_flag                       NaN\nshot_type                 2PT Field Goal\nshot_zone_area             Right Side(R)\nshot_zone_basic                Mid-Range\nshot_zone_range                16-24 ft.\nteam_id                       1610612747\nteam_name             Los Angeles Lakers\ngame_date                     2000-10-31\nmatchup                        LAL @ POR\nopponent                             POR\nshot_id                                1\ntime_remaining                     10.45\nName: 0, dtype: object"
     },
     "metadata": {},
     "output_type": "execute_result",
     "execution_count": 6
    }
   ],
   "source": [
    "df.iloc[0]"
   ]
  },
  {
   "cell_type": "code",
   "execution_count": 7,
   "metadata": {
    "pycharm": {
     "is_executing": false
    }
   },
   "outputs": [],
   "source": [
    "# Categorize all columns based on their data type\n",
    "categoricals = [\n",
    "    'action_type',\n",
    "    'combined_shot_type',\n",
    "    'game_event_id', # Meaning?\n",
    "    'game_id',\n",
    "    'season',\n",
    "    'shot_type',\n",
    "    'shot_zone_area',\n",
    "    'shot_zone_basic',\n",
    "    'shot_zone_range',\n",
    "    'team_id',\n",
    "    'team_name',\n",
    "    'matchup',\n",
    "    'opponent'\n",
    "]\n",
    "\n",
    "temporal = [\n",
    "    'game_date'\n",
    "]\n",
    "\n",
    "remaining = [\n",
    "    'lat',\n",
    "    'loc_x',\n",
    "    'loc_y',\n",
    "    'lon',\n",
    "    'period',\n",
    "    'shot_distance',\n",
    "    'time_remaining',\n",
    "    'shot_made_flag'  # y label\n",
    "]\n",
    "\n",
    "perhaps_to_exclude = [\n",
    "    'shot_id',            # Just an auto-increment id, does not mean anything\n",
    "    'minutes_remaining',  # Not needed, since we use the engineered field 'time_remaining'\n",
    "    'seconds_remaining'   # Not needed, since we use the engineered field 'time_remaining'\n",
    "]\n",
    "\n",
    "# Convert to categorical\n",
    "df[categoricals] = df[categoricals].astype('category')\n"
   ]
  },
  {
   "cell_type": "code",
   "execution_count": 8,
   "metadata": {
    "pycharm": {
     "is_executing": false
    }
   },
   "outputs": [
    {
     "data": {
      "text/plain": "       action_type combined_shot_type  game_event_id   game_id   season  \\\ncount        30697              30697          30697     30697    30697   \nunique          57                  6            620      1559       20   \ntop      Jump Shot          Jump Shot              2  21501228  2005-06   \nfreq         18880              23485            132        50     2318   \n\n             shot_type shot_zone_area shot_zone_basic  shot_zone_range  \\\ncount            30697          30697           30697            30697   \nunique               2              6               7                5   \ntop     2PT Field Goal      Center(C)       Mid-Range  Less Than 8 ft.   \nfreq             24271          13455           12625             9398   \n\n           team_id           team_name    matchup opponent  \ncount        30697               30697      30697    30697  \nunique           1                   1         74       33  \ntop     1610612747  Los Angeles Lakers  LAL @ SAS      SAS  \nfreq         30697               30697       1020     1978  ",
      "text/html": "<div>\n<style scoped>\n    .dataframe tbody tr th:only-of-type {\n        vertical-align: middle;\n    }\n\n    .dataframe tbody tr th {\n        vertical-align: top;\n    }\n\n    .dataframe thead th {\n        text-align: right;\n    }\n</style>\n<table border=\"1\" class=\"dataframe\">\n  <thead>\n    <tr style=\"text-align: right;\">\n      <th></th>\n      <th>action_type</th>\n      <th>combined_shot_type</th>\n      <th>game_event_id</th>\n      <th>game_id</th>\n      <th>season</th>\n      <th>shot_type</th>\n      <th>shot_zone_area</th>\n      <th>shot_zone_basic</th>\n      <th>shot_zone_range</th>\n      <th>team_id</th>\n      <th>team_name</th>\n      <th>matchup</th>\n      <th>opponent</th>\n    </tr>\n  </thead>\n  <tbody>\n    <tr>\n      <th>count</th>\n      <td>30697</td>\n      <td>30697</td>\n      <td>30697</td>\n      <td>30697</td>\n      <td>30697</td>\n      <td>30697</td>\n      <td>30697</td>\n      <td>30697</td>\n      <td>30697</td>\n      <td>30697</td>\n      <td>30697</td>\n      <td>30697</td>\n      <td>30697</td>\n    </tr>\n    <tr>\n      <th>unique</th>\n      <td>57</td>\n      <td>6</td>\n      <td>620</td>\n      <td>1559</td>\n      <td>20</td>\n      <td>2</td>\n      <td>6</td>\n      <td>7</td>\n      <td>5</td>\n      <td>1</td>\n      <td>1</td>\n      <td>74</td>\n      <td>33</td>\n    </tr>\n    <tr>\n      <th>top</th>\n      <td>Jump Shot</td>\n      <td>Jump Shot</td>\n      <td>2</td>\n      <td>21501228</td>\n      <td>2005-06</td>\n      <td>2PT Field Goal</td>\n      <td>Center(C)</td>\n      <td>Mid-Range</td>\n      <td>Less Than 8 ft.</td>\n      <td>1610612747</td>\n      <td>Los Angeles Lakers</td>\n      <td>LAL @ SAS</td>\n      <td>SAS</td>\n    </tr>\n    <tr>\n      <th>freq</th>\n      <td>18880</td>\n      <td>23485</td>\n      <td>132</td>\n      <td>50</td>\n      <td>2318</td>\n      <td>24271</td>\n      <td>13455</td>\n      <td>12625</td>\n      <td>9398</td>\n      <td>30697</td>\n      <td>30697</td>\n      <td>1020</td>\n      <td>1978</td>\n    </tr>\n  </tbody>\n</table>\n</div>"
     },
     "metadata": {},
     "output_type": "execute_result",
     "execution_count": 8
    }
   ],
   "source": [
    "# Show some stats per categorical column\n",
    "df.describe(include='category')"
   ]
  },
  {
   "cell_type": "code",
   "execution_count": 9,
   "metadata": {
    "pycharm": {
     "is_executing": false
    }
   },
   "outputs": [
    {
     "name": "stdout",
     "text": [
      "<class 'pandas.core.frame.DataFrame'>\nRangeIndex: 30697 entries, 0 to 30696\nData columns (total 26 columns):\n #   Column              Non-Null Count  Dtype   \n---  ------              --------------  -----   \n 0   action_type         30697 non-null  category\n 1   combined_shot_type  30697 non-null  category\n 2   game_event_id       30697 non-null  category\n 3   game_id             30697 non-null  category\n 4   lat                 30697 non-null  float64 \n 5   loc_x               30697 non-null  int64   \n 6   loc_y               30697 non-null  int64   \n 7   lon                 30697 non-null  float64 \n 8   minutes_remaining   30697 non-null  int64   \n 9   period              30697 non-null  int64   \n 10  playoffs            30697 non-null  int64   \n 11  season              30697 non-null  category\n 12  seconds_remaining   30697 non-null  int64   \n 13  shot_distance       30697 non-null  int64   \n 14  shot_made_flag      25697 non-null  float64 \n 15  shot_type           30697 non-null  category\n 16  shot_zone_area      30697 non-null  category\n 17  shot_zone_basic     30697 non-null  category\n 18  shot_zone_range     30697 non-null  category\n 19  team_id             30697 non-null  category\n 20  team_name           30697 non-null  category\n 21  game_date           30697 non-null  object  \n 22  matchup             30697 non-null  category\n 23  opponent            30697 non-null  category\n 24  shot_id             30697 non-null  int64   \n 25  time_remaining      30697 non-null  float64 \ndtypes: category(13), float64(4), int64(8), object(1)\nmemory usage: 3.6+ MB\n"
     ],
     "output_type": "stream"
    }
   ],
   "source": [
    "df.info()"
   ]
  },
  {
   "cell_type": "markdown",
   "metadata": {},
   "source": [
    "## Encode categoricals to integers"
   ]
  },
  {
   "cell_type": "code",
   "execution_count": 10,
   "metadata": {
    "pycharm": {
     "is_executing": false
    }
   },
   "outputs": [
    {
     "data": {
      "text/plain": "             action_type combined_shot_type game_event_id   game_id   season  \\\n0              Jump Shot          Jump Shot            10  20000012  2000-01   \n1              Jump Shot          Jump Shot            12  20000012  2000-01   \n2              Jump Shot          Jump Shot            35  20000012  2000-01   \n3              Jump Shot          Jump Shot            43  20000012  2000-01   \n4      Driving Dunk Shot               Dunk           155  20000012  2000-01   \n...                  ...                ...           ...       ...      ...   \n30692          Jump Shot          Jump Shot           397  49900088  1999-00   \n30693           Tip Shot           Tip Shot           398  49900088  1999-00   \n30694  Running Jump Shot          Jump Shot           426  49900088  1999-00   \n30695          Jump Shot          Jump Shot           448  49900088  1999-00   \n30696          Jump Shot          Jump Shot           471  49900088  1999-00   \n\n            shot_type         shot_zone_area        shot_zone_basic  \\\n0      2PT Field Goal          Right Side(R)              Mid-Range   \n1      2PT Field Goal           Left Side(L)              Mid-Range   \n2      2PT Field Goal   Left Side Center(LC)              Mid-Range   \n3      2PT Field Goal  Right Side Center(RC)              Mid-Range   \n4      2PT Field Goal              Center(C)        Restricted Area   \n...               ...                    ...                    ...   \n30692  2PT Field Goal              Center(C)  In The Paint (Non-RA)   \n30693  2PT Field Goal              Center(C)        Restricted Area   \n30694  2PT Field Goal   Left Side Center(LC)              Mid-Range   \n30695  3PT Field Goal              Center(C)      Above the Break 3   \n30696  2PT Field Goal              Center(C)  In The Paint (Non-RA)   \n\n       shot_zone_range     team_id           team_name      matchup opponent  \n0            16-24 ft.  1610612747  Los Angeles Lakers    LAL @ POR      POR  \n1             8-16 ft.  1610612747  Los Angeles Lakers    LAL @ POR      POR  \n2            16-24 ft.  1610612747  Los Angeles Lakers    LAL @ POR      POR  \n3            16-24 ft.  1610612747  Los Angeles Lakers    LAL @ POR      POR  \n4      Less Than 8 ft.  1610612747  Los Angeles Lakers    LAL @ POR      POR  \n...                ...         ...                 ...          ...      ...  \n30692  Less Than 8 ft.  1610612747  Los Angeles Lakers  LAL vs. IND      IND  \n30693  Less Than 8 ft.  1610612747  Los Angeles Lakers  LAL vs. IND      IND  \n30694        16-24 ft.  1610612747  Los Angeles Lakers  LAL vs. IND      IND  \n30695          24+ ft.  1610612747  Los Angeles Lakers  LAL vs. IND      IND  \n30696  Less Than 8 ft.  1610612747  Los Angeles Lakers  LAL vs. IND      IND  \n\n[30697 rows x 13 columns]",
      "text/html": "<div>\n<style scoped>\n    .dataframe tbody tr th:only-of-type {\n        vertical-align: middle;\n    }\n\n    .dataframe tbody tr th {\n        vertical-align: top;\n    }\n\n    .dataframe thead th {\n        text-align: right;\n    }\n</style>\n<table border=\"1\" class=\"dataframe\">\n  <thead>\n    <tr style=\"text-align: right;\">\n      <th></th>\n      <th>action_type</th>\n      <th>combined_shot_type</th>\n      <th>game_event_id</th>\n      <th>game_id</th>\n      <th>season</th>\n      <th>shot_type</th>\n      <th>shot_zone_area</th>\n      <th>shot_zone_basic</th>\n      <th>shot_zone_range</th>\n      <th>team_id</th>\n      <th>team_name</th>\n      <th>matchup</th>\n      <th>opponent</th>\n    </tr>\n  </thead>\n  <tbody>\n    <tr>\n      <th>0</th>\n      <td>Jump Shot</td>\n      <td>Jump Shot</td>\n      <td>10</td>\n      <td>20000012</td>\n      <td>2000-01</td>\n      <td>2PT Field Goal</td>\n      <td>Right Side(R)</td>\n      <td>Mid-Range</td>\n      <td>16-24 ft.</td>\n      <td>1610612747</td>\n      <td>Los Angeles Lakers</td>\n      <td>LAL @ POR</td>\n      <td>POR</td>\n    </tr>\n    <tr>\n      <th>1</th>\n      <td>Jump Shot</td>\n      <td>Jump Shot</td>\n      <td>12</td>\n      <td>20000012</td>\n      <td>2000-01</td>\n      <td>2PT Field Goal</td>\n      <td>Left Side(L)</td>\n      <td>Mid-Range</td>\n      <td>8-16 ft.</td>\n      <td>1610612747</td>\n      <td>Los Angeles Lakers</td>\n      <td>LAL @ POR</td>\n      <td>POR</td>\n    </tr>\n    <tr>\n      <th>2</th>\n      <td>Jump Shot</td>\n      <td>Jump Shot</td>\n      <td>35</td>\n      <td>20000012</td>\n      <td>2000-01</td>\n      <td>2PT Field Goal</td>\n      <td>Left Side Center(LC)</td>\n      <td>Mid-Range</td>\n      <td>16-24 ft.</td>\n      <td>1610612747</td>\n      <td>Los Angeles Lakers</td>\n      <td>LAL @ POR</td>\n      <td>POR</td>\n    </tr>\n    <tr>\n      <th>3</th>\n      <td>Jump Shot</td>\n      <td>Jump Shot</td>\n      <td>43</td>\n      <td>20000012</td>\n      <td>2000-01</td>\n      <td>2PT Field Goal</td>\n      <td>Right Side Center(RC)</td>\n      <td>Mid-Range</td>\n      <td>16-24 ft.</td>\n      <td>1610612747</td>\n      <td>Los Angeles Lakers</td>\n      <td>LAL @ POR</td>\n      <td>POR</td>\n    </tr>\n    <tr>\n      <th>4</th>\n      <td>Driving Dunk Shot</td>\n      <td>Dunk</td>\n      <td>155</td>\n      <td>20000012</td>\n      <td>2000-01</td>\n      <td>2PT Field Goal</td>\n      <td>Center(C)</td>\n      <td>Restricted Area</td>\n      <td>Less Than 8 ft.</td>\n      <td>1610612747</td>\n      <td>Los Angeles Lakers</td>\n      <td>LAL @ POR</td>\n      <td>POR</td>\n    </tr>\n    <tr>\n      <th>...</th>\n      <td>...</td>\n      <td>...</td>\n      <td>...</td>\n      <td>...</td>\n      <td>...</td>\n      <td>...</td>\n      <td>...</td>\n      <td>...</td>\n      <td>...</td>\n      <td>...</td>\n      <td>...</td>\n      <td>...</td>\n      <td>...</td>\n    </tr>\n    <tr>\n      <th>30692</th>\n      <td>Jump Shot</td>\n      <td>Jump Shot</td>\n      <td>397</td>\n      <td>49900088</td>\n      <td>1999-00</td>\n      <td>2PT Field Goal</td>\n      <td>Center(C)</td>\n      <td>In The Paint (Non-RA)</td>\n      <td>Less Than 8 ft.</td>\n      <td>1610612747</td>\n      <td>Los Angeles Lakers</td>\n      <td>LAL vs. IND</td>\n      <td>IND</td>\n    </tr>\n    <tr>\n      <th>30693</th>\n      <td>Tip Shot</td>\n      <td>Tip Shot</td>\n      <td>398</td>\n      <td>49900088</td>\n      <td>1999-00</td>\n      <td>2PT Field Goal</td>\n      <td>Center(C)</td>\n      <td>Restricted Area</td>\n      <td>Less Than 8 ft.</td>\n      <td>1610612747</td>\n      <td>Los Angeles Lakers</td>\n      <td>LAL vs. IND</td>\n      <td>IND</td>\n    </tr>\n    <tr>\n      <th>30694</th>\n      <td>Running Jump Shot</td>\n      <td>Jump Shot</td>\n      <td>426</td>\n      <td>49900088</td>\n      <td>1999-00</td>\n      <td>2PT Field Goal</td>\n      <td>Left Side Center(LC)</td>\n      <td>Mid-Range</td>\n      <td>16-24 ft.</td>\n      <td>1610612747</td>\n      <td>Los Angeles Lakers</td>\n      <td>LAL vs. IND</td>\n      <td>IND</td>\n    </tr>\n    <tr>\n      <th>30695</th>\n      <td>Jump Shot</td>\n      <td>Jump Shot</td>\n      <td>448</td>\n      <td>49900088</td>\n      <td>1999-00</td>\n      <td>3PT Field Goal</td>\n      <td>Center(C)</td>\n      <td>Above the Break 3</td>\n      <td>24+ ft.</td>\n      <td>1610612747</td>\n      <td>Los Angeles Lakers</td>\n      <td>LAL vs. IND</td>\n      <td>IND</td>\n    </tr>\n    <tr>\n      <th>30696</th>\n      <td>Jump Shot</td>\n      <td>Jump Shot</td>\n      <td>471</td>\n      <td>49900088</td>\n      <td>1999-00</td>\n      <td>2PT Field Goal</td>\n      <td>Center(C)</td>\n      <td>In The Paint (Non-RA)</td>\n      <td>Less Than 8 ft.</td>\n      <td>1610612747</td>\n      <td>Los Angeles Lakers</td>\n      <td>LAL vs. IND</td>\n      <td>IND</td>\n    </tr>\n  </tbody>\n</table>\n<p>30697 rows × 13 columns</p>\n</div>"
     },
     "metadata": {},
     "output_type": "execute_result",
     "execution_count": 10
    }
   ],
   "source": [
    "cat_cols = df[categoricals]\n",
    "cat_cols"
   ]
  },
  {
   "cell_type": "code",
   "execution_count": 11,
   "metadata": {
    "pycharm": {
     "is_executing": false
    }
   },
   "outputs": [
    {
     "data": {
      "text/plain": "               action_type combined_shot_type game_event_id   game_id  \\\n144    Alley Oop Dunk Shot               Dunk            77  20000108   \n181    Alley Oop Dunk Shot               Dunk           328  20000124   \n194    Alley Oop Dunk Shot               Dunk            73  20000140   \n242    Alley Oop Dunk Shot               Dunk           121  20000168   \n244    Alley Oop Dunk Shot               Dunk           192  20000168   \n...                    ...                ...           ...       ...   \n28415  Alley Oop Dunk Shot               Dunk           379  40700402   \n28830  Alley Oop Dunk Shot               Dunk           371  40800313   \n28868  Alley Oop Dunk Shot               Dunk           309  40800315   \n29395  Alley Oop Dunk Shot               Dunk           382  40900401   \n30010  Alley Oop Dunk Shot               Dunk           249  41100235   \n\n        season       shot_type shot_zone_area  shot_zone_basic  \\\n144    2000-01  2PT Field Goal      Center(C)  Restricted Area   \n181    2000-01  2PT Field Goal      Center(C)  Restricted Area   \n194    2000-01  2PT Field Goal      Center(C)  Restricted Area   \n242    2000-01  2PT Field Goal      Center(C)  Restricted Area   \n244    2000-01  2PT Field Goal      Center(C)  Restricted Area   \n...        ...             ...            ...              ...   \n28415  2007-08  2PT Field Goal      Center(C)  Restricted Area   \n28830  2008-09  2PT Field Goal      Center(C)  Restricted Area   \n28868  2008-09  2PT Field Goal      Center(C)  Restricted Area   \n29395  2009-10  2PT Field Goal      Center(C)  Restricted Area   \n30010  2011-12  2PT Field Goal      Center(C)  Restricted Area   \n\n       shot_zone_range     team_id           team_name      matchup opponent  \n144    Less Than 8 ft.  1610612747  Los Angeles Lakers  LAL vs. DEN      DEN  \n181    Less Than 8 ft.  1610612747  Los Angeles Lakers    LAL @ SAC      SAC  \n194    Less Than 8 ft.  1610612747  Los Angeles Lakers    LAL @ DEN      DEN  \n242    Less Than 8 ft.  1610612747  Los Angeles Lakers  LAL vs. GSW      GSW  \n244    Less Than 8 ft.  1610612747  Los Angeles Lakers  LAL vs. GSW      GSW  \n...                ...         ...                 ...          ...      ...  \n28415  Less Than 8 ft.  1610612747  Los Angeles Lakers    LAL @ BOS      BOS  \n28830  Less Than 8 ft.  1610612747  Los Angeles Lakers    LAL @ DEN      DEN  \n28868  Less Than 8 ft.  1610612747  Los Angeles Lakers  LAL vs. DEN      DEN  \n29395  Less Than 8 ft.  1610612747  Los Angeles Lakers  LAL vs. BOS      BOS  \n30010  Less Than 8 ft.  1610612747  Los Angeles Lakers    LAL @ OKC      OKC  \n\n[122 rows x 13 columns]",
      "text/html": "<div>\n<style scoped>\n    .dataframe tbody tr th:only-of-type {\n        vertical-align: middle;\n    }\n\n    .dataframe tbody tr th {\n        vertical-align: top;\n    }\n\n    .dataframe thead th {\n        text-align: right;\n    }\n</style>\n<table border=\"1\" class=\"dataframe\">\n  <thead>\n    <tr style=\"text-align: right;\">\n      <th></th>\n      <th>action_type</th>\n      <th>combined_shot_type</th>\n      <th>game_event_id</th>\n      <th>game_id</th>\n      <th>season</th>\n      <th>shot_type</th>\n      <th>shot_zone_area</th>\n      <th>shot_zone_basic</th>\n      <th>shot_zone_range</th>\n      <th>team_id</th>\n      <th>team_name</th>\n      <th>matchup</th>\n      <th>opponent</th>\n    </tr>\n  </thead>\n  <tbody>\n    <tr>\n      <th>144</th>\n      <td>Alley Oop Dunk Shot</td>\n      <td>Dunk</td>\n      <td>77</td>\n      <td>20000108</td>\n      <td>2000-01</td>\n      <td>2PT Field Goal</td>\n      <td>Center(C)</td>\n      <td>Restricted Area</td>\n      <td>Less Than 8 ft.</td>\n      <td>1610612747</td>\n      <td>Los Angeles Lakers</td>\n      <td>LAL vs. DEN</td>\n      <td>DEN</td>\n    </tr>\n    <tr>\n      <th>181</th>\n      <td>Alley Oop Dunk Shot</td>\n      <td>Dunk</td>\n      <td>328</td>\n      <td>20000124</td>\n      <td>2000-01</td>\n      <td>2PT Field Goal</td>\n      <td>Center(C)</td>\n      <td>Restricted Area</td>\n      <td>Less Than 8 ft.</td>\n      <td>1610612747</td>\n      <td>Los Angeles Lakers</td>\n      <td>LAL @ SAC</td>\n      <td>SAC</td>\n    </tr>\n    <tr>\n      <th>194</th>\n      <td>Alley Oop Dunk Shot</td>\n      <td>Dunk</td>\n      <td>73</td>\n      <td>20000140</td>\n      <td>2000-01</td>\n      <td>2PT Field Goal</td>\n      <td>Center(C)</td>\n      <td>Restricted Area</td>\n      <td>Less Than 8 ft.</td>\n      <td>1610612747</td>\n      <td>Los Angeles Lakers</td>\n      <td>LAL @ DEN</td>\n      <td>DEN</td>\n    </tr>\n    <tr>\n      <th>242</th>\n      <td>Alley Oop Dunk Shot</td>\n      <td>Dunk</td>\n      <td>121</td>\n      <td>20000168</td>\n      <td>2000-01</td>\n      <td>2PT Field Goal</td>\n      <td>Center(C)</td>\n      <td>Restricted Area</td>\n      <td>Less Than 8 ft.</td>\n      <td>1610612747</td>\n      <td>Los Angeles Lakers</td>\n      <td>LAL vs. GSW</td>\n      <td>GSW</td>\n    </tr>\n    <tr>\n      <th>244</th>\n      <td>Alley Oop Dunk Shot</td>\n      <td>Dunk</td>\n      <td>192</td>\n      <td>20000168</td>\n      <td>2000-01</td>\n      <td>2PT Field Goal</td>\n      <td>Center(C)</td>\n      <td>Restricted Area</td>\n      <td>Less Than 8 ft.</td>\n      <td>1610612747</td>\n      <td>Los Angeles Lakers</td>\n      <td>LAL vs. GSW</td>\n      <td>GSW</td>\n    </tr>\n    <tr>\n      <th>...</th>\n      <td>...</td>\n      <td>...</td>\n      <td>...</td>\n      <td>...</td>\n      <td>...</td>\n      <td>...</td>\n      <td>...</td>\n      <td>...</td>\n      <td>...</td>\n      <td>...</td>\n      <td>...</td>\n      <td>...</td>\n      <td>...</td>\n    </tr>\n    <tr>\n      <th>28415</th>\n      <td>Alley Oop Dunk Shot</td>\n      <td>Dunk</td>\n      <td>379</td>\n      <td>40700402</td>\n      <td>2007-08</td>\n      <td>2PT Field Goal</td>\n      <td>Center(C)</td>\n      <td>Restricted Area</td>\n      <td>Less Than 8 ft.</td>\n      <td>1610612747</td>\n      <td>Los Angeles Lakers</td>\n      <td>LAL @ BOS</td>\n      <td>BOS</td>\n    </tr>\n    <tr>\n      <th>28830</th>\n      <td>Alley Oop Dunk Shot</td>\n      <td>Dunk</td>\n      <td>371</td>\n      <td>40800313</td>\n      <td>2008-09</td>\n      <td>2PT Field Goal</td>\n      <td>Center(C)</td>\n      <td>Restricted Area</td>\n      <td>Less Than 8 ft.</td>\n      <td>1610612747</td>\n      <td>Los Angeles Lakers</td>\n      <td>LAL @ DEN</td>\n      <td>DEN</td>\n    </tr>\n    <tr>\n      <th>28868</th>\n      <td>Alley Oop Dunk Shot</td>\n      <td>Dunk</td>\n      <td>309</td>\n      <td>40800315</td>\n      <td>2008-09</td>\n      <td>2PT Field Goal</td>\n      <td>Center(C)</td>\n      <td>Restricted Area</td>\n      <td>Less Than 8 ft.</td>\n      <td>1610612747</td>\n      <td>Los Angeles Lakers</td>\n      <td>LAL vs. DEN</td>\n      <td>DEN</td>\n    </tr>\n    <tr>\n      <th>29395</th>\n      <td>Alley Oop Dunk Shot</td>\n      <td>Dunk</td>\n      <td>382</td>\n      <td>40900401</td>\n      <td>2009-10</td>\n      <td>2PT Field Goal</td>\n      <td>Center(C)</td>\n      <td>Restricted Area</td>\n      <td>Less Than 8 ft.</td>\n      <td>1610612747</td>\n      <td>Los Angeles Lakers</td>\n      <td>LAL vs. BOS</td>\n      <td>BOS</td>\n    </tr>\n    <tr>\n      <th>30010</th>\n      <td>Alley Oop Dunk Shot</td>\n      <td>Dunk</td>\n      <td>249</td>\n      <td>41100235</td>\n      <td>2011-12</td>\n      <td>2PT Field Goal</td>\n      <td>Center(C)</td>\n      <td>Restricted Area</td>\n      <td>Less Than 8 ft.</td>\n      <td>1610612747</td>\n      <td>Los Angeles Lakers</td>\n      <td>LAL @ OKC</td>\n      <td>OKC</td>\n    </tr>\n  </tbody>\n</table>\n<p>122 rows × 13 columns</p>\n</div>"
     },
     "metadata": {},
     "output_type": "execute_result",
     "execution_count": 11
    }
   ],
   "source": [
    "cat_cols[cat_cols['action_type'] == 'Alley Oop Dunk Shot']"
   ]
  },
  {
   "cell_type": "code",
   "execution_count": 12,
   "metadata": {
    "pycharm": {
     "is_executing": false
    }
   },
   "outputs": [],
   "source": [
    "def one_hot_encode(df_with_only_categoricals):\n",
    "    encoder = preprocessing.OneHotEncoder()\n",
    "    encoder.fit(df_with_only_categoricals)\n",
    "    result = encoder.transform(df_with_only_categoricals).toarray()\n",
    "    return result\n",
    "\n",
    "one_hot_encoded_df = pd.DataFrame(one_hot_encode(cat_cols))"
   ]
  },
  {
   "cell_type": "code",
   "execution_count": 13,
   "metadata": {
    "pycharm": {
     "is_executing": false
    }
   },
   "outputs": [],
   "source": [
    "remaining_df = df[remaining]"
   ]
  },
  {
   "cell_type": "code",
   "execution_count": 14,
   "metadata": {
    "pycharm": {
     "is_executing": false
    }
   },
   "outputs": [],
   "source": [
    "preprocessed_df = pd.concat([one_hot_encoded_df, remaining_df], axis=1)\n",
    "# preprocessed_df[0]\n",
    "# encoder[144]  # Verify that row 144 has a 1 in the first col"
   ]
  },
  {
   "cell_type": "code",
   "execution_count": 15,
   "metadata": {
    "pycharm": {
     "is_executing": false
    }
   },
   "outputs": [
    {
     "data": {
      "text/plain": "         0    1    2    3    4    5    6    7    8    9  ...  2389  2390  \\\n0      0.0  0.0  0.0  0.0  0.0  0.0  0.0  0.0  0.0  0.0  ...   0.0   0.0   \n1      0.0  0.0  0.0  0.0  0.0  0.0  0.0  0.0  0.0  0.0  ...   0.0   0.0   \n2      0.0  0.0  0.0  0.0  0.0  0.0  0.0  0.0  0.0  0.0  ...   0.0   0.0   \n3      0.0  0.0  0.0  0.0  0.0  0.0  0.0  0.0  0.0  0.0  ...   0.0   0.0   \n4      0.0  0.0  0.0  0.0  0.0  1.0  0.0  0.0  0.0  0.0  ...   0.0   0.0   \n...    ...  ...  ...  ...  ...  ...  ...  ...  ...  ...  ...   ...   ...   \n30692  0.0  0.0  0.0  0.0  0.0  0.0  0.0  0.0  0.0  0.0  ...   0.0   0.0   \n30693  0.0  0.0  0.0  0.0  0.0  0.0  0.0  0.0  0.0  0.0  ...   0.0   0.0   \n30694  0.0  0.0  0.0  0.0  0.0  0.0  0.0  0.0  0.0  0.0  ...   0.0   0.0   \n30695  0.0  0.0  0.0  0.0  0.0  0.0  0.0  0.0  0.0  0.0  ...   0.0   0.0   \n30696  0.0  0.0  0.0  0.0  0.0  0.0  0.0  0.0  0.0  0.0  ...   0.0   0.0   \n\n           lat  loc_x  loc_y       lon  period  shot_distance  time_remaining  \\\n0      33.9723    167     72 -118.1028       1             18           10.45   \n1      34.0443   -157      0 -118.4268       1             15           10.37   \n2      33.9093   -101    135 -118.3708       1             16            7.75   \n3      33.8693    138    175 -118.1318       1             22            6.87   \n4      34.0443      0      0 -118.2698       2              0            6.32   \n...        ...    ...    ...       ...     ...            ...             ...   \n30692  33.9963      1     48 -118.2688       4              4            6.08   \n30693  34.0443      0      0 -118.2698       4              0            6.08   \n30694  33.8783   -134    166 -118.4038       4             21            3.47   \n30695  33.7773     31    267 -118.2388       4             26            2.17   \n30696  33.9723      1     72 -118.2688       4              7            0.65   \n\n       shot_made_flag  \n0                 NaN  \n1                 0.0  \n2                 1.0  \n3                 0.0  \n4                 1.0  \n...               ...  \n30692             0.0  \n30693             NaN  \n30694             1.0  \n30695             0.0  \n30696             0.0  \n\n[30697 rows x 2399 columns]",
      "text/html": "<div>\n<style scoped>\n    .dataframe tbody tr th:only-of-type {\n        vertical-align: middle;\n    }\n\n    .dataframe tbody tr th {\n        vertical-align: top;\n    }\n\n    .dataframe thead th {\n        text-align: right;\n    }\n</style>\n<table border=\"1\" class=\"dataframe\">\n  <thead>\n    <tr style=\"text-align: right;\">\n      <th></th>\n      <th>0</th>\n      <th>1</th>\n      <th>2</th>\n      <th>3</th>\n      <th>4</th>\n      <th>5</th>\n      <th>6</th>\n      <th>7</th>\n      <th>8</th>\n      <th>9</th>\n      <th>...</th>\n      <th>2389</th>\n      <th>2390</th>\n      <th>lat</th>\n      <th>loc_x</th>\n      <th>loc_y</th>\n      <th>lon</th>\n      <th>period</th>\n      <th>shot_distance</th>\n      <th>time_remaining</th>\n      <th>shot_made_flag</th>\n    </tr>\n  </thead>\n  <tbody>\n    <tr>\n      <th>0</th>\n      <td>0.0</td>\n      <td>0.0</td>\n      <td>0.0</td>\n      <td>0.0</td>\n      <td>0.0</td>\n      <td>0.0</td>\n      <td>0.0</td>\n      <td>0.0</td>\n      <td>0.0</td>\n      <td>0.0</td>\n      <td>...</td>\n      <td>0.0</td>\n      <td>0.0</td>\n      <td>33.9723</td>\n      <td>167</td>\n      <td>72</td>\n      <td>-118.1028</td>\n      <td>1</td>\n      <td>18</td>\n      <td>10.45</td>\n      <td>NaN</td>\n    </tr>\n    <tr>\n      <th>1</th>\n      <td>0.0</td>\n      <td>0.0</td>\n      <td>0.0</td>\n      <td>0.0</td>\n      <td>0.0</td>\n      <td>0.0</td>\n      <td>0.0</td>\n      <td>0.0</td>\n      <td>0.0</td>\n      <td>0.0</td>\n      <td>...</td>\n      <td>0.0</td>\n      <td>0.0</td>\n      <td>34.0443</td>\n      <td>-157</td>\n      <td>0</td>\n      <td>-118.4268</td>\n      <td>1</td>\n      <td>15</td>\n      <td>10.37</td>\n      <td>0.0</td>\n    </tr>\n    <tr>\n      <th>2</th>\n      <td>0.0</td>\n      <td>0.0</td>\n      <td>0.0</td>\n      <td>0.0</td>\n      <td>0.0</td>\n      <td>0.0</td>\n      <td>0.0</td>\n      <td>0.0</td>\n      <td>0.0</td>\n      <td>0.0</td>\n      <td>...</td>\n      <td>0.0</td>\n      <td>0.0</td>\n      <td>33.9093</td>\n      <td>-101</td>\n      <td>135</td>\n      <td>-118.3708</td>\n      <td>1</td>\n      <td>16</td>\n      <td>7.75</td>\n      <td>1.0</td>\n    </tr>\n    <tr>\n      <th>3</th>\n      <td>0.0</td>\n      <td>0.0</td>\n      <td>0.0</td>\n      <td>0.0</td>\n      <td>0.0</td>\n      <td>0.0</td>\n      <td>0.0</td>\n      <td>0.0</td>\n      <td>0.0</td>\n      <td>0.0</td>\n      <td>...</td>\n      <td>0.0</td>\n      <td>0.0</td>\n      <td>33.8693</td>\n      <td>138</td>\n      <td>175</td>\n      <td>-118.1318</td>\n      <td>1</td>\n      <td>22</td>\n      <td>6.87</td>\n      <td>0.0</td>\n    </tr>\n    <tr>\n      <th>4</th>\n      <td>0.0</td>\n      <td>0.0</td>\n      <td>0.0</td>\n      <td>0.0</td>\n      <td>0.0</td>\n      <td>1.0</td>\n      <td>0.0</td>\n      <td>0.0</td>\n      <td>0.0</td>\n      <td>0.0</td>\n      <td>...</td>\n      <td>0.0</td>\n      <td>0.0</td>\n      <td>34.0443</td>\n      <td>0</td>\n      <td>0</td>\n      <td>-118.2698</td>\n      <td>2</td>\n      <td>0</td>\n      <td>6.32</td>\n      <td>1.0</td>\n    </tr>\n    <tr>\n      <th>...</th>\n      <td>...</td>\n      <td>...</td>\n      <td>...</td>\n      <td>...</td>\n      <td>...</td>\n      <td>...</td>\n      <td>...</td>\n      <td>...</td>\n      <td>...</td>\n      <td>...</td>\n      <td>...</td>\n      <td>...</td>\n      <td>...</td>\n      <td>...</td>\n      <td>...</td>\n      <td>...</td>\n      <td>...</td>\n      <td>...</td>\n      <td>...</td>\n      <td>...</td>\n      <td>...</td>\n    </tr>\n    <tr>\n      <th>30692</th>\n      <td>0.0</td>\n      <td>0.0</td>\n      <td>0.0</td>\n      <td>0.0</td>\n      <td>0.0</td>\n      <td>0.0</td>\n      <td>0.0</td>\n      <td>0.0</td>\n      <td>0.0</td>\n      <td>0.0</td>\n      <td>...</td>\n      <td>0.0</td>\n      <td>0.0</td>\n      <td>33.9963</td>\n      <td>1</td>\n      <td>48</td>\n      <td>-118.2688</td>\n      <td>4</td>\n      <td>4</td>\n      <td>6.08</td>\n      <td>0.0</td>\n    </tr>\n    <tr>\n      <th>30693</th>\n      <td>0.0</td>\n      <td>0.0</td>\n      <td>0.0</td>\n      <td>0.0</td>\n      <td>0.0</td>\n      <td>0.0</td>\n      <td>0.0</td>\n      <td>0.0</td>\n      <td>0.0</td>\n      <td>0.0</td>\n      <td>...</td>\n      <td>0.0</td>\n      <td>0.0</td>\n      <td>34.0443</td>\n      <td>0</td>\n      <td>0</td>\n      <td>-118.2698</td>\n      <td>4</td>\n      <td>0</td>\n      <td>6.08</td>\n      <td>NaN</td>\n    </tr>\n    <tr>\n      <th>30694</th>\n      <td>0.0</td>\n      <td>0.0</td>\n      <td>0.0</td>\n      <td>0.0</td>\n      <td>0.0</td>\n      <td>0.0</td>\n      <td>0.0</td>\n      <td>0.0</td>\n      <td>0.0</td>\n      <td>0.0</td>\n      <td>...</td>\n      <td>0.0</td>\n      <td>0.0</td>\n      <td>33.8783</td>\n      <td>-134</td>\n      <td>166</td>\n      <td>-118.4038</td>\n      <td>4</td>\n      <td>21</td>\n      <td>3.47</td>\n      <td>1.0</td>\n    </tr>\n    <tr>\n      <th>30695</th>\n      <td>0.0</td>\n      <td>0.0</td>\n      <td>0.0</td>\n      <td>0.0</td>\n      <td>0.0</td>\n      <td>0.0</td>\n      <td>0.0</td>\n      <td>0.0</td>\n      <td>0.0</td>\n      <td>0.0</td>\n      <td>...</td>\n      <td>0.0</td>\n      <td>0.0</td>\n      <td>33.7773</td>\n      <td>31</td>\n      <td>267</td>\n      <td>-118.2388</td>\n      <td>4</td>\n      <td>26</td>\n      <td>2.17</td>\n      <td>0.0</td>\n    </tr>\n    <tr>\n      <th>30696</th>\n      <td>0.0</td>\n      <td>0.0</td>\n      <td>0.0</td>\n      <td>0.0</td>\n      <td>0.0</td>\n      <td>0.0</td>\n      <td>0.0</td>\n      <td>0.0</td>\n      <td>0.0</td>\n      <td>0.0</td>\n      <td>...</td>\n      <td>0.0</td>\n      <td>0.0</td>\n      <td>33.9723</td>\n      <td>1</td>\n      <td>72</td>\n      <td>-118.2688</td>\n      <td>4</td>\n      <td>7</td>\n      <td>0.65</td>\n      <td>0.0</td>\n    </tr>\n  </tbody>\n</table>\n<p>30697 rows × 2399 columns</p>\n</div>"
     },
     "metadata": {},
     "output_type": "execute_result",
     "execution_count": 15
    }
   ],
   "source": [
    "preprocessed_df"
   ]
  },
  {
   "cell_type": "markdown",
   "metadata": {},
   "source": [
    "Set input dimensions equal to the number of columns in the training data"
   ]
  },
  {
   "cell_type": "markdown",
   "metadata": {},
   "source": [
    "## Train/validation/test split\n",
    "\n",
    "Do this only after data preprocessing\n",
    "\n",
    "Perhaps use:\n",
    "\n",
    "```python\n",
    "sklearn.model_selection.train_test_split(*arrays, **options)\n",
    "```\n",
    "\n",
    "See https://scikit-learn.org/stable/modules/generated/sklearn.model_selection.train_test_split.html"
   ]
  },
  {
   "cell_type": "markdown",
   "metadata": {},
   "source": [
    "https://www.kaggle.com/c/kobe-bryant-shot-selection/leaderboard"
   ]
  },
  {
   "cell_type": "code",
   "execution_count": 16,
   "metadata": {
    "pycharm": {
     "is_executing": false
    }
   },
   "outputs": [],
   "source": [
    "df = preprocessed_df"
   ]
  },
  {
   "cell_type": "code",
   "execution_count": 17,
   "metadata": {
    "pycharm": {
     "is_executing": false
    }
   },
   "outputs": [
    {
     "data": {
      "text/plain": "(5000, 2399)"
     },
     "metadata": {},
     "output_type": "execute_result",
     "execution_count": 17
    }
   ],
   "source": [
    "# Filter out the rows that do not have a 'shot_made_flag', i.e. the test set with 5000 rows\n",
    "test_set = df[df['shot_made_flag'].isnull()]\n",
    "test_set.shape"
   ]
  },
  {
   "cell_type": "code",
   "execution_count": 18,
   "metadata": {
    "pycharm": {
     "is_executing": false
    }
   },
   "outputs": [
    {
     "data": {
      "text/plain": "(25697, 2399)"
     },
     "metadata": {},
     "output_type": "execute_result",
     "execution_count": 18
    }
   ],
   "source": [
    "# Obtain the rows with a 'shot_made_flag', i.e. the train set\n",
    "train_set = df[~df['shot_made_flag'].isnull()]\n",
    "train_set.shape"
   ]
  },
  {
   "cell_type": "code",
   "execution_count": 19,
   "metadata": {
    "pycharm": {
     "is_executing": false
    }
   },
   "outputs": [],
   "source": [
    "def split_train_test(df, split_float = 0.8):\n",
    "    random_sample = np.random.rand(len(df)) < split_float\n",
    "    train = df[random_sample]\n",
    "    test = df[~random_sample]\n",
    "    return train, test\n",
    "\n",
    "train, test = split_train_test(train_set, 0.8)"
   ]
  },
  {
   "cell_type": "code",
   "execution_count": 20,
   "metadata": {
    "pycharm": {
     "is_executing": false
    }
   },
   "outputs": [
    {
     "name": "stdout",
     "text": [
      "(20504, 2399)\n(5193, 2399)\n"
     ],
     "output_type": "stream"
    }
   ],
   "source": [
    "print(train.shape)\n",
    "print(test.shape)"
   ]
  },
  {
   "cell_type": "code",
   "execution_count": 21,
   "metadata": {
    "pycharm": {
     "is_executing": false
    }
   },
   "outputs": [
    {
     "name": "stdout",
     "text": [
      "20504\n"
     ],
     "output_type": "stream"
    }
   ],
   "source": [
    "input_dim = len(train[0])\n",
    "print(input_dim)"
   ]
  },
  {
   "cell_type": "code",
   "execution_count": 22,
   "metadata": {
    "pycharm": {
     "is_executing": false
    }
   },
   "outputs": [],
   "source": [
    "# Dummy data\n",
    "# x_train = np.array([[1,2,3], [1,2,2], [1,1,3]])\n",
    "# y_train = np.array([1, 0, 1])\n",
    "# input_dim = len(x_train.columns)"
   ]
  },
  {
   "cell_type": "code",
   "execution_count": 23,
   "metadata": {
    "pycharm": {
     "is_executing": false
    }
   },
   "outputs": [],
   "source": [
    "def get_x_y_input(data):\n",
    "    \"\"\"Returns the input data X, the target output label Y and the number of \n",
    "    dimensions in the input\n",
    "    \"\"\"\n",
    "    Y = train['shot_made_flag']\n",
    "    X = train.drop(columns=['shot_made_flag'])\n",
    "    input_dim = X.shape[1]  # number of columns\n",
    "    return X, Y, input_dim"
   ]
  },
  {
   "cell_type": "code",
   "execution_count": 24,
   "metadata": {
    "pycharm": {
     "is_executing": false
    }
   },
   "outputs": [],
   "source": [
    "# The input data (x_train) and the label data used for training the model\n",
    "x_train, y_train, input_dim = get_x_y_input(train)\n",
    "\n",
    "x_validation, y_validation, input_dim = get_x_y_input(test) "
   ]
  },
  {
   "cell_type": "markdown",
   "metadata": {
    "pycharm": {
     "name": "#%% md\n"
    }
   },
   "source": [
    "## Create model\n",
    "The model works on dummy data, see above"
   ]
  },
  {
   "cell_type": "markdown",
   "source": [
    "It carves out some regions for the KIA class, but they're not very natural. Let's try one more classifier: k-Nearest Neighbors."
   ],
   "metadata": {
    "collapsed": false,
    "pycharm": {
     "name": "#%% md\n"
    }
   }
  },
  {
   "cell_type": "code",
   "execution_count": 25,
   "outputs": [
    {
     "name": "stdout",
     "text": [
      "Loop: 1 accuracy  1.0\n",
      "Loop: 2 accuracy  0.7653140850565743\n",
      "Loop: 3 accuracy  0.7742879438158408\n"
     ],
     "output_type": "stream"
    },
    {
     "data": {
      "text/plain": "Text(0, 0.5, 'Testing Accuracy')"
     },
     "metadata": {},
     "output_type": "execute_result",
     "execution_count": 25
    },
    {
     "data": {
      "text/plain": "<Figure size 432x288 with 1 Axes>",
      "image/png": "[encoded data removed]"
     },
     "metadata": {
      "needs_background": "light"
     },
     "output_type": "display_data"
    }
   ],
   "source": [
    "from sklearn.metrics import accuracy_score\n",
    "from sklearn.neighbors import KNeighborsClassifier\n",
    "from mlxtend.plotting import plot_decision_regions\n",
    "import matplotlib.pyplot as plt\n",
    "\n",
    "# try K=1 through K=X and note the testing accuracy\n",
    "k_range = range(1, 4)\n",
    "\n",
    "scores = []\n",
    "\n",
    "for k in k_range:\n",
    "    knn = KNeighborsClassifier(k) # We set the number of neighbors to 15\n",
    "    knn.fit(x_train, y_train)\n",
    "    y_predicted = knn.predict(x_validation)\n",
    "    scores.append(accuracy_score(y_validation, y_predicted))\n",
    "    print('Loop:', k ,'accuracy ', accuracy_score(y_validation, y_predicted))\n",
    "\n",
    "#plot_decision_regions(x_train[:500].to_numpy(), y_train.astype(np.integer)[:500].to_numpy(), clf=knn, feature_index = [0,1], res=0.1); # This is a slow classifier, so we reduce the resolution    \n",
    "\n",
    "# allow plots to appear within the notebook\n",
    "%matplotlib inline\n",
    "\n",
    "# plot the relationship between K and testing accuracy\n",
    "# plt.plot(x_axis, y_axis)\n",
    "plt.plot(k_range, scores)\n",
    "plt.xlabel('Value of K for KNN')\n",
    "plt.ylabel('Testing Accuracy')\n",
    "\n",
    "#https://www.ritchieng.com/machine-learning-k-nearest-neighbors-knn/"
   ],
   "metadata": {
    "collapsed": false,
    "pycharm": {
     "name": "#%%\n",
     "is_executing": false
    }
   }
  }
 ],
 "metadata": {
  "kernelspec": {
   "display_name": "Python 3",
   "language": "python",
   "name": "python3"
  },
  "language_info": {
   "codemirror_mode": {
    "name": "ipython",
    "version": 3
   },
   "file_extension": ".py",
   "mimetype": "text/x-python",
   "name": "python",
   "nbconvert_exporter": "python",
   "pygments_lexer": "ipython3",
   "version": "3.7.4"
  },
  "pycharm": {
   "stem_cell": {
    "cell_type": "raw",
    "source": [],
    "metadata": {
     "collapsed": false
    }
   }
  }
 },
 "nbformat": 4,
 "nbformat_minor": 4
}