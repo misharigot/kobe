{
 "cells": [
  {
   "cell_type": "markdown",
   "metadata": {
    "colab_type": "text",
    "id": "view-in-github"
   },
   "source": [
    "<a href=\"https://colab.research.google.com/github/misharigot/kobe/blob/master/src/model/model.ipynb\" target=\"_parent\"><img src=\"https://colab.research.google.com/assets/colab-badge.svg\" alt=\"Open In Colab\"/></a>"
   ]
  },
  {
   "cell_type": "markdown",
   "metadata": {
    "colab_type": "text",
    "id": "Pl5KceKr8HWB"
   },
   "source": [
    "This notebook contains the neural network to predict kobe's shots."
   ]
  },
  {
   "cell_type": "markdown",
   "metadata": {
    "colab_type": "text",
    "id": "PQF73eWo8HWF"
   },
   "source": [
    "## To Do from Trello\n",
    "- [x] Implementeren van cross validation.\n",
    "- [ ] Connecten van nieuwe cross validation module met de nn model module.\n",
    "- [ ] Bouwen van verschillende netwerken (vorm, aantal nodes etc.)\n",
    "- [ ] Kijken welke loss function we moeten gebruiken, cross entropy vs log loss. Log loss sowieso proberen om te vergelijken met competition entries.\n",
    "- [ ] Implementeren van model export functie."
   ]
  },
  {
   "cell_type": "code",
   "execution_count": 1,
   "metadata": {
    "colab": {},
    "colab_type": "code",
    "id": "P32ha3sG8HWH",
    "outputId": "57c6a5d5-0c5d-4301-d86c-be20ad40023d"
   },
   "outputs": [
    {
     "name": "stderr",
     "output_type": "stream",
     "text": [
      "Using TensorFlow backend.\n"
     ]
    }
   ],
   "source": [
    "import sys; sys.path.insert(0, '..')  # Needed to make the import below work\n",
    "\n",
    "from multiple_train_test_splits import MultipleTrainTestSplits\n",
    "\n",
    "import numpy as np\n",
    "import pandas as pd\n",
    "\n",
    "from keras.models import Sequential\n",
    "from keras.layers import Dense\n",
    "from sklearn import preprocessing"
   ]
  },
  {
   "cell_type": "code",
   "execution_count": 2,
   "metadata": {},
   "outputs": [],
   "source": [
    "def combine_time(df: pd.DataFrame) -> pd.DataFrame:\n",
    "    \"\"\"Combine the minutes and seconds remaining columns into one column.\n",
    "    \"\"\"\n",
    "    df['minutes_remaining'] = df['minutes_remaining'].astype(int)\n",
    "    df['seconds_remaining'] = df['seconds_remaining'].astype(int)\n",
    "\n",
    "    # Combine minutes and seconds remaining into decimal minutes remaining, e.g. 6.5 for 6 mins and 30 secs.\n",
    "    df['time_remaining'] = round(df['minutes_remaining'] + (df['seconds_remaining'] / 60), 2)\n",
    "    return df"
   ]
  },
  {
   "cell_type": "code",
   "execution_count": 3,
   "metadata": {},
   "outputs": [],
   "source": [
    "def one_hot_encode(df: pd.DataFrame, encoder: preprocessing.OneHotEncoder = None) -> pd.DataFrame:\n",
    "    \"\"\"One-hot encode all categorical columns.\n",
    "    Optionally provide an encoder. Use the training set encoder to one-hot encode the test set.\n",
    "    \"\"\"\n",
    "     # Categorize all columns based on their data type\n",
    "    categorical_columns = [\n",
    "        'action_type',\n",
    "        'combined_shot_type',\n",
    "        'game_event_id', # Meaning?\n",
    "        'game_id',\n",
    "        'season',\n",
    "        'shot_type',\n",
    "        'shot_zone_area',\n",
    "        'shot_zone_basic',\n",
    "        'shot_zone_range',\n",
    "        'team_id',\n",
    "        'team_name',\n",
    "        'matchup',\n",
    "        'opponent'\n",
    "    ]\n",
    "\n",
    "    temporal_columns = [\n",
    "        'game_date'\n",
    "    ]\n",
    "\n",
    "    remaining_columns = [\n",
    "        'lat',\n",
    "        'loc_x',\n",
    "        'loc_y',\n",
    "        'lon',\n",
    "        'period',\n",
    "        'shot_distance',\n",
    "        'time_remaining',\n",
    "        'shot_made_flag'  # y label\n",
    "    ]\n",
    "\n",
    "    excluded_columns = [\n",
    "        'shot_id',            # Just an auto-increment id, does not mean anything\n",
    "        'minutes_remaining',  # Not needed, since we use the engineered field 'time_remaining'\n",
    "        'seconds_remaining'   # Not needed, since we use the engineered field 'time_remaining'\n",
    "    ]\n",
    "\n",
    "    # Convert relevant columns to categorical columns\n",
    "    df[categorical_columns] = df[categorical_columns].astype('category')\n",
    "    df_with_only_categoricals = df[categorical_columns]\n",
    "\n",
    "    # One hot encode categorical columns\n",
    "    if encoder is None:\n",
    "        encoder = preprocessing.OneHotEncoder(handle_unknown='ignore')\n",
    "        encoder.fit(df_with_only_categoricals)\n",
    "    one_hot_encoded_df = pd.DataFrame(encoder.transform(df_with_only_categoricals).toarray())\n",
    "    \n",
    "\n",
    "    # Combine the one hot encoded part of the df with the remaining df\n",
    "    non_categorical_df = df[remaining_columns]\n",
    "    resulting_df = pd.concat([one_hot_encoded_df, non_categorical_df], axis=1)\n",
    "    return resulting_df, encoder"
   ]
  },
  {
   "cell_type": "code",
   "execution_count": 8,
   "metadata": {},
   "outputs": [],
   "source": [
    "def get_x(data: pd.DataFrame) -> pd.DataFrame:\n",
    "    \"\"\"Returns the features.\n",
    "    \"\"\"\n",
    "    X = data.drop(columns=['shot_made_flag'])\n",
    "    return X\n",
    "\n",
    "def get_y(data: pd.DataFrame) -> pd.Series:\n",
    "    \"\"\"Returns the target.\n",
    "    \"\"\"\n",
    "    Y = data['shot_made_flag'].copy()\n",
    "    return Y\n"
   ]
  },
  {
   "cell_type": "code",
   "execution_count": 9,
   "metadata": {},
   "outputs": [],
   "source": [
    "def preprocess(data: pd.DataFrame, encoder:preprocessing.OneHotEncoder = None) -> np.array:\n",
    "    \"\"\"Preprocess the raw kobe data from Kaggle.\n",
    "    Optionally provide an encoder. Use the training set encoder to one-hot encode the test set.\n",
    "    \"\"\"\n",
    "    df = combine_time(data)\n",
    "    df, encoder = one_hot_encode(df, encoder)\n",
    "    \n",
    "    return df, encoder"
   ]
  },
  {
   "cell_type": "code",
   "execution_count": 10,
   "metadata": {},
   "outputs": [],
   "source": [
    "def create_model(input_dim: int):\n",
    "    model = Sequential()\n",
    "\n",
    "    model.add(Dense(units=64, activation='relu', input_dim=input_dim))\n",
    "    model.add(Dense(units=1, activation='sigmoid'))\n",
    "    model.compile(loss='binary_crossentropy',\n",
    "                  optimizer='rmsprop',\n",
    "                  metrics=['accuracy'])\n",
    "    return model\n"
   ]
  },
  {
   "cell_type": "code",
   "execution_count": 12,
   "metadata": {
    "colab": {},
    "colab_type": "code",
    "id": "5sbi8PrU8HXm",
    "outputId": "79b3a233-10c7-4e46-fe67-a71c3d7917b1"
   },
   "outputs": [
    {
     "name": "stdout",
     "output_type": "stream",
     "text": [
      "       action_type combined_shot_type  game_event_id   game_id   season  \\\n",
      "count         5141               5141           5141      5141     5141   \n",
      "unique          26                  5            557       291        4   \n",
      "top      Jump Shot          Jump Shot            313  20200069  2002-03   \n",
      "freq          3235               3817             22        39     1598   \n",
      "\n",
      "             shot_type shot_zone_area shot_zone_basic  shot_zone_range  \\\n",
      "count             5141           5141            5141             5141   \n",
      "unique               2              6               7                5   \n",
      "top     2PT Field Goal      Center(C)       Mid-Range  Less Than 8 ft.   \n",
      "freq              4422           2408            2300             1742   \n",
      "\n",
      "           team_id           team_name      matchup opponent  \n",
      "count         5141                5141         5141     5141  \n",
      "unique           1                   1           60       30  \n",
      "top     1610612747  Los Angeles Lakers  LAL vs. SAS      SAS  \n",
      "freq          5141                5141          180      320  \n",
      "#######################################################\n",
      "####\n",
      "       action_type combined_shot_type  game_event_id   game_id   season  \\\n",
      "count         5139               5139           5139      5139     5139   \n",
      "unique          42                  6            557       267        5   \n",
      "top      Jump Shot          Jump Shot            398  20601081  2005-06   \n",
      "freq          3346               3942             24        41     1792   \n",
      "\n",
      "             shot_type shot_zone_area shot_zone_basic shot_zone_range  \\\n",
      "count             5139           5139            5139            5139   \n",
      "unique               2              6               7               5   \n",
      "top     2PT Field Goal      Center(C)       Mid-Range       16-24 ft.   \n",
      "freq              3856           2036            2101            1524   \n",
      "\n",
      "           team_id           team_name      matchup opponent  \n",
      "count         5139                5139         5139     5139  \n",
      "unique           1                   1           64       30  \n",
      "top     1610612747  Los Angeles Lakers  LAL vs. HOU      PHX  \n",
      "freq          5139                5139          172      282  \n",
      "#######################################################\n",
      "####\n",
      "Epoch 1/2\n",
      "5141/5141 [==============================] - 2s 403us/step - loss: 0.7370 - accuracy: 0.5690\n",
      "Epoch 2/2\n",
      "5141/5141 [==============================] - 2s 380us/step - loss: 0.6781 - accuracy: 0.6069\n",
      "5139/5139 [==============================] - 1s 153us/step\n",
      "       action_type combined_shot_type  game_event_id   game_id   season  \\\n",
      "count        10280              10280          10280     10280    10280   \n",
      "unique          43                  6            577       557        8   \n",
      "top      Jump Shot          Jump Shot             11  20601081  2005-06   \n",
      "freq          6581               7759             40        41     1792   \n",
      "\n",
      "             shot_type shot_zone_area shot_zone_basic  shot_zone_range  \\\n",
      "count            10280          10280           10280            10280   \n",
      "unique               2              6               7                5   \n",
      "top     2PT Field Goal      Center(C)       Mid-Range  Less Than 8 ft.   \n",
      "freq              8278           4444            4401             3230   \n",
      "\n",
      "           team_id           team_name      matchup opponent  \n",
      "count        10280               10280        10280    10280  \n",
      "unique           1                   1           68       31  \n",
      "top     1610612747  Los Angeles Lakers  LAL vs. HOU      HOU  \n",
      "freq         10280               10280          325      564  \n",
      "#######################################################\n",
      "####\n",
      "       action_type combined_shot_type  game_event_id   game_id   season  \\\n",
      "count         5139               5139           5139      5139     5139   \n",
      "unique          41                  6            587       293        5   \n",
      "top      Jump Shot          Jump Shot              2  20900527  2008-09   \n",
      "freq          2970               3984             29        36     1407   \n",
      "\n",
      "             shot_type shot_zone_area shot_zone_basic  shot_zone_range  \\\n",
      "count             5139           5139            5139             5139   \n",
      "unique               2              6               7                5   \n",
      "top     2PT Field Goal      Center(C)       Mid-Range  Less Than 8 ft.   \n",
      "freq              4085           2254            2094             1487   \n",
      "\n",
      "           team_id           team_name    matchup opponent  \n",
      "count         5139                5139       5139     5139  \n",
      "unique           1                   1         60       30  \n",
      "top     1610612747  Los Angeles Lakers  LAL @ POR      SAC  \n",
      "freq          5139                5139        189      305  \n",
      "#######################################################\n",
      "####\n",
      "Epoch 1/2\n",
      "10280/10280 [==============================] - 5s 526us/step - loss: 0.7808 - accuracy: 0.5648\n",
      "Epoch 2/2\n",
      "10280/10280 [==============================] - 5s 509us/step - loss: 0.6972 - accuracy: 0.6163\n",
      "5139/5139 [==============================] - 1s 228us/step\n",
      "       action_type combined_shot_type  game_event_id   game_id   season  \\\n",
      "count        15419              15419          15419     15419    15419   \n",
      "unique          49                  6            599       849       12   \n",
      "top      Jump Shot          Jump Shot              2  20601081  2005-06   \n",
      "freq          9551              11743             64        41     1792   \n",
      "\n",
      "             shot_type shot_zone_area shot_zone_basic  shot_zone_range  \\\n",
      "count            15419          15419           15419            15419   \n",
      "unique               2              6               7                5   \n",
      "top     2PT Field Goal      Center(C)       Mid-Range  Less Than 8 ft.   \n",
      "freq             12363           6698            6495             4717   \n",
      "\n",
      "           team_id           team_name      matchup opponent  \n",
      "count        15419               15419        15419    15419  \n",
      "unique           1                   1           70       32  \n",
      "top     1610612747  Los Angeles Lakers  LAL vs. HOU      HOU  \n",
      "freq         15419               15419          443      818  \n",
      "#######################################################\n",
      "####\n",
      "       action_type combined_shot_type  game_event_id   game_id   season  \\\n",
      "count         5139               5139           5139      5139     5139   \n",
      "unique          46                  6            595       395        8   \n",
      "top      Jump Shot          Jump Shot             76  21501228  2012-13   \n",
      "freq          3033               4062             22        43     1328   \n",
      "\n",
      "             shot_type shot_zone_area shot_zone_basic  shot_zone_range  \\\n",
      "count             5139           5139            5139             5139   \n",
      "unique               2              6               7                5   \n",
      "top     2PT Field Goal      Center(C)       Mid-Range  Less Than 8 ft.   \n",
      "freq              3699           2199            1883             1486   \n",
      "\n",
      "           team_id           team_name    matchup opponent  \n",
      "count         5139                5139       5139     5139  \n",
      "unique           1                   1         68       33  \n",
      "top     1610612747  Los Angeles Lakers  LAL @ GSW      MIN  \n",
      "freq          5139                5139        158      299  \n",
      "#######################################################\n",
      "####\n",
      "Epoch 1/2\n",
      "15419/15419 [==============================] - 11s 694us/step - loss: 0.7128 - accuracy: 0.5793\n",
      "Epoch 2/2\n",
      "15419/15419 [==============================] - 11s 689us/step - loss: 0.6593 - accuracy: 0.6314\n",
      "5139/5139 [==============================] - 2s 299us/step\n"
     ]
    }
   ],
   "source": [
    "mtts = MultipleTrainTestSplits(csv_path='../../data/data.csv')\n",
    "\n",
    "test_set = mtts.test_set\n",
    "\n",
    "loss_and_metrics = []\n",
    "\n",
    "for train_set, validation_set in mtts.train_validation_split(as_dataframe=True):\n",
    "    # Preprocess the training set\n",
    "    preprocessed_train_set, one_hot_encoder = preprocess(train_set)\n",
    "    # Split the features from the target\n",
    "    x_train = get_x(preprocessed_train_set)\n",
    "    y_train = get_y(preprocessed_train_set)\n",
    "\n",
    "    # Preprocess the validation set (use the one hot encoder that was fit on the training set)\n",
    "    preprocessed_validation_set, _ = preprocess(validation_set, encoder=one_hot_encoder)\n",
    "    # Split the features from the target\n",
    "    x_validation = get_x(preprocessed_validation_set)\n",
    "    y_validation = get_y(preprocessed_validation_set)\n",
    "\n",
    "    input_dim = x_train.shape[1]  # number of columns (dimensions for the input layer of the model)\n",
    "    \n",
    "    model = create_model(input_dim=input_dim)\n",
    "    model.fit(x_train, y_train, epochs=2, batch_size=32)\n",
    "\n",
    "    loss_and_metrics.append(model.evaluate(x_validation, y_validation, batch_size=128))\n"
   ]
  },
  {
   "cell_type": "code",
   "execution_count": 22,
   "metadata": {},
   "outputs": [
    {
     "name": "stdout",
     "output_type": "stream",
     "text": [
      "Average accuracy: 0.6036\n"
     ]
    }
   ],
   "source": [
    "def print_average_metrics(loss_and_metrics):\n",
    "    # Get average accuracy\n",
    "    accuracies = []\n",
    "    for row in loss_and_metrics:\n",
    "        accuracies.append(row[1])\n",
    "    avg_accuracy = sum(accuracies) / len(accuracies)\n",
    "\n",
    "    print('Average accuracy:', round(avg_accuracy, 4))\n",
    "\n",
    "\n",
    "print_average_metrics(loss_and_metrics)"
   ]
  },
  {
   "cell_type": "code",
   "execution_count": 18,
   "metadata": {
    "colab": {},
    "colab_type": "code",
    "id": "FXdEfk8U8HXz",
    "outputId": "93c02ec8-0302-466c-98da-328924921432"
   },
   "outputs": [
    {
     "data": {
      "text/plain": [
       "array([[0.26074135],\n",
       "       [0.2928418 ],\n",
       "       [0.2698071 ],\n",
       "       ...,\n",
       "       [0.29890507],\n",
       "       [0.9255194 ],\n",
       "       [0.4461364 ]], dtype=float32)"
      ]
     },
     "execution_count": 18,
     "metadata": {},
     "output_type": "execute_result"
    }
   ],
   "source": [
    "classes = model.predict(x_validation, batch_size=128)\n",
    "classes"
   ]
  },
  {
   "cell_type": "code",
   "execution_count": null,
   "metadata": {},
   "outputs": [],
   "source": []
  }
 ],
 "metadata": {
  "colab": {
   "include_colab_link": true,
   "name": "model.ipynb",
   "provenance": []
  },
  "kernelspec": {
   "display_name": "kobe",
   "language": "python",
   "name": "kobe"
  },
  "language_info": {
   "codemirror_mode": {
    "name": "ipython",
    "version": 3
   },
   "file_extension": ".py",
   "mimetype": "text/x-python",
   "name": "python",
   "nbconvert_exporter": "python",
   "pygments_lexer": "ipython3",
   "version": "3.7.6"
  }
 },
 "nbformat": 4,
 "nbformat_minor": 4
}
