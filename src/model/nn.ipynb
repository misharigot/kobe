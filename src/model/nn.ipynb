{
 "cells": [
  {
   "cell_type": "markdown",
   "metadata": {
    "colab_type": "text",
    "id": "view-in-github"
   },
   "source": [
    "<a href=\"https://colab.research.google.com/github/misharigot/kobe/blob/master/src/model/nn.ipynb\" target=\"_parent\"><img src=\"https://colab.research.google.com/assets/colab-badge.svg\" alt=\"Open In Colab\"/></a>"
   ]
  },
  {
   "cell_type": "markdown",
   "metadata": {
    "colab_type": "text",
    "id": "Pl5KceKr8HWB"
   },
   "source": [
    "This notebook contains the neural network to predict kobe's shots."
   ]
  },
  {
   "cell_type": "markdown",
   "metadata": {
    "colab_type": "text",
    "id": "PQF73eWo8HWF"
   },
   "source": [
    "## To Do from Trello\n",
    "- [x] Implementeren van cross validation.\n",
    "- [ ] Connecten van nieuwe cross validation module met de nn model module.\n",
    "- [ ] Bouwen van verschillende netwerken (vorm, aantal nodes etc.)\n",
    "- [ ] Kijken welke loss function we moeten gebruiken, cross entropy vs log loss. Log loss sowieso proberen om te vergelijken met competition entries.\n",
    "- [ ] Implementeren van model export functie."
   ]
  },
  {
   "cell_type": "code",
   "execution_count": 2,
   "metadata": {
    "colab": {
     "base_uri": "https://localhost:8080/",
     "height": 136
    },
    "colab_type": "code",
    "id": "UNP7SAMudAib",
    "outputId": "a97318f1-98de-49f5-9c31-1cc4db31e160"
   },
   "outputs": [
    {
     "name": "stdout",
     "output_type": "stream",
     "text": [
      "Cloning into 'kobe'...\n",
      "remote: Enumerating objects: 178, done.\u001b[K\n",
      "remote: Counting objects: 100% (178/178), done.\u001b[K\n",
      "remote: Compressing objects: 100% (132/132), done.\u001b[K\n",
      "remote: Total 178 (delta 74), reused 126 (delta 34), pack-reused 0\u001b[K\n",
      "Receiving objects: 100% (178/178), 1.36 MiB | 19.90 MiB/s, done.\n",
      "Resolving deltas: 100% (74/74), done.\n"
     ]
    }
   ],
   "source": [
    "# When using this notebook in Google Colab, clone the repo in the file system in\n",
    "# order to use the python modules from the repo.\n",
    "!git  clone https://github.com/misharigot/kobe.git"
   ]
  },
  {
   "cell_type": "code",
   "execution_count": 3,
   "metadata": {
    "colab": {
     "base_uri": "https://localhost:8080/",
     "height": 80
    },
    "colab_type": "code",
    "id": "P32ha3sG8HWH",
    "outputId": "3754cefe-c89f-4675-8f71-538127099cae"
   },
   "outputs": [
    {
     "name": "stderr",
     "output_type": "stream",
     "text": [
      "Using TensorFlow backend.\n"
     ]
    },
    {
     "data": {
      "text/html": [
       "<p style=\"color: red;\">\n",
       "The default version of TensorFlow in Colab will switch to TensorFlow 2.x on the 27th of March, 2020.<br>\n",
       "We recommend you <a href=\"https://www.tensorflow.org/guide/migrate\" target=\"_blank\">upgrade</a> now\n",
       "or ensure your notebook will continue to use TensorFlow 1.x via the <code>%tensorflow_version 1.x</code> magic:\n",
       "<a href=\"https://colab.research.google.com/notebooks/tensorflow_version.ipynb\" target=\"_blank\">more info</a>.</p>\n"
      ],
      "text/plain": [
       "<IPython.core.display.HTML object>"
      ]
     },
     "metadata": {
      "tags": []
     },
     "output_type": "display_data"
    }
   ],
   "source": [
    "import sys; sys.path.insert(0, '..')  # Needed to make the import below work\n",
    "\n",
    "# Use the line below in Colab\n",
    "from kobe.src.multiple_train_test_splits import MultipleTrainTestSplits\n",
    "\n",
    "# Use the line below in a local env\n",
    "# from multiple_train_test_splits import MultipleTrainTestSplits\n",
    "\n",
    "import numpy as np\n",
    "import pandas as pd\n",
    "\n",
    "from keras.models import Sequential\n",
    "from keras.layers import Dense, Dropout\n",
    "from keras.callbacks import ModelCheckpoint\n",
    "from sklearn import preprocessing"
   ]
  },
  {
   "cell_type": "code",
   "execution_count": null,
   "metadata": {
    "colab": {},
    "colab_type": "code",
    "id": "WPi2UeL4GCCp"
   },
   "outputs": [],
   "source": [
    "def combine_time(df: pd.DataFrame) -> pd.DataFrame:\n",
    "    \"\"\"Combine the minutes and seconds remaining columns into one column.\n",
    "    \"\"\"\n",
    "    df['minutes_remaining'] = df['minutes_remaining'].astype(int)\n",
    "    df['seconds_remaining'] = df['seconds_remaining'].astype(int)\n",
    "\n",
    "    # Combine minutes and seconds remaining into decimal minutes remaining, e.g. 6.5 for 6 mins and 30 secs.\n",
    "    df['time_remaining'] = round(df['minutes_remaining'] + (df['seconds_remaining'] / 60), 2)\n",
    "    return df"
   ]
  },
  {
   "cell_type": "code",
   "execution_count": null,
   "metadata": {
    "colab": {},
    "colab_type": "code",
    "id": "W7rNYKcCGCCs"
   },
   "outputs": [],
   "source": [
    "def one_hot_encode(df: pd.DataFrame, encoder: preprocessing.OneHotEncoder = None) -> pd.DataFrame:\n",
    "    \"\"\"One-hot encode all categorical columns.\n",
    "    Optionally provide an encoder. Use the training set encoder to one-hot encode the test set.\n",
    "    \"\"\"\n",
    "     # Categorize all columns based on their data type\n",
    "    categorical_columns = [\n",
    "        'action_type',\n",
    "        'combined_shot_type',\n",
    "        'game_event_id', # Meaning?\n",
    "        'game_id',\n",
    "        'season',\n",
    "        'shot_type',\n",
    "        'shot_zone_area',\n",
    "        'shot_zone_basic',\n",
    "        'shot_zone_range',\n",
    "        'team_id',\n",
    "        'team_name',\n",
    "        'matchup',\n",
    "        'opponent'\n",
    "    ]\n",
    "\n",
    "    temporal_columns = [\n",
    "        'game_date'\n",
    "    ]\n",
    "\n",
    "    remaining_columns = [\n",
    "        'lat',\n",
    "        'loc_x',\n",
    "        'loc_y',\n",
    "        'lon',\n",
    "        'period',\n",
    "        'shot_distance',\n",
    "        'time_remaining',\n",
    "        'shot_made_flag'  # y label\n",
    "    ]\n",
    "\n",
    "    excluded_columns = [\n",
    "        'shot_id',            # Just an auto-increment id, does not mean anything\n",
    "        'minutes_remaining',  # Not needed, since we use the engineered field 'time_remaining'\n",
    "        'seconds_remaining'   # Not needed, since we use the engineered field 'time_remaining'\n",
    "    ]\n",
    "\n",
    "    # Convert relevant columns to categorical columns\n",
    "    df[categorical_columns] = df[categorical_columns].astype('category')\n",
    "    df_with_only_categoricals = df[categorical_columns]\n",
    "\n",
    "    # One hot encode categorical columns\n",
    "    if encoder is None:\n",
    "        encoder = preprocessing.OneHotEncoder(handle_unknown='ignore')\n",
    "        encoder.fit(df_with_only_categoricals)\n",
    "    one_hot_encoded_df = pd.DataFrame(encoder.transform(df_with_only_categoricals).toarray())\n",
    "\n",
    "    # Combine the one hot encoded part of the df with the remaining df\n",
    "    non_categorical_df = df[remaining_columns]\n",
    "    resulting_df = pd.concat([one_hot_encoded_df, non_categorical_df], axis=1)\n",
    "    return resulting_df, encoder"
   ]
  },
  {
   "cell_type": "code",
   "execution_count": null,
   "metadata": {
    "colab": {},
    "colab_type": "code",
    "id": "JS4xXHyQGCCv"
   },
   "outputs": [],
   "source": [
    "def get_x(data: pd.DataFrame) -> pd.DataFrame:\n",
    "    \"\"\"Returns the features.\n",
    "    \"\"\"\n",
    "    X = data.drop(columns=['shot_made_flag'])\n",
    "    return X\n",
    "\n",
    "def get_y(data: pd.DataFrame) -> pd.Series:\n",
    "    \"\"\"Returns the target.\n",
    "    \"\"\"\n",
    "    Y = data['shot_made_flag'].copy()\n",
    "    return Y\n"
   ]
  },
  {
   "cell_type": "code",
   "execution_count": null,
   "metadata": {
    "colab": {},
    "colab_type": "code",
    "id": "nVagvAztGCCy"
   },
   "outputs": [],
   "source": [
    "def preprocess(data: pd.DataFrame, encoder:preprocessing.OneHotEncoder = None) -> np.array:\n",
    "    \"\"\"Preprocess the raw kobe data from Kaggle.\n",
    "    Optionally provide an encoder. Use the training set encoder to one-hot encode the test set.\n",
    "    \"\"\"\n",
    "    df = combine_time(data)\n",
    "    df, encoder = one_hot_encode(df, encoder)\n",
    "    \n",
    "    return df, encoder"
   ]
  },
  {
   "cell_type": "code",
   "execution_count": null,
   "metadata": {
    "colab": {},
    "colab_type": "code",
    "id": "g0Rei6a8GCC1"
   },
   "outputs": [],
   "source": [
    "def create_model_1(input_dim: int):\n",
    "    \"\"\"Simple one hidden layer network.\n",
    "    \"\"\"\n",
    "    model = Sequential()\n",
    "\n",
    "    model.add(Dense(units=32, activation='relu', input_dim=input_dim))\n",
    "    model.add(Dropout(0.5))\n",
    "    model.add(Dense(units=1, activation='sigmoid'))\n",
    "    model.add(Dropout(0.5))\n",
    "    model.compile(loss='binary_crossentropy',\n",
    "                  optimizer='rmsprop',\n",
    "                  metrics=['accuracy'])\n",
    "    return model\n",
    "\n",
    "\n",
    "def create_model_2(input_dim: int):\n",
    "    \"\"\"2 hidden layers network.\n",
    "    \"\"\"\n",
    "    model = Sequential()\n",
    "\n",
    "    model.add(Dense(units=64, activation='relu', input_dim=input_dim))\n",
    "    model.add(Dropout(0.5))\n",
    "    model.add(Dense(units=32, activation='relu'))\n",
    "    model.add(Dropout(0.5))\n",
    "    model.add(Dense(units=1, activation='sigmoid'))\n",
    "    model.compile(loss='binary_crossentropy',\n",
    "                  optimizer='rmsprop',\n",
    "                  metrics=['accuracy'])\n",
    "    return model\n",
    "\n",
    "\n",
    "def create_model_3(input_dim: int):\n",
    "    \"\"\"1 hidden layer network with a lot of neurons.\n",
    "    \"\"\"\n",
    "    model = Sequential()\n",
    "\n",
    "    model.add(Dense(units=int(input_dim/2), activation='relu', input_dim=input_dim))\n",
    "    model.add(Dropout(0.5))\n",
    "    model.add(Dense(units=1, activation='sigmoid'))\n",
    "    model.compile(loss='binary_crossentropy',\n",
    "                  optimizer='rmsprop',\n",
    "                  metrics=['accuracy'])\n",
    "    return model\n",
    "\n",
    "\n",
    "def get_models_dict():\n",
    "    models = {}\n",
    "    # models['model_1'] = create_model_1\n",
    "    # models['model_2'] = create_model_2\n",
    "    models['model_3'] = create_model_3\n",
    "    return models\n"
   ]
  },
  {
   "cell_type": "code",
   "execution_count": 13,
   "metadata": {
    "colab": {
     "base_uri": "https://localhost:8080/",
     "height": 272
    },
    "colab_type": "code",
    "id": "5sbi8PrU8HXm",
    "outputId": "712223af-c93d-4694-ec10-6de46847d035"
   },
   "outputs": [
    {
     "name": "stdout",
     "output_type": "stream",
     "text": [
      "\n",
      "Epoch 00001: val_acc improved from -inf to 0.52909, saving model to model_3_fold_1_weights-improvement-01-0.53.hdf5\n",
      "\n",
      "Epoch 00002: val_acc improved from 0.52909 to 0.61374, saving model to model_3_fold_1_weights-improvement-02-0.61.hdf5\n",
      "5139/5139 [==============================] - 0s 51us/step\n",
      "\n",
      "Epoch 00001: val_acc improved from -inf to 0.59720, saving model to model_3_fold_2_weights-improvement-01-0.60.hdf5\n",
      "\n",
      "Epoch 00002: val_acc improved from 0.59720 to 0.60809, saving model to model_3_fold_2_weights-improvement-02-0.61.hdf5\n",
      "5139/5139 [==============================] - 0s 82us/step\n",
      "\n",
      "Epoch 00001: val_acc improved from -inf to 0.61004, saving model to model_3_fold_3_weights-improvement-01-0.61.hdf5\n",
      "\n",
      "Epoch 00002: val_acc did not improve from 0.61004\n",
      "5139/5139 [==============================] - 1s 224us/step\n"
     ]
    }
   ],
   "source": [
    "# Use in Colab\n",
    "mtts = MultipleTrainTestSplits(csv_path='kobe/data/data.csv')\n",
    "\n",
    "# Use in local\n",
    "# mtts = MultipleTrainTestSplits(csv_path='../../data/data.csv')\n",
    "\n",
    "test_set = mtts.test_set\n",
    "\n",
    "loss_and_metrics = {}\n",
    "models = get_models_dict()\n",
    "\n",
    "# Loop over the models\n",
    "for model_name, model_func in models.items():\n",
    "    # checkpoint_path = \"weights-improvement-{epoch:02d}-{val_acc:.2f}.hdf5\"\n",
    "\n",
    "    # Loop over the train/validation splits/folds\n",
    "    n_fold = 0\n",
    "    for train_set, validation_set in mtts.train_validation_split(as_dataframe=True):\n",
    "        n_fold = n_fold + 1\n",
    "        checkpoint_path = f\"{model_name}_fold_{n_fold}_weights-improvement\" + \"-{epoch:02d}-{val_acc:.2f}.hdf5\"\n",
    "\n",
    "        # Preprocess the training set\n",
    "        preprocessed_train_set, one_hot_encoder = preprocess(train_set)\n",
    "        # Split the features from the target\n",
    "        x_train = get_x(preprocessed_train_set)\n",
    "        y_train = get_y(preprocessed_train_set)\n",
    "\n",
    "        # Preprocess the validation set (use the one hot encoder that was fit on the training set)\n",
    "        preprocessed_validation_set, _ = preprocess(validation_set, encoder=one_hot_encoder)\n",
    "        # Split the features from the target\n",
    "        x_validation = get_x(preprocessed_validation_set)\n",
    "        y_validation = get_y(preprocessed_validation_set)\n",
    "\n",
    "        input_dim = x_train.shape[1]  # number of columns (dimensions for the input layer of the model)\n",
    "        \n",
    "        # model = create_model(input_dim=input_dim)\n",
    "        model = model_func(input_dim)\n",
    "\n",
    "        # Create model checkpoint to be able to resume at a checkpoint when training crashes.\n",
    "        checkpoint = ModelCheckpoint(checkpoint_path, monitor='val_acc', verbose=1, save_best_only=True, mode='max')\n",
    "        callbacks_list = [checkpoint]\n",
    "\n",
    "        # Fit the model\n",
    "        model.fit(x_train, y_train, epochs=2, batch_size=10, \n",
    "                  validation_data=(x_validation, y_validation),\n",
    "                  callbacks=callbacks_list, verbose=0)\n",
    "\n",
    "        loss_and_metrics[f'{model_name}_fold_{n_fold}'] = (model.evaluate(x_validation, y_validation, batch_size=128))\n",
    "    "
   ]
  },
  {
   "cell_type": "code",
   "execution_count": null,
   "metadata": {
    "colab": {},
    "colab_type": "code",
    "id": "-ixfhtIrGCC8"
   },
   "outputs": [],
   "source": [
    "def print_average_metrics(loss_and_metrics):\n",
    "    # Get average accuracy\n",
    "    accuracies = []\n",
    "    for row in loss_and_metrics:\n",
    "        accuracies.append(row[1])\n",
    "    avg_accuracy = sum(accuracies) / len(accuracies)\n",
    "\n",
    "    print('Average accuracy:', round(avg_accuracy, 4))\n",
    "\n",
    "\n",
    "print_average_metrics(loss_and_metrics)"
   ]
  },
  {
   "cell_type": "code",
   "execution_count": 14,
   "metadata": {
    "colab": {
     "base_uri": "https://localhost:8080/",
     "height": 408
    },
    "colab_type": "code",
    "id": "hUdO5rBiktrw",
    "outputId": "4145fb67-5ea7-4532-ed6a-623578bddf6f"
   },
   "outputs": [
    {
     "name": "stdout",
     "output_type": "stream",
     "text": [
      "total 75216\n",
      "    4 drwxr-xr-x 1 root root     4096 Mar 26 02:10 .\n",
      "    4 drwxr-xr-x 1 root root     4096 Mar 26 02:02 ..\n",
      "    4 drwxr-xr-x 1 root root     4096 Mar 24 16:59 .config\n",
      "    4 drwxr-xr-x 7 root root     4096 Mar 26 02:04 kobe\n",
      "  272 -rw-r--r-- 1 root root   277168 Mar 26 02:04 model_1_weights-improvement-01-0.45.hdf5\n",
      "  352 -rw-r--r-- 1 root root   358328 Mar 26 02:04 model_1_weights-improvement-01-0.46.hdf5\n",
      "  432 -rw-r--r-- 1 root root   442040 Mar 26 02:04 model_1_weights-improvement-01-0.47.hdf5\n",
      "  700 -rw-r--r-- 1 root root   716464 Mar 26 02:05 model_2_weights-improvement-01-0.58.hdf5\n",
      "  864 -rw-r--r-- 1 root root   883888 Mar 26 02:05 model_2_weights-improvement-01-0.61.hdf5\n",
      "  700 -rw-r--r-- 1 root root   716464 Mar 26 02:05 model_2_weights-improvement-02-0.59.hdf5\n",
      "  864 -rw-r--r-- 1 root root   883888 Mar 26 02:06 model_2_weights-improvement-02-0.65.hdf5\n",
      " 3952 -rw-r--r-- 1 root root  4043104 Mar 26 02:09 model_3_fold_1_weights-improvement-01-0.53.hdf5\n",
      " 3952 -rw-r--r-- 1 root root  4043104 Mar 26 02:09 model_3_fold_1_weights-improvement-02-0.61.hdf5\n",
      " 6824 -rw-r--r-- 1 root root  6985344 Mar 26 02:09 model_3_fold_2_weights-improvement-01-0.60.hdf5\n",
      " 6824 -rw-r--r-- 1 root root  6985344 Mar 26 02:09 model_3_fold_2_weights-improvement-02-0.61.hdf5\n",
      "10620 -rw-r--r-- 1 root root 10871464 Mar 26 02:10 model_3_fold_3_weights-improvement-01-0.61.hdf5\n",
      " 3952 -rw-r--r-- 1 root root  4043104 Mar 26 02:07 model_3_weights-improvement-01-0.49.hdf5\n",
      " 6824 -rw-r--r-- 1 root root  6985344 Mar 26 02:07 model_3_weights-improvement-01-0.58.hdf5\n",
      "10620 -rw-r--r-- 1 root root 10871464 Mar 26 02:08 model_3_weights-improvement-01-0.64.hdf5\n",
      " 6824 -rw-r--r-- 1 root root  6985344 Mar 26 02:08 model_3_weights-improvement-02-0.62.hdf5\n",
      "10620 -rw-r--r-- 1 root root 10871464 Mar 26 02:08 model_3_weights-improvement-02-0.66.hdf5\n",
      "    4 drwxr-xr-x 1 root root     4096 Mar 18 16:23 sample_data\n"
     ]
    }
   ],
   "source": [
    "!ls -lsa"
   ]
  },
  {
   "cell_type": "code",
   "execution_count": null,
   "metadata": {
    "colab": {},
    "colab_type": "code",
    "id": "FXdEfk8U8HXz",
    "outputId": "93c02ec8-0302-466c-98da-328924921432"
   },
   "outputs": [
    {
     "data": {
      "text/plain": [
       "array([[0.26074135],\n",
       "       [0.2928418 ],\n",
       "       [0.2698071 ],\n",
       "       ...,\n",
       "       [0.29890507],\n",
       "       [0.9255194 ],\n",
       "       [0.4461364 ]], dtype=float32)"
      ]
     },
     "execution_count": 18,
     "metadata": {
      "tags": []
     },
     "output_type": "execute_result"
    }
   ],
   "source": [
    "classes = model.predict(x_validation, batch_size=128)\n",
    "classes"
   ]
  }
 ],
 "metadata": {
  "accelerator": "GPU",
  "colab": {
   "include_colab_link": true,
   "name": "model.ipynb",
   "provenance": []
  },
  "kernelspec": {
   "display_name": "kobe",
   "language": "python",
   "name": "kobe"
  },
  "language_info": {
   "codemirror_mode": {
    "name": "ipython",
    "version": 3
   },
   "file_extension": ".py",
   "mimetype": "text/x-python",
   "name": "python",
   "nbconvert_exporter": "python",
   "pygments_lexer": "ipython3",
   "version": "3.7.6"
  }
 },
 "nbformat": 4,
 "nbformat_minor": 4
}
