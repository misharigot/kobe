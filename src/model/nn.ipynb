{
 "cells": [
  {
   "cell_type": "markdown",
   "metadata": {
    "colab_type": "text",
    "id": "view-in-github"
   },
   "source": [
    "<a href=\"https://colab.research.google.com/github/misharigot/kobe/blob/master/src/model/model.ipynb\" target=\"_parent\"><img src=\"https://colab.research.google.com/assets/colab-badge.svg\" alt=\"Open In Colab\"/></a>"
   ]
  },
  {
   "cell_type": "markdown",
   "metadata": {
    "colab_type": "text",
    "id": "Pl5KceKr8HWB"
   },
   "source": [
    "This notebook contains the neural network to predict kobe's shots."
   ]
  },
  {
   "cell_type": "markdown",
   "metadata": {
    "colab_type": "text",
    "id": "PQF73eWo8HWF"
   },
   "source": [
    "## To Do from Trello\n",
    "- [x] Implementeren van cross validation.\n",
    "- [ ] Connecten van nieuwe cross validation module met de nn model module.\n",
    "- [ ] Bouwen van verschillende netwerken (vorm, aantal nodes etc.)\n",
    "- [ ] Kijken welke loss function we moeten gebruiken, cross entropy vs log loss. Log loss sowieso proberen om te vergelijken met competition entries.\n",
    "- [ ] Implementeren van model export functie."
   ]
  },
  {
   "cell_type": "code",
   "execution_count": 1,
   "metadata": {
    "colab": {},
    "colab_type": "code",
    "id": "P32ha3sG8HWH",
    "outputId": "57c6a5d5-0c5d-4301-d86c-be20ad40023d"
   },
   "outputs": [
    {
     "name": "stderr",
     "output_type": "stream",
     "text": [
      "Using TensorFlow backend.\n"
     ]
    }
   ],
   "source": [
    "import numpy as np\n",
    "import csv\n",
    "import pandas as pd\n",
    "from scipy import stats\n",
    "\n",
    "from keras.models import Sequential\n",
    "from keras.layers import Dense\n",
    "import keras\n",
    "from sklearn import preprocessing"
   ]
  },
  {
   "cell_type": "markdown",
   "metadata": {
    "colab_type": "text",
    "id": "bhSml1lZ8HWM"
   },
   "source": [
    "## Load the data"
   ]
  },
  {
   "cell_type": "code",
   "execution_count": 5,
   "metadata": {},
   "outputs": [],
   "source": [
    "df = pd.read_csv('../../data/data.csv')"
   ]
  },
  {
   "cell_type": "markdown",
   "metadata": {
    "colab_type": "text",
    "id": "mJT7laiG8HWU"
   },
   "source": [
    "## Data preprocessing"
   ]
  },
  {
   "cell_type": "markdown",
   "metadata": {
    "colab_type": "text",
    "id": "f_PpXfGp8HWV"
   },
   "source": [
    "The following cell combines the two columns `minutes_remaining` and `seconds_remaining` into the new column `time_remaining`."
   ]
  },
  {
   "cell_type": "code",
   "execution_count": 7,
   "metadata": {
    "colab": {},
    "colab_type": "code",
    "id": "gWHyx0zs8HWW",
    "outputId": "05673831-3b3d-4164-c907-0a2169bde1e6"
   },
   "outputs": [
    {
     "data": {
      "text/html": [
       "<div>\n",
       "<style scoped>\n",
       "    .dataframe tbody tr th:only-of-type {\n",
       "        vertical-align: middle;\n",
       "    }\n",
       "\n",
       "    .dataframe tbody tr th {\n",
       "        vertical-align: top;\n",
       "    }\n",
       "\n",
       "    .dataframe thead th {\n",
       "        text-align: right;\n",
       "    }\n",
       "</style>\n",
       "<table border=\"1\" class=\"dataframe\">\n",
       "  <thead>\n",
       "    <tr style=\"text-align: right;\">\n",
       "      <th></th>\n",
       "      <th>time_remaining</th>\n",
       "    </tr>\n",
       "  </thead>\n",
       "  <tbody>\n",
       "    <tr>\n",
       "      <th>0</th>\n",
       "      <td>10.45</td>\n",
       "    </tr>\n",
       "    <tr>\n",
       "      <th>1</th>\n",
       "      <td>10.37</td>\n",
       "    </tr>\n",
       "    <tr>\n",
       "      <th>2</th>\n",
       "      <td>7.75</td>\n",
       "    </tr>\n",
       "    <tr>\n",
       "      <th>3</th>\n",
       "      <td>6.87</td>\n",
       "    </tr>\n",
       "    <tr>\n",
       "      <th>4</th>\n",
       "      <td>6.32</td>\n",
       "    </tr>\n",
       "    <tr>\n",
       "      <th>...</th>\n",
       "      <td>...</td>\n",
       "    </tr>\n",
       "    <tr>\n",
       "      <th>30692</th>\n",
       "      <td>6.08</td>\n",
       "    </tr>\n",
       "    <tr>\n",
       "      <th>30693</th>\n",
       "      <td>6.08</td>\n",
       "    </tr>\n",
       "    <tr>\n",
       "      <th>30694</th>\n",
       "      <td>3.47</td>\n",
       "    </tr>\n",
       "    <tr>\n",
       "      <th>30695</th>\n",
       "      <td>2.17</td>\n",
       "    </tr>\n",
       "    <tr>\n",
       "      <th>30696</th>\n",
       "      <td>0.65</td>\n",
       "    </tr>\n",
       "  </tbody>\n",
       "</table>\n",
       "<p>30697 rows × 1 columns</p>\n",
       "</div>"
      ],
      "text/plain": [
       "       time_remaining\n",
       "0               10.45\n",
       "1               10.37\n",
       "2                7.75\n",
       "3                6.87\n",
       "4                6.32\n",
       "...               ...\n",
       "30692            6.08\n",
       "30693            6.08\n",
       "30694            3.47\n",
       "30695            2.17\n",
       "30696            0.65\n",
       "\n",
       "[30697 rows x 1 columns]"
      ]
     },
     "execution_count": 7,
     "metadata": {},
     "output_type": "execute_result"
    }
   ],
   "source": [
    "# Combine minutes and seconds remaining into decimal minutes remaining, e.g. 6.5 for 6 mins and 30 secs.\n",
    "df['time_remaining'] = round(df['minutes_remaining'] + (df['seconds_remaining'] / 60), 2)\n",
    "df[['time_remaining']]"
   ]
  },
  {
   "cell_type": "markdown",
   "metadata": {
    "colab_type": "text",
    "id": "iksIzEPK8HWg"
   },
   "source": [
    "### Convert the data types of the columns to categoricals when relevant"
   ]
  },
  {
   "cell_type": "code",
   "execution_count": 8,
   "metadata": {
    "colab": {},
    "colab_type": "code",
    "id": "XrbLRc6H8HWl"
   },
   "outputs": [],
   "source": [
    "# Categorize all columns based on their data type\n",
    "categoricals = [\n",
    "    'action_type',\n",
    "    'combined_shot_type',\n",
    "    'game_event_id', # Meaning?\n",
    "    'game_id',\n",
    "    'season',\n",
    "    'shot_type',\n",
    "    'shot_zone_area',\n",
    "    'shot_zone_basic',\n",
    "    'shot_zone_range',\n",
    "    'team_id',\n",
    "    'team_name',\n",
    "    'matchup',\n",
    "    'opponent'\n",
    "]\n",
    "\n",
    "temporal = [\n",
    "    'game_date'\n",
    "]\n",
    "\n",
    "remaining = [\n",
    "    'lat',\n",
    "    'loc_x',\n",
    "    'loc_y',\n",
    "    'lon',\n",
    "    'period',\n",
    "    'shot_distance',\n",
    "    'time_remaining',\n",
    "    'shot_made_flag'  # y label\n",
    "]\n",
    "\n",
    "perhaps_to_exclude = [\n",
    "    'shot_id',            # Just an auto-increment id, does not mean anything\n",
    "    'minutes_remaining',  # Not needed, since we use the engineered field 'time_remaining'\n",
    "    'seconds_remaining'   # Not needed, since we use the engineered field 'time_remaining'\n",
    "]\n",
    "\n",
    "# Convert to categorical\n",
    "df[categoricals] = df[categoricals].astype('category')\n"
   ]
  },
  {
   "cell_type": "markdown",
   "metadata": {
    "colab_type": "text",
    "id": "s7e-H_xC8HWu"
   },
   "source": [
    "## Encode categoricals to integers"
   ]
  },
  {
   "cell_type": "code",
   "execution_count": 9,
   "metadata": {
    "colab": {},
    "colab_type": "code",
    "id": "GOTP1Ljs8HWv",
    "outputId": "9eec7323-d603-4653-bc33-b4264bfbdc4d"
   },
   "outputs": [
    {
     "data": {
      "text/html": [
       "<div>\n",
       "<style scoped>\n",
       "    .dataframe tbody tr th:only-of-type {\n",
       "        vertical-align: middle;\n",
       "    }\n",
       "\n",
       "    .dataframe tbody tr th {\n",
       "        vertical-align: top;\n",
       "    }\n",
       "\n",
       "    .dataframe thead th {\n",
       "        text-align: right;\n",
       "    }\n",
       "</style>\n",
       "<table border=\"1\" class=\"dataframe\">\n",
       "  <thead>\n",
       "    <tr style=\"text-align: right;\">\n",
       "      <th></th>\n",
       "      <th>action_type</th>\n",
       "      <th>combined_shot_type</th>\n",
       "      <th>game_event_id</th>\n",
       "      <th>game_id</th>\n",
       "      <th>season</th>\n",
       "      <th>shot_type</th>\n",
       "      <th>shot_zone_area</th>\n",
       "      <th>shot_zone_basic</th>\n",
       "      <th>shot_zone_range</th>\n",
       "      <th>team_id</th>\n",
       "      <th>team_name</th>\n",
       "      <th>matchup</th>\n",
       "      <th>opponent</th>\n",
       "    </tr>\n",
       "  </thead>\n",
       "  <tbody>\n",
       "    <tr>\n",
       "      <th>0</th>\n",
       "      <td>Jump Shot</td>\n",
       "      <td>Jump Shot</td>\n",
       "      <td>10</td>\n",
       "      <td>20000012</td>\n",
       "      <td>2000-01</td>\n",
       "      <td>2PT Field Goal</td>\n",
       "      <td>Right Side(R)</td>\n",
       "      <td>Mid-Range</td>\n",
       "      <td>16-24 ft.</td>\n",
       "      <td>1610612747</td>\n",
       "      <td>Los Angeles Lakers</td>\n",
       "      <td>LAL @ POR</td>\n",
       "      <td>POR</td>\n",
       "    </tr>\n",
       "    <tr>\n",
       "      <th>1</th>\n",
       "      <td>Jump Shot</td>\n",
       "      <td>Jump Shot</td>\n",
       "      <td>12</td>\n",
       "      <td>20000012</td>\n",
       "      <td>2000-01</td>\n",
       "      <td>2PT Field Goal</td>\n",
       "      <td>Left Side(L)</td>\n",
       "      <td>Mid-Range</td>\n",
       "      <td>8-16 ft.</td>\n",
       "      <td>1610612747</td>\n",
       "      <td>Los Angeles Lakers</td>\n",
       "      <td>LAL @ POR</td>\n",
       "      <td>POR</td>\n",
       "    </tr>\n",
       "    <tr>\n",
       "      <th>2</th>\n",
       "      <td>Jump Shot</td>\n",
       "      <td>Jump Shot</td>\n",
       "      <td>35</td>\n",
       "      <td>20000012</td>\n",
       "      <td>2000-01</td>\n",
       "      <td>2PT Field Goal</td>\n",
       "      <td>Left Side Center(LC)</td>\n",
       "      <td>Mid-Range</td>\n",
       "      <td>16-24 ft.</td>\n",
       "      <td>1610612747</td>\n",
       "      <td>Los Angeles Lakers</td>\n",
       "      <td>LAL @ POR</td>\n",
       "      <td>POR</td>\n",
       "    </tr>\n",
       "    <tr>\n",
       "      <th>3</th>\n",
       "      <td>Jump Shot</td>\n",
       "      <td>Jump Shot</td>\n",
       "      <td>43</td>\n",
       "      <td>20000012</td>\n",
       "      <td>2000-01</td>\n",
       "      <td>2PT Field Goal</td>\n",
       "      <td>Right Side Center(RC)</td>\n",
       "      <td>Mid-Range</td>\n",
       "      <td>16-24 ft.</td>\n",
       "      <td>1610612747</td>\n",
       "      <td>Los Angeles Lakers</td>\n",
       "      <td>LAL @ POR</td>\n",
       "      <td>POR</td>\n",
       "    </tr>\n",
       "    <tr>\n",
       "      <th>4</th>\n",
       "      <td>Driving Dunk Shot</td>\n",
       "      <td>Dunk</td>\n",
       "      <td>155</td>\n",
       "      <td>20000012</td>\n",
       "      <td>2000-01</td>\n",
       "      <td>2PT Field Goal</td>\n",
       "      <td>Center(C)</td>\n",
       "      <td>Restricted Area</td>\n",
       "      <td>Less Than 8 ft.</td>\n",
       "      <td>1610612747</td>\n",
       "      <td>Los Angeles Lakers</td>\n",
       "      <td>LAL @ POR</td>\n",
       "      <td>POR</td>\n",
       "    </tr>\n",
       "    <tr>\n",
       "      <th>...</th>\n",
       "      <td>...</td>\n",
       "      <td>...</td>\n",
       "      <td>...</td>\n",
       "      <td>...</td>\n",
       "      <td>...</td>\n",
       "      <td>...</td>\n",
       "      <td>...</td>\n",
       "      <td>...</td>\n",
       "      <td>...</td>\n",
       "      <td>...</td>\n",
       "      <td>...</td>\n",
       "      <td>...</td>\n",
       "      <td>...</td>\n",
       "    </tr>\n",
       "    <tr>\n",
       "      <th>30692</th>\n",
       "      <td>Jump Shot</td>\n",
       "      <td>Jump Shot</td>\n",
       "      <td>397</td>\n",
       "      <td>49900088</td>\n",
       "      <td>1999-00</td>\n",
       "      <td>2PT Field Goal</td>\n",
       "      <td>Center(C)</td>\n",
       "      <td>In The Paint (Non-RA)</td>\n",
       "      <td>Less Than 8 ft.</td>\n",
       "      <td>1610612747</td>\n",
       "      <td>Los Angeles Lakers</td>\n",
       "      <td>LAL vs. IND</td>\n",
       "      <td>IND</td>\n",
       "    </tr>\n",
       "    <tr>\n",
       "      <th>30693</th>\n",
       "      <td>Tip Shot</td>\n",
       "      <td>Tip Shot</td>\n",
       "      <td>398</td>\n",
       "      <td>49900088</td>\n",
       "      <td>1999-00</td>\n",
       "      <td>2PT Field Goal</td>\n",
       "      <td>Center(C)</td>\n",
       "      <td>Restricted Area</td>\n",
       "      <td>Less Than 8 ft.</td>\n",
       "      <td>1610612747</td>\n",
       "      <td>Los Angeles Lakers</td>\n",
       "      <td>LAL vs. IND</td>\n",
       "      <td>IND</td>\n",
       "    </tr>\n",
       "    <tr>\n",
       "      <th>30694</th>\n",
       "      <td>Running Jump Shot</td>\n",
       "      <td>Jump Shot</td>\n",
       "      <td>426</td>\n",
       "      <td>49900088</td>\n",
       "      <td>1999-00</td>\n",
       "      <td>2PT Field Goal</td>\n",
       "      <td>Left Side Center(LC)</td>\n",
       "      <td>Mid-Range</td>\n",
       "      <td>16-24 ft.</td>\n",
       "      <td>1610612747</td>\n",
       "      <td>Los Angeles Lakers</td>\n",
       "      <td>LAL vs. IND</td>\n",
       "      <td>IND</td>\n",
       "    </tr>\n",
       "    <tr>\n",
       "      <th>30695</th>\n",
       "      <td>Jump Shot</td>\n",
       "      <td>Jump Shot</td>\n",
       "      <td>448</td>\n",
       "      <td>49900088</td>\n",
       "      <td>1999-00</td>\n",
       "      <td>3PT Field Goal</td>\n",
       "      <td>Center(C)</td>\n",
       "      <td>Above the Break 3</td>\n",
       "      <td>24+ ft.</td>\n",
       "      <td>1610612747</td>\n",
       "      <td>Los Angeles Lakers</td>\n",
       "      <td>LAL vs. IND</td>\n",
       "      <td>IND</td>\n",
       "    </tr>\n",
       "    <tr>\n",
       "      <th>30696</th>\n",
       "      <td>Jump Shot</td>\n",
       "      <td>Jump Shot</td>\n",
       "      <td>471</td>\n",
       "      <td>49900088</td>\n",
       "      <td>1999-00</td>\n",
       "      <td>2PT Field Goal</td>\n",
       "      <td>Center(C)</td>\n",
       "      <td>In The Paint (Non-RA)</td>\n",
       "      <td>Less Than 8 ft.</td>\n",
       "      <td>1610612747</td>\n",
       "      <td>Los Angeles Lakers</td>\n",
       "      <td>LAL vs. IND</td>\n",
       "      <td>IND</td>\n",
       "    </tr>\n",
       "  </tbody>\n",
       "</table>\n",
       "<p>30697 rows × 13 columns</p>\n",
       "</div>"
      ],
      "text/plain": [
       "             action_type combined_shot_type game_event_id   game_id   season  \\\n",
       "0              Jump Shot          Jump Shot            10  20000012  2000-01   \n",
       "1              Jump Shot          Jump Shot            12  20000012  2000-01   \n",
       "2              Jump Shot          Jump Shot            35  20000012  2000-01   \n",
       "3              Jump Shot          Jump Shot            43  20000012  2000-01   \n",
       "4      Driving Dunk Shot               Dunk           155  20000012  2000-01   \n",
       "...                  ...                ...           ...       ...      ...   \n",
       "30692          Jump Shot          Jump Shot           397  49900088  1999-00   \n",
       "30693           Tip Shot           Tip Shot           398  49900088  1999-00   \n",
       "30694  Running Jump Shot          Jump Shot           426  49900088  1999-00   \n",
       "30695          Jump Shot          Jump Shot           448  49900088  1999-00   \n",
       "30696          Jump Shot          Jump Shot           471  49900088  1999-00   \n",
       "\n",
       "            shot_type         shot_zone_area        shot_zone_basic  \\\n",
       "0      2PT Field Goal          Right Side(R)              Mid-Range   \n",
       "1      2PT Field Goal           Left Side(L)              Mid-Range   \n",
       "2      2PT Field Goal   Left Side Center(LC)              Mid-Range   \n",
       "3      2PT Field Goal  Right Side Center(RC)              Mid-Range   \n",
       "4      2PT Field Goal              Center(C)        Restricted Area   \n",
       "...               ...                    ...                    ...   \n",
       "30692  2PT Field Goal              Center(C)  In The Paint (Non-RA)   \n",
       "30693  2PT Field Goal              Center(C)        Restricted Area   \n",
       "30694  2PT Field Goal   Left Side Center(LC)              Mid-Range   \n",
       "30695  3PT Field Goal              Center(C)      Above the Break 3   \n",
       "30696  2PT Field Goal              Center(C)  In The Paint (Non-RA)   \n",
       "\n",
       "       shot_zone_range     team_id           team_name      matchup opponent  \n",
       "0            16-24 ft.  1610612747  Los Angeles Lakers    LAL @ POR      POR  \n",
       "1             8-16 ft.  1610612747  Los Angeles Lakers    LAL @ POR      POR  \n",
       "2            16-24 ft.  1610612747  Los Angeles Lakers    LAL @ POR      POR  \n",
       "3            16-24 ft.  1610612747  Los Angeles Lakers    LAL @ POR      POR  \n",
       "4      Less Than 8 ft.  1610612747  Los Angeles Lakers    LAL @ POR      POR  \n",
       "...                ...         ...                 ...          ...      ...  \n",
       "30692  Less Than 8 ft.  1610612747  Los Angeles Lakers  LAL vs. IND      IND  \n",
       "30693  Less Than 8 ft.  1610612747  Los Angeles Lakers  LAL vs. IND      IND  \n",
       "30694        16-24 ft.  1610612747  Los Angeles Lakers  LAL vs. IND      IND  \n",
       "30695          24+ ft.  1610612747  Los Angeles Lakers  LAL vs. IND      IND  \n",
       "30696  Less Than 8 ft.  1610612747  Los Angeles Lakers  LAL vs. IND      IND  \n",
       "\n",
       "[30697 rows x 13 columns]"
      ]
     },
     "execution_count": 9,
     "metadata": {},
     "output_type": "execute_result"
    }
   ],
   "source": [
    "cat_cols = df[categoricals]\n",
    "cat_cols"
   ]
  },
  {
   "cell_type": "code",
   "execution_count": 10,
   "metadata": {
    "colab": {},
    "colab_type": "code",
    "id": "OWM6FArX8HWy",
    "outputId": "9d42711e-dac0-4085-cb02-4316a81d28cc"
   },
   "outputs": [
    {
     "data": {
      "text/html": [
       "<div>\n",
       "<style scoped>\n",
       "    .dataframe tbody tr th:only-of-type {\n",
       "        vertical-align: middle;\n",
       "    }\n",
       "\n",
       "    .dataframe tbody tr th {\n",
       "        vertical-align: top;\n",
       "    }\n",
       "\n",
       "    .dataframe thead th {\n",
       "        text-align: right;\n",
       "    }\n",
       "</style>\n",
       "<table border=\"1\" class=\"dataframe\">\n",
       "  <thead>\n",
       "    <tr style=\"text-align: right;\">\n",
       "      <th></th>\n",
       "      <th>action_type</th>\n",
       "      <th>combined_shot_type</th>\n",
       "      <th>game_event_id</th>\n",
       "      <th>game_id</th>\n",
       "      <th>season</th>\n",
       "      <th>shot_type</th>\n",
       "      <th>shot_zone_area</th>\n",
       "      <th>shot_zone_basic</th>\n",
       "      <th>shot_zone_range</th>\n",
       "      <th>team_id</th>\n",
       "      <th>team_name</th>\n",
       "      <th>matchup</th>\n",
       "      <th>opponent</th>\n",
       "    </tr>\n",
       "  </thead>\n",
       "  <tbody>\n",
       "    <tr>\n",
       "      <th>144</th>\n",
       "      <td>Alley Oop Dunk Shot</td>\n",
       "      <td>Dunk</td>\n",
       "      <td>77</td>\n",
       "      <td>20000108</td>\n",
       "      <td>2000-01</td>\n",
       "      <td>2PT Field Goal</td>\n",
       "      <td>Center(C)</td>\n",
       "      <td>Restricted Area</td>\n",
       "      <td>Less Than 8 ft.</td>\n",
       "      <td>1610612747</td>\n",
       "      <td>Los Angeles Lakers</td>\n",
       "      <td>LAL vs. DEN</td>\n",
       "      <td>DEN</td>\n",
       "    </tr>\n",
       "    <tr>\n",
       "      <th>181</th>\n",
       "      <td>Alley Oop Dunk Shot</td>\n",
       "      <td>Dunk</td>\n",
       "      <td>328</td>\n",
       "      <td>20000124</td>\n",
       "      <td>2000-01</td>\n",
       "      <td>2PT Field Goal</td>\n",
       "      <td>Center(C)</td>\n",
       "      <td>Restricted Area</td>\n",
       "      <td>Less Than 8 ft.</td>\n",
       "      <td>1610612747</td>\n",
       "      <td>Los Angeles Lakers</td>\n",
       "      <td>LAL @ SAC</td>\n",
       "      <td>SAC</td>\n",
       "    </tr>\n",
       "    <tr>\n",
       "      <th>194</th>\n",
       "      <td>Alley Oop Dunk Shot</td>\n",
       "      <td>Dunk</td>\n",
       "      <td>73</td>\n",
       "      <td>20000140</td>\n",
       "      <td>2000-01</td>\n",
       "      <td>2PT Field Goal</td>\n",
       "      <td>Center(C)</td>\n",
       "      <td>Restricted Area</td>\n",
       "      <td>Less Than 8 ft.</td>\n",
       "      <td>1610612747</td>\n",
       "      <td>Los Angeles Lakers</td>\n",
       "      <td>LAL @ DEN</td>\n",
       "      <td>DEN</td>\n",
       "    </tr>\n",
       "    <tr>\n",
       "      <th>242</th>\n",
       "      <td>Alley Oop Dunk Shot</td>\n",
       "      <td>Dunk</td>\n",
       "      <td>121</td>\n",
       "      <td>20000168</td>\n",
       "      <td>2000-01</td>\n",
       "      <td>2PT Field Goal</td>\n",
       "      <td>Center(C)</td>\n",
       "      <td>Restricted Area</td>\n",
       "      <td>Less Than 8 ft.</td>\n",
       "      <td>1610612747</td>\n",
       "      <td>Los Angeles Lakers</td>\n",
       "      <td>LAL vs. GSW</td>\n",
       "      <td>GSW</td>\n",
       "    </tr>\n",
       "    <tr>\n",
       "      <th>244</th>\n",
       "      <td>Alley Oop Dunk Shot</td>\n",
       "      <td>Dunk</td>\n",
       "      <td>192</td>\n",
       "      <td>20000168</td>\n",
       "      <td>2000-01</td>\n",
       "      <td>2PT Field Goal</td>\n",
       "      <td>Center(C)</td>\n",
       "      <td>Restricted Area</td>\n",
       "      <td>Less Than 8 ft.</td>\n",
       "      <td>1610612747</td>\n",
       "      <td>Los Angeles Lakers</td>\n",
       "      <td>LAL vs. GSW</td>\n",
       "      <td>GSW</td>\n",
       "    </tr>\n",
       "    <tr>\n",
       "      <th>...</th>\n",
       "      <td>...</td>\n",
       "      <td>...</td>\n",
       "      <td>...</td>\n",
       "      <td>...</td>\n",
       "      <td>...</td>\n",
       "      <td>...</td>\n",
       "      <td>...</td>\n",
       "      <td>...</td>\n",
       "      <td>...</td>\n",
       "      <td>...</td>\n",
       "      <td>...</td>\n",
       "      <td>...</td>\n",
       "      <td>...</td>\n",
       "    </tr>\n",
       "    <tr>\n",
       "      <th>28415</th>\n",
       "      <td>Alley Oop Dunk Shot</td>\n",
       "      <td>Dunk</td>\n",
       "      <td>379</td>\n",
       "      <td>40700402</td>\n",
       "      <td>2007-08</td>\n",
       "      <td>2PT Field Goal</td>\n",
       "      <td>Center(C)</td>\n",
       "      <td>Restricted Area</td>\n",
       "      <td>Less Than 8 ft.</td>\n",
       "      <td>1610612747</td>\n",
       "      <td>Los Angeles Lakers</td>\n",
       "      <td>LAL @ BOS</td>\n",
       "      <td>BOS</td>\n",
       "    </tr>\n",
       "    <tr>\n",
       "      <th>28830</th>\n",
       "      <td>Alley Oop Dunk Shot</td>\n",
       "      <td>Dunk</td>\n",
       "      <td>371</td>\n",
       "      <td>40800313</td>\n",
       "      <td>2008-09</td>\n",
       "      <td>2PT Field Goal</td>\n",
       "      <td>Center(C)</td>\n",
       "      <td>Restricted Area</td>\n",
       "      <td>Less Than 8 ft.</td>\n",
       "      <td>1610612747</td>\n",
       "      <td>Los Angeles Lakers</td>\n",
       "      <td>LAL @ DEN</td>\n",
       "      <td>DEN</td>\n",
       "    </tr>\n",
       "    <tr>\n",
       "      <th>28868</th>\n",
       "      <td>Alley Oop Dunk Shot</td>\n",
       "      <td>Dunk</td>\n",
       "      <td>309</td>\n",
       "      <td>40800315</td>\n",
       "      <td>2008-09</td>\n",
       "      <td>2PT Field Goal</td>\n",
       "      <td>Center(C)</td>\n",
       "      <td>Restricted Area</td>\n",
       "      <td>Less Than 8 ft.</td>\n",
       "      <td>1610612747</td>\n",
       "      <td>Los Angeles Lakers</td>\n",
       "      <td>LAL vs. DEN</td>\n",
       "      <td>DEN</td>\n",
       "    </tr>\n",
       "    <tr>\n",
       "      <th>29395</th>\n",
       "      <td>Alley Oop Dunk Shot</td>\n",
       "      <td>Dunk</td>\n",
       "      <td>382</td>\n",
       "      <td>40900401</td>\n",
       "      <td>2009-10</td>\n",
       "      <td>2PT Field Goal</td>\n",
       "      <td>Center(C)</td>\n",
       "      <td>Restricted Area</td>\n",
       "      <td>Less Than 8 ft.</td>\n",
       "      <td>1610612747</td>\n",
       "      <td>Los Angeles Lakers</td>\n",
       "      <td>LAL vs. BOS</td>\n",
       "      <td>BOS</td>\n",
       "    </tr>\n",
       "    <tr>\n",
       "      <th>30010</th>\n",
       "      <td>Alley Oop Dunk Shot</td>\n",
       "      <td>Dunk</td>\n",
       "      <td>249</td>\n",
       "      <td>41100235</td>\n",
       "      <td>2011-12</td>\n",
       "      <td>2PT Field Goal</td>\n",
       "      <td>Center(C)</td>\n",
       "      <td>Restricted Area</td>\n",
       "      <td>Less Than 8 ft.</td>\n",
       "      <td>1610612747</td>\n",
       "      <td>Los Angeles Lakers</td>\n",
       "      <td>LAL @ OKC</td>\n",
       "      <td>OKC</td>\n",
       "    </tr>\n",
       "  </tbody>\n",
       "</table>\n",
       "<p>122 rows × 13 columns</p>\n",
       "</div>"
      ],
      "text/plain": [
       "               action_type combined_shot_type game_event_id   game_id  \\\n",
       "144    Alley Oop Dunk Shot               Dunk            77  20000108   \n",
       "181    Alley Oop Dunk Shot               Dunk           328  20000124   \n",
       "194    Alley Oop Dunk Shot               Dunk            73  20000140   \n",
       "242    Alley Oop Dunk Shot               Dunk           121  20000168   \n",
       "244    Alley Oop Dunk Shot               Dunk           192  20000168   \n",
       "...                    ...                ...           ...       ...   \n",
       "28415  Alley Oop Dunk Shot               Dunk           379  40700402   \n",
       "28830  Alley Oop Dunk Shot               Dunk           371  40800313   \n",
       "28868  Alley Oop Dunk Shot               Dunk           309  40800315   \n",
       "29395  Alley Oop Dunk Shot               Dunk           382  40900401   \n",
       "30010  Alley Oop Dunk Shot               Dunk           249  41100235   \n",
       "\n",
       "        season       shot_type shot_zone_area  shot_zone_basic  \\\n",
       "144    2000-01  2PT Field Goal      Center(C)  Restricted Area   \n",
       "181    2000-01  2PT Field Goal      Center(C)  Restricted Area   \n",
       "194    2000-01  2PT Field Goal      Center(C)  Restricted Area   \n",
       "242    2000-01  2PT Field Goal      Center(C)  Restricted Area   \n",
       "244    2000-01  2PT Field Goal      Center(C)  Restricted Area   \n",
       "...        ...             ...            ...              ...   \n",
       "28415  2007-08  2PT Field Goal      Center(C)  Restricted Area   \n",
       "28830  2008-09  2PT Field Goal      Center(C)  Restricted Area   \n",
       "28868  2008-09  2PT Field Goal      Center(C)  Restricted Area   \n",
       "29395  2009-10  2PT Field Goal      Center(C)  Restricted Area   \n",
       "30010  2011-12  2PT Field Goal      Center(C)  Restricted Area   \n",
       "\n",
       "       shot_zone_range     team_id           team_name      matchup opponent  \n",
       "144    Less Than 8 ft.  1610612747  Los Angeles Lakers  LAL vs. DEN      DEN  \n",
       "181    Less Than 8 ft.  1610612747  Los Angeles Lakers    LAL @ SAC      SAC  \n",
       "194    Less Than 8 ft.  1610612747  Los Angeles Lakers    LAL @ DEN      DEN  \n",
       "242    Less Than 8 ft.  1610612747  Los Angeles Lakers  LAL vs. GSW      GSW  \n",
       "244    Less Than 8 ft.  1610612747  Los Angeles Lakers  LAL vs. GSW      GSW  \n",
       "...                ...         ...                 ...          ...      ...  \n",
       "28415  Less Than 8 ft.  1610612747  Los Angeles Lakers    LAL @ BOS      BOS  \n",
       "28830  Less Than 8 ft.  1610612747  Los Angeles Lakers    LAL @ DEN      DEN  \n",
       "28868  Less Than 8 ft.  1610612747  Los Angeles Lakers  LAL vs. DEN      DEN  \n",
       "29395  Less Than 8 ft.  1610612747  Los Angeles Lakers  LAL vs. BOS      BOS  \n",
       "30010  Less Than 8 ft.  1610612747  Los Angeles Lakers    LAL @ OKC      OKC  \n",
       "\n",
       "[122 rows x 13 columns]"
      ]
     },
     "execution_count": 10,
     "metadata": {},
     "output_type": "execute_result"
    }
   ],
   "source": [
    "cat_cols[cat_cols['action_type'] == 'Alley Oop Dunk Shot']"
   ]
  },
  {
   "cell_type": "code",
   "execution_count": 11,
   "metadata": {
    "colab": {},
    "colab_type": "code",
    "id": "N_I-QcfJ8HW1"
   },
   "outputs": [],
   "source": [
    "def one_hot_encode(df_with_only_categoricals):\n",
    "    encoder = preprocessing.OneHotEncoder()\n",
    "    encoder.fit(df_with_only_categoricals)\n",
    "    result = encoder.transform(df_with_only_categoricals).toarray()\n",
    "    return result\n",
    "\n",
    "one_hot_encoded_df = pd.DataFrame(one_hot_encode(cat_cols))"
   ]
  },
  {
   "cell_type": "code",
   "execution_count": 12,
   "metadata": {
    "colab": {},
    "colab_type": "code",
    "id": "cDRZ9Lag8HW4"
   },
   "outputs": [],
   "source": [
    "remaining_df = df[remaining]"
   ]
  },
  {
   "cell_type": "code",
   "execution_count": 13,
   "metadata": {
    "colab": {},
    "colab_type": "code",
    "id": "tXd984uf8HW8"
   },
   "outputs": [],
   "source": [
    "preprocessed_df = pd.concat([one_hot_encoded_df, remaining_df], axis=1)\n",
    "# preprocessed_df[0]\n",
    "# encoder[144]  # Verify that row 144 has a 1 in the first col"
   ]
  },
  {
   "cell_type": "markdown",
   "metadata": {
    "colab_type": "text",
    "id": "BjrgeoMY8HXB"
   },
   "source": [
    "Set input dimensions equal to the number of columns in the training data"
   ]
  },
  {
   "cell_type": "markdown",
   "metadata": {
    "colab_type": "text",
    "id": "PuadZG3H8HXC"
   },
   "source": [
    "## Train/validation/test split\n",
    "\n",
    "Do this only after data preprocessing\n",
    "\n",
    "Perhaps use:\n",
    "\n",
    "```python\n",
    "sklearn.model_selection.train_test_split(*arrays, **options)\n",
    "```\n",
    "\n",
    "See https://scikit-learn.org/stable/modules/generated/sklearn.model_selection.train_test_split.html"
   ]
  },
  {
   "cell_type": "markdown",
   "metadata": {
    "colab_type": "text",
    "id": "FjN4PDEH8HXD"
   },
   "source": [
    "https://www.kaggle.com/c/kobe-bryant-shot-selection/leaderboard"
   ]
  },
  {
   "cell_type": "code",
   "execution_count": 16,
   "metadata": {
    "colab": {},
    "colab_type": "code",
    "id": "HiW1VIXE8HXD",
    "outputId": "6ab8bb79-4827-46b8-c820-73b167e610d0"
   },
   "outputs": [],
   "source": [
    "df = preprocessed_df"
   ]
  },
  {
   "cell_type": "code",
   "execution_count": null,
   "metadata": {
    "colab": {},
    "colab_type": "code",
    "id": "oYjfK0eq8HXG",
    "outputId": "8e55ab04-f49d-44d7-cadc-7386f2e6b22d"
   },
   "outputs": [
    {
     "data": {
      "text/plain": [
       "(5000, 2399)"
      ]
     },
     "execution_count": 42,
     "metadata": {
      "tags": []
     },
     "output_type": "execute_result"
    }
   ],
   "source": [
    "# Filter out the rows that do not have a 'shot_made_flag', i.e. the test set with 5000 rows\n",
    "test_set = df[df['shot_made_flag'].isnull()]\n",
    "test_set.shape"
   ]
  },
  {
   "cell_type": "code",
   "execution_count": null,
   "metadata": {
    "colab": {},
    "colab_type": "code",
    "id": "BzoU73M-8HXK",
    "outputId": "f3b02a3d-fe1d-477e-a069-299d36c8d611"
   },
   "outputs": [
    {
     "data": {
      "text/plain": [
       "(25697, 2399)"
      ]
     },
     "execution_count": 43,
     "metadata": {
      "tags": []
     },
     "output_type": "execute_result"
    }
   ],
   "source": [
    "# Obtain the rows with a 'shot_made_flag', i.e. the train set\n",
    "train_set = df[~df['shot_made_flag'].isnull()]\n",
    "train_set.shape"
   ]
  },
  {
   "cell_type": "code",
   "execution_count": null,
   "metadata": {
    "colab": {},
    "colab_type": "code",
    "id": "wozctt__8HXN"
   },
   "outputs": [],
   "source": [
    "def split_train_test(df, split_float = 0.8):\n",
    "    random_sample = np.random.rand(len(df)) < split_float\n",
    "    train = df[random_sample]\n",
    "    test = df[~random_sample]\n",
    "    return train, test\n",
    "\n",
    "train, test = split_train_test(train_set, 0.8)"
   ]
  },
  {
   "cell_type": "code",
   "execution_count": null,
   "metadata": {
    "colab": {},
    "colab_type": "code",
    "id": "nMcB5PQp8HXQ",
    "outputId": "83ac6927-d398-490b-e783-43d3097a2b76"
   },
   "outputs": [
    {
     "name": "stdout",
     "output_type": "stream",
     "text": [
      "(20488, 2399)\n",
      "(5209, 2399)\n"
     ]
    }
   ],
   "source": [
    "print(train.shape)\n",
    "print(test.shape)"
   ]
  },
  {
   "cell_type": "code",
   "execution_count": null,
   "metadata": {
    "colab": {},
    "colab_type": "code",
    "id": "Qh2r5P1K8HXS",
    "outputId": "eb03f426-a760-4237-edfc-2a8de758bdc6"
   },
   "outputs": [
    {
     "name": "stdout",
     "output_type": "stream",
     "text": [
      "20488\n"
     ]
    }
   ],
   "source": [
    "input_dim = len(train[0])\n",
    "print(input_dim)"
   ]
  },
  {
   "cell_type": "code",
   "execution_count": null,
   "metadata": {
    "colab": {},
    "colab_type": "code",
    "id": "zqS_BEio8HXU"
   },
   "outputs": [],
   "source": [
    "# Dummy data\n",
    "# x_train = np.array([[1,2,3], [1,2,2], [1,1,3]])\n",
    "# y_train = np.array([1, 0, 1])\n",
    "# input_dim = len(x_train.columns)"
   ]
  },
  {
   "cell_type": "code",
   "execution_count": null,
   "metadata": {
    "colab": {},
    "colab_type": "code",
    "id": "hLoOUWi68HXY"
   },
   "outputs": [],
   "source": [
    "def get_x_y_input(data):\n",
    "    \"\"\"Returns the input data X, the target output label Y and the number of \n",
    "    dimensions in the input\n",
    "    \"\"\"\n",
    "    Y = train['shot_made_flag']\n",
    "    X = train.drop(columns=['shot_made_flag'])\n",
    "    input_dim = X.shape[1]  # number of columns\n",
    "    return X, Y, input_dim"
   ]
  },
  {
   "cell_type": "code",
   "execution_count": null,
   "metadata": {
    "colab": {},
    "colab_type": "code",
    "id": "i3ZOVrQA8HXd"
   },
   "outputs": [],
   "source": [
    "# The input data (x_train) and the label data used for training the model\n",
    "x_train, y_train, input_dim = get_x_y_input(train)"
   ]
  },
  {
   "cell_type": "markdown",
   "metadata": {},
   "source": [
    "## New split module"
   ]
  },
  {
   "cell_type": "code",
   "execution_count": 17,
   "metadata": {},
   "outputs": [
    {
     "ename": "SyntaxError",
     "evalue": "invalid syntax (multiple_train_test_splits.py, line 18)",
     "output_type": "error",
     "traceback": [
      "Traceback \u001b[0;36m(most recent call last)\u001b[0m:\n",
      "  File \u001b[1;32m\"/Users/Misha/vu/machine-learning/kobe/.venv/lib/python3.7/site-packages/IPython/core/interactiveshell.py\"\u001b[0m, line \u001b[1;32m3331\u001b[0m, in \u001b[1;35mrun_code\u001b[0m\n    exec(code_obj, self.user_global_ns, self.user_ns)\n",
      "\u001b[0;36m  File \u001b[0;32m\"<ipython-input-17-661a79a1fcf1>\"\u001b[0;36m, line \u001b[0;32m3\u001b[0;36m, in \u001b[0;35m<module>\u001b[0;36m\u001b[0m\n\u001b[0;31m    from multiple_train_test_splits import MultipleTrainTestSplits\u001b[0m\n",
      "\u001b[0;36m  File \u001b[0;32m\"../multiple_train_test_splits.py\"\u001b[0;36m, line \u001b[0;32m18\u001b[0m\n\u001b[0;31m    def __init__(self, csv_path=None: str, df=None: pd.DataFrame):\u001b[0m\n\u001b[0m                                    ^\u001b[0m\n\u001b[0;31mSyntaxError\u001b[0m\u001b[0;31m:\u001b[0m invalid syntax\n"
     ]
    }
   ],
   "source": [
    "import sys; sys.path.insert(0, '..')  # Needed to make the import below work\n",
    "\n",
    "from multiple_train_test_splits import MultipleTrainTestSplits"
   ]
  },
  {
   "cell_type": "code",
   "execution_count": 8,
   "metadata": {},
   "outputs": [
    {
     "name": "stdout",
     "output_type": "stream",
     "text": [
      "[['Jump Shot' 'Jump Shot' 12 ... 'POR' 2 0]\n",
      " ['Jump Shot' 'Jump Shot' 35 ... 'POR' 3 1]\n",
      " ['Jump Shot' 'Jump Shot' 43 ... 'POR' 4 2]\n",
      " ...\n",
      " ['Layup Shot' 'Layup' 98 ... 'MEM' 6120 5138]\n",
      " ['Jump Shot' 'Jump Shot' 108 ... 'MEM' 6121 5139]\n",
      " ['Jump Shot' 'Jump Shot' 115 ... 'MEM' 6122 5140]]\n",
      "[['Jump Shot' 'Jump Shot' 12 ... 'POR' 2 0]\n",
      " ['Jump Shot' 'Jump Shot' 35 ... 'POR' 3 1]\n",
      " ['Jump Shot' 'Jump Shot' 43 ... 'POR' 4 2]\n",
      " ...\n",
      " ['Jump Shot' 'Jump Shot' 414 ... 'DEN' 12271 10277]\n",
      " ['Layup Shot' 'Layup' 21 ... 'SAS' 12272 10278]\n",
      " ['Layup Shot' 'Layup' 39 ... 'SAS' 12273 10279]]\n",
      "[['Jump Shot' 'Jump Shot' 12 ... 'POR' 2 0]\n",
      " ['Jump Shot' 'Jump Shot' 35 ... 'POR' 3 1]\n",
      " ['Jump Shot' 'Jump Shot' 43 ... 'POR' 4 2]\n",
      " ...\n",
      " ['Jump Shot' 'Jump Shot' 368 ... 'CLE' 18387 15416]\n",
      " ['Pullup Jump shot' 'Jump Shot' 371 ... 'CLE' 18388 15417]\n",
      " ['Jump Shot' 'Jump Shot' 443 ... 'CLE' 18389 15418]]\n"
     ]
    }
   ],
   "source": [
    "mtts = MultipleTrainTestSplits(csv_path='../../data/data.csv')\n",
    "\n",
    "test_set = mtts.test_set\n",
    "for train_set, validation_set in mtts.train_validation_split():\n",
    "    # Still need to exclude the label (Y/shot_made_flag)\n",
    "    train_set = preprocess(train_set)\n",
    "    validation_set = preprocess(validation_set)"
   ]
  },
  {
   "cell_type": "markdown",
   "metadata": {
    "colab_type": "text",
    "id": "WoCBUnN28HXf"
   },
   "source": [
    "## Create model\n",
    "The model works on dummy data, see above"
   ]
  },
  {
   "cell_type": "code",
   "execution_count": null,
   "metadata": {
    "colab": {},
    "colab_type": "code",
    "id": "3y6lRmzL8HXf"
   },
   "outputs": [],
   "source": [
    "model = Sequential()\n",
    "\n",
    "model.add(Dense(units=64, activation='relu', input_dim=input_dim))\n",
    "model.add(Dense(units=1, activation='sigmoid'))"
   ]
  },
  {
   "cell_type": "code",
   "execution_count": null,
   "metadata": {
    "colab": {},
    "colab_type": "code",
    "id": "epCtEapZ8HXi"
   },
   "outputs": [],
   "source": [
    "model.compile(loss='binary_crossentropy',\n",
    "              optimizer='rmsprop',\n",
    "              metrics=['accuracy'])"
   ]
  },
  {
   "cell_type": "code",
   "execution_count": null,
   "metadata": {
    "colab": {},
    "colab_type": "code",
    "id": "5sbi8PrU8HXm",
    "outputId": "79b3a233-10c7-4e46-fe67-a71c3d7917b1"
   },
   "outputs": [
    {
     "name": "stdout",
     "output_type": "stream",
     "text": [
      "Epoch 1/50\n",
      "20488/20488 [==============================] - 2s 116us/step - loss: 0.5577 - accuracy: 0.7089\n",
      "Epoch 2/50\n",
      "20488/20488 [==============================] - 2s 116us/step - loss: 0.5557 - accuracy: 0.7116\n",
      "Epoch 3/50\n",
      "20488/20488 [==============================] - 2s 117us/step - loss: 0.5510 - accuracy: 0.7134\n",
      "Epoch 4/50\n",
      "20488/20488 [==============================] - 2s 119us/step - loss: 0.5496 - accuracy: 0.7161\n",
      "Epoch 5/50\n",
      "20488/20488 [==============================] - 2s 117us/step - loss: 0.5472 - accuracy: 0.7193\n",
      "Epoch 6/50\n",
      "20488/20488 [==============================] - 2s 117us/step - loss: 0.5449 - accuracy: 0.7181\n",
      "Epoch 7/50\n",
      "20488/20488 [==============================] - 2s 118us/step - loss: 0.5422 - accuracy: 0.7222\n",
      "Epoch 8/50\n",
      "20488/20488 [==============================] - 2s 119us/step - loss: 0.5410 - accuracy: 0.7213\n",
      "Epoch 9/50\n",
      "20488/20488 [==============================] - 2s 120us/step - loss: 0.5363 - accuracy: 0.7261\n",
      "Epoch 10/50\n",
      "20488/20488 [==============================] - 2s 118us/step - loss: 0.5355 - accuracy: 0.7241\n",
      "Epoch 11/50\n",
      "20488/20488 [==============================] - 2s 118us/step - loss: 0.5322 - accuracy: 0.7295\n",
      "Epoch 12/50\n",
      "20488/20488 [==============================] - 2s 119us/step - loss: 0.5298 - accuracy: 0.7303\n",
      "Epoch 13/50\n",
      "20488/20488 [==============================] - 3s 124us/step - loss: 0.5299 - accuracy: 0.7298\n",
      "Epoch 14/50\n",
      "20488/20488 [==============================] - 3s 125us/step - loss: 0.5285 - accuracy: 0.7308\n",
      "Epoch 15/50\n",
      "20488/20488 [==============================] - 3s 125us/step - loss: 0.5252 - accuracy: 0.7346\n",
      "Epoch 16/50\n",
      "20488/20488 [==============================] - 3s 127us/step - loss: 0.5242 - accuracy: 0.7343\n",
      "Epoch 17/50\n",
      "20488/20488 [==============================] - 3s 142us/step - loss: 0.5224 - accuracy: 0.7376\n",
      "Epoch 18/50\n",
      "20488/20488 [==============================] - 3s 135us/step - loss: 0.5198 - accuracy: 0.7378\n",
      "Epoch 19/50\n",
      "20488/20488 [==============================] - 2s 122us/step - loss: 0.5169 - accuracy: 0.7402\n",
      "Epoch 20/50\n",
      "20488/20488 [==============================] - 3s 123us/step - loss: 0.5145 - accuracy: 0.7428\n",
      "Epoch 21/50\n",
      "20488/20488 [==============================] - 2s 119us/step - loss: 0.5138 - accuracy: 0.7421\n",
      "Epoch 22/50\n",
      "20488/20488 [==============================] - 2s 121us/step - loss: 0.5102 - accuracy: 0.7443\n",
      "Epoch 23/50\n",
      "20488/20488 [==============================] - 2s 120us/step - loss: 0.5111 - accuracy: 0.7474\n",
      "Epoch 24/50\n",
      "20488/20488 [==============================] - 2s 119us/step - loss: 0.5066 - accuracy: 0.7500\n",
      "Epoch 25/50\n",
      "20488/20488 [==============================] - 3s 123us/step - loss: 0.5051 - accuracy: 0.7488\n",
      "Epoch 26/50\n",
      "20488/20488 [==============================] - 2s 121us/step - loss: 0.5040 - accuracy: 0.7491\n",
      "Epoch 27/50\n",
      "20488/20488 [==============================] - 2s 120us/step - loss: 0.5016 - accuracy: 0.7533\n",
      "Epoch 28/50\n",
      "20488/20488 [==============================] - 2s 121us/step - loss: 0.5011 - accuracy: 0.7515\n",
      "Epoch 29/50\n",
      "20488/20488 [==============================] - 3s 126us/step - loss: 0.4994 - accuracy: 0.7533\n",
      "Epoch 30/50\n",
      "20488/20488 [==============================] - 2s 122us/step - loss: 0.4976 - accuracy: 0.7523\n",
      "Epoch 31/50\n",
      "20488/20488 [==============================] - 2s 119us/step - loss: 0.4969 - accuracy: 0.7564\n",
      "Epoch 32/50\n",
      "20488/20488 [==============================] - 2s 121us/step - loss: 0.4940 - accuracy: 0.7600\n",
      "Epoch 33/50\n",
      "20488/20488 [==============================] - 2s 119us/step - loss: 0.4932 - accuracy: 0.7582\n",
      "Epoch 34/50\n",
      "20488/20488 [==============================] - 2s 119us/step - loss: 0.4896 - accuracy: 0.7604\n",
      "Epoch 35/50\n",
      "20488/20488 [==============================] - 2s 121us/step - loss: 0.4882 - accuracy: 0.7605\n",
      "Epoch 36/50\n",
      "20488/20488 [==============================] - 2s 120us/step - loss: 0.4882 - accuracy: 0.7596\n",
      "Epoch 37/50\n",
      "20488/20488 [==============================] - 2s 120us/step - loss: 0.4862 - accuracy: 0.7623\n",
      "Epoch 38/50\n",
      "20488/20488 [==============================] - 2s 121us/step - loss: 0.4853 - accuracy: 0.7645\n",
      "Epoch 39/50\n",
      "20488/20488 [==============================] - 2s 121us/step - loss: 0.4860 - accuracy: 0.7637\n",
      "Epoch 40/50\n",
      "20488/20488 [==============================] - 2s 120us/step - loss: 0.4829 - accuracy: 0.7660\n",
      "Epoch 41/50\n",
      "20488/20488 [==============================] - 2s 121us/step - loss: 0.4803 - accuracy: 0.7626\n",
      "Epoch 42/50\n",
      "20488/20488 [==============================] - 2s 119us/step - loss: 0.4792 - accuracy: 0.7681\n",
      "Epoch 43/50\n",
      "20488/20488 [==============================] - 2s 122us/step - loss: 0.4792 - accuracy: 0.7678\n",
      "Epoch 44/50\n",
      "20488/20488 [==============================] - 3s 126us/step - loss: 0.4778 - accuracy: 0.7661\n",
      "Epoch 45/50\n",
      "20488/20488 [==============================] - 2s 122us/step - loss: 0.4754 - accuracy: 0.7699\n",
      "Epoch 46/50\n",
      "20488/20488 [==============================] - 2s 120us/step - loss: 0.4744 - accuracy: 0.7716\n",
      "Epoch 47/50\n",
      "20488/20488 [==============================] - 2s 121us/step - loss: 0.4731 - accuracy: 0.7719\n",
      "Epoch 48/50\n",
      "20488/20488 [==============================] - 3s 122us/step - loss: 0.4729 - accuracy: 0.7712\n",
      "Epoch 49/50\n",
      "20488/20488 [==============================] - 2s 121us/step - loss: 0.4708 - accuracy: 0.7719\n",
      "Epoch 50/50\n",
      "20488/20488 [==============================] - 2s 119us/step - loss: 0.4696 - accuracy: 0.7767\n"
     ]
    },
    {
     "data": {
      "text/plain": [
       "<keras.callbacks.callbacks.History at 0x142aa9990>"
      ]
     },
     "execution_count": 58,
     "metadata": {
      "tags": []
     },
     "output_type": "execute_result"
    }
   ],
   "source": [
    "model.fit(x_train, y_train, epochs=50, batch_size=32)"
   ]
  },
  {
   "cell_type": "code",
   "execution_count": null,
   "metadata": {
    "colab": {},
    "colab_type": "code",
    "id": "MRUPLCK88HXp"
   },
   "outputs": [],
   "source": [
    "# # Dummy\n",
    "# x_validation = np.array([[1,2,3], [1,2,2], [1,1,3], [2,3,2], [2,1,3]])\n",
    "# y_validation = np.array([1, 0, 1, 1, 1])"
   ]
  },
  {
   "cell_type": "code",
   "execution_count": null,
   "metadata": {
    "colab": {},
    "colab_type": "code",
    "id": "SlV1KfPk8HXs"
   },
   "outputs": [],
   "source": [
    "x_validation, y_validation, input_dim = get_x_y_input(test) "
   ]
  },
  {
   "cell_type": "code",
   "execution_count": null,
   "metadata": {
    "colab": {},
    "colab_type": "code",
    "id": "6c4nA7gi8HXu",
    "outputId": "34a1234b-ab5e-4a5c-d76d-fac9d7f709d8"
   },
   "outputs": [
    {
     "name": "stdout",
     "output_type": "stream",
     "text": [
      "20488/20488 [==============================] - 1s 52us/step\n"
     ]
    }
   ],
   "source": [
    "loss_and_metrics = model.evaluate(x_validation, y_validation, batch_size=128)"
   ]
  },
  {
   "cell_type": "code",
   "execution_count": null,
   "metadata": {
    "colab": {},
    "colab_type": "code",
    "id": "7YuwLztv8HXx",
    "outputId": "0fe139e1-91cd-4c00-8827-ae13d302ff1d"
   },
   "outputs": [
    {
     "ename": "NameError",
     "evalue": "name 'loss_and_metrics' is not defined",
     "output_type": "error",
     "traceback": [
      "\u001b[0;31m---------------------------------------------------------------------------\u001b[0m",
      "\u001b[0;31mNameError\u001b[0m                                 Traceback (most recent call last)",
      "\u001b[0;32m<ipython-input-2-0e997f32cf57>\u001b[0m in \u001b[0;36m<module>\u001b[0;34m\u001b[0m\n\u001b[0;32m----> 1\u001b[0;31m \u001b[0mloss_and_metrics\u001b[0m\u001b[0;34m\u001b[0m\u001b[0;34m\u001b[0m\u001b[0m\n\u001b[0m",
      "\u001b[0;31mNameError\u001b[0m: name 'loss_and_metrics' is not defined"
     ]
    }
   ],
   "source": [
    "loss_and_metrics"
   ]
  },
  {
   "cell_type": "code",
   "execution_count": null,
   "metadata": {
    "colab": {},
    "colab_type": "code",
    "id": "FXdEfk8U8HXz",
    "outputId": "93c02ec8-0302-466c-98da-328924921432"
   },
   "outputs": [
    {
     "data": {
      "text/plain": [
       "array([[0.52622545],\n",
       "       [0.26044014],\n",
       "       [0.9890055 ],\n",
       "       ...,\n",
       "       [0.6824401 ],\n",
       "       [0.39076325],\n",
       "       [0.05106422]], dtype=float32)"
      ]
     },
     "execution_count": 56,
     "metadata": {
      "tags": []
     },
     "output_type": "execute_result"
    }
   ],
   "source": [
    "classes = model.predict(x_validation, batch_size=128)\n",
    "classes"
   ]
  }
 ],
 "metadata": {
  "colab": {
   "include_colab_link": true,
   "name": "model.ipynb",
   "provenance": []
  },
  "kernelspec": {
   "display_name": "kobe",
   "language": "python",
   "name": "kobe"
  },
  "language_info": {
   "codemirror_mode": {
    "name": "ipython",
    "version": 3
   },
   "file_extension": ".py",
   "mimetype": "text/x-python",
   "name": "python",
   "nbconvert_exporter": "python",
   "pygments_lexer": "ipython3",
   "version": "3.7.6"
  }
 },
 "nbformat": 4,
 "nbformat_minor": 4
}
