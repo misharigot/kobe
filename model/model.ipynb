{
 "cells": [
  {
   "cell_type": "markdown",
   "metadata": {},
   "source": [
    "This notebook is used to initially play around with keras and the kobe data set."
   ]
  },
  {
   "cell_type": "code",
   "execution_count": null,
   "metadata": {},
   "outputs": [],
   "source": [
    "import numpy as np\n",
    "import csv\n",
    "import pandas as pd\n",
    "from scipy import stats\n",
    "\n",
    "from keras.models import Sequential\n",
    "from keras.layers import Dense"
   ]
  },
  {
   "cell_type": "markdown",
   "metadata": {},
   "source": [
    "## Train/validation/test split"
   ]
  },
  {
   "cell_type": "code",
   "execution_count": null,
   "metadata": {},
   "outputs": [],
   "source": [
    "data = pd.read_csv('../data/data.csv')"
   ]
  },
  {
   "cell_type": "code",
   "execution_count": null,
   "metadata": {},
   "outputs": [],
   "source": [
    "data['shot_made_flag']"
   ]
  },
  {
   "cell_type": "code",
   "execution_count": 124,
   "metadata": {},
   "outputs": [],
   "source": [
    "with open('../data/data.csv', 'r') as f:\n",
    "    data = list(csv.reader(f, delimiter=\",\"))\n",
    "data = np.array(data)\n",
    "\n",
    "header = data[0]\n",
    "data = data[1:]"
   ]
  },
  {
   "cell_type": "code",
   "execution_count": 125,
   "metadata": {},
   "outputs": [
    {
     "name": "stdout",
     "output_type": "stream",
     "text": [
      "length of non_test set: 25697\n",
      "length of test set: 5000\n"
     ]
    }
   ],
   "source": [
    "# Extract the 5000 rows that have a missing label, i.e. the test set\n",
    "\n",
    "def split(arr, cond):\n",
    "    return [arr[cond], arr[~cond]]\n",
    "\n",
    "split_data = split(data, data[:, 14] != '')\n",
    "\n",
    "non_test = split_data[0]\n",
    "test = split_data[1]\n",
    "\n",
    "print('length of non_test set:', len(non_test))\n",
    "print('length of test set:', len(test))"
   ]
  },
  {
   "cell_type": "markdown",
   "metadata": {},
   "source": [
    "# TODO: To avoid leakage: method should only train on events that occurred prior to the shot for which you are predicting!"
   ]
  },
  {
   "cell_type": "markdown",
   "metadata": {},
   "source": [
    "### Avoid leakage\n",
    "For more info on leakage, see:\n",
    "\n",
    "https://www.kaggle.com/dansbecker/data-leakage"
   ]
  },
  {
   "cell_type": "code",
   "execution_count": 116,
   "metadata": {},
   "outputs": [
    {
     "name": "stdout",
     "output_type": "stream",
     "text": [
      "length of train set: 6139\n",
      "length of validation set: 24559\n",
      "[['action_type' 'combined_shot_type' 'game_event_id' 'game_id' 'lat'\n",
      "  'loc_x' 'loc_y' 'lon' 'minutes_remaining' 'period' 'playoffs' 'season'\n",
      "  'seconds_remaining' 'shot_distance' 'shot_made_flag' 'shot_type'\n",
      "  'shot_zone_area' 'shot_zone_basic' 'shot_zone_range' 'team_id'\n",
      "  'team_name' 'game_date' 'matchup' 'opponent' 'shot_id']\n",
      " ['Jump Shot' 'Jump Shot' '10' '20000012' '33.9723' '167' '72'\n",
      "  '-118.1028' '10' '1' '0' '2000-01' '27' '18' '' '2PT Field Goal'\n",
      "  'Right Side(R)' 'Mid-Range' '16-24 ft.' '1610612747'\n",
      "  'Los Angeles Lakers' '2000-10-31' 'LAL @ POR' 'POR' '1']\n",
      " ['Jump Shot' 'Jump Shot' '12' '20000012' '34.0443' '-157' '0'\n",
      "  '-118.4268' '10' '1' '0' '2000-01' '22' '15' '0' '2PT Field Goal'\n",
      "  'Left Side(L)' 'Mid-Range' '8-16 ft.' '1610612747' 'Los Angeles Lakers'\n",
      "  '2000-10-31' 'LAL @ POR' 'POR' '2']\n",
      " ['Jump Shot' 'Jump Shot' '35' '20000012' '33.9093' '-101' '135'\n",
      "  '-118.3708' '7' '1' '0' '2000-01' '45' '16' '1' '2PT Field Goal'\n",
      "  'Left Side Center(LC)' 'Mid-Range' '16-24 ft.' '1610612747'\n",
      "  'Los Angeles Lakers' '2000-10-31' 'LAL @ POR' 'POR' '3']\n",
      " ['Jump Shot' 'Jump Shot' '43' '20000012' '33.8693' '138' '175'\n",
      "  '-118.1318' '6' '1' '0' '2000-01' '52' '22' '0' '2PT Field Goal'\n",
      "  'Right Side Center(RC)' 'Mid-Range' '16-24 ft.' '1610612747'\n",
      "  'Los Angeles Lakers' '2000-10-31' 'LAL @ POR' 'POR' '4']\n",
      " ['Driving Dunk Shot' 'Dunk' '155' '20000012' '34.0443' '0' '0'\n",
      "  '-118.2698' '6' '2' '0' '2000-01' '19' '0' '1' '2PT Field Goal'\n",
      "  'Center(C)' 'Restricted Area' 'Less Than 8 ft.' '1610612747'\n",
      "  'Los Angeles Lakers' '2000-10-31' 'LAL @ POR' 'POR' '5']\n",
      " ['Jump Shot' 'Jump Shot' '244' '20000012' '34.0553' '-145' '-11'\n",
      "  '-118.4148' '9' '3' '0' '2000-01' '32' '14' '0' '2PT Field Goal'\n",
      "  'Left Side(L)' 'Mid-Range' '8-16 ft.' '1610612747' 'Los Angeles Lakers'\n",
      "  '2000-10-31' 'LAL @ POR' 'POR' '6']\n",
      " ['Layup Shot' 'Layup' '251' '20000012' '34.0443' '0' '0' '-118.2698' '8'\n",
      "  '3' '0' '2000-01' '52' '0' '1' '2PT Field Goal' 'Center(C)'\n",
      "  'Restricted Area' 'Less Than 8 ft.' '1610612747' 'Los Angeles Lakers'\n",
      "  '2000-10-31' 'LAL @ POR' 'POR' '7']\n",
      " ['Jump Shot' 'Jump Shot' '254' '20000012' '34.0163' '1' '28' '-118.2688'\n",
      "  '8' '3' '0' '2000-01' '5' '2' '' '2PT Field Goal' 'Center(C)'\n",
      "  'Restricted Area' 'Less Than 8 ft.' '1610612747' 'Los Angeles Lakers'\n",
      "  '2000-10-31' 'LAL @ POR' 'POR' '8']\n",
      " ['Jump Shot' 'Jump Shot' '265' '20000012' '33.9363' '-65' '108'\n",
      "  '-118.3348' '6' '3' '0' '2000-01' '12' '12' '1' '2PT Field Goal'\n",
      "  'Left Side(L)' 'In The Paint (Non-RA)' '8-16 ft.' '1610612747'\n",
      "  'Los Angeles Lakers' '2000-10-31' 'LAL @ POR' 'POR' '9']]\n"
     ]
    }
   ],
   "source": [
    "# Split the non_test set into a training and a validation set\n",
    "\n",
    "def train_test_split(data, test_percentage: float):\n",
    "    if test_percentage < 0 or test_percentage > 1:\n",
    "        raise ValueError('argument test_percentage must be a float between 0 and 1')\n",
    "\n",
    "    data_len = len(data)\n",
    "    test_size = int(data_len * test_percentage)\n",
    "    \n",
    "    return data[:test_size,:], data[test_size:, :]\n",
    "\n",
    "train, validation = train_test_split(data, 0.2)\n",
    "\n",
    "print('length of train set:', len(train))\n",
    "print('length of validation set:', len(validation))\n",
    "\n",
    "print(train[0:10])"
   ]
  },
  {
   "cell_type": "code",
   "execution_count": 35,
   "metadata": {},
   "outputs": [
    {
     "data": {
      "text/plain": [
       "30618"
      ]
     },
     "execution_count": 35,
     "metadata": {},
     "output_type": "execute_result"
    }
   ],
   "source": [
    "len(test)"
   ]
  },
  {
   "cell_type": "markdown",
   "metadata": {},
   "source": [
    "## TODO: Create model"
   ]
  },
  {
   "cell_type": "code",
   "execution_count": 128,
   "metadata": {},
   "outputs": [],
   "source": [
    "model = Sequential()\n",
    "\n",
    "model.add(Dense(units=64, activation='relu', input_dim=100))\n",
    "model.add(Dense(units=10, activation='softmax'))"
   ]
  },
  {
   "cell_type": "code",
   "execution_count": 129,
   "metadata": {},
   "outputs": [],
   "source": [
    "model.compile(loss='categorical_crossentropy',\n",
    "              optimizer='sgd',\n",
    "              metrics=['accuracy'])"
   ]
  },
  {
   "cell_type": "code",
   "execution_count": 130,
   "metadata": {},
   "outputs": [
    {
     "ename": "NameError",
     "evalue": "name 'x_train' is not defined",
     "output_type": "error",
     "traceback": [
      "\u001b[0;31m---------------------------------------------------------------------------\u001b[0m",
      "\u001b[0;31mNameError\u001b[0m                                 Traceback (most recent call last)",
      "\u001b[0;32m<ipython-input-130-5933ff8e3332>\u001b[0m in \u001b[0;36m<module>\u001b[0;34m\u001b[0m\n\u001b[1;32m      1\u001b[0m \u001b[0;31m# x_train and y_train are Numpy arrays --just like in the Scikit-Learn API.\u001b[0m\u001b[0;34m\u001b[0m\u001b[0;34m\u001b[0m\u001b[0;34m\u001b[0m\u001b[0m\n\u001b[0;32m----> 2\u001b[0;31m \u001b[0mmodel\u001b[0m\u001b[0;34m.\u001b[0m\u001b[0mfit\u001b[0m\u001b[0;34m(\u001b[0m\u001b[0mx_train\u001b[0m\u001b[0;34m,\u001b[0m \u001b[0my_train\u001b[0m\u001b[0;34m,\u001b[0m \u001b[0mepochs\u001b[0m\u001b[0;34m=\u001b[0m\u001b[0;36m5\u001b[0m\u001b[0;34m,\u001b[0m \u001b[0mbatch_size\u001b[0m\u001b[0;34m=\u001b[0m\u001b[0;36m32\u001b[0m\u001b[0;34m)\u001b[0m\u001b[0;34m\u001b[0m\u001b[0;34m\u001b[0m\u001b[0m\n\u001b[0m",
      "\u001b[0;31mNameError\u001b[0m: name 'x_train' is not defined"
     ]
    }
   ],
   "source": [
    "# x_train and y_train are Numpy arrays --just like in the Scikit-Learn API.\n",
    "model.fit(x_train, y_train, epochs=5, batch_size=32)"
   ]
  },
  {
   "cell_type": "code",
   "execution_count": 3,
   "metadata": {},
   "outputs": [
    {
     "ename": "NameError",
     "evalue": "name 'model' is not defined",
     "output_type": "error",
     "traceback": [
      "\u001b[0;31m---------------------------------------------------------------------------\u001b[0m",
      "\u001b[0;31mNameError\u001b[0m                                 Traceback (most recent call last)",
      "\u001b[0;32m<ipython-input-3-330f7375f467>\u001b[0m in \u001b[0;36m<module>\u001b[0;34m\u001b[0m\n\u001b[0;32m----> 1\u001b[0;31m \u001b[0mloss_and_metrics\u001b[0m \u001b[0;34m=\u001b[0m \u001b[0mmodel\u001b[0m\u001b[0;34m.\u001b[0m\u001b[0mevaluate\u001b[0m\u001b[0;34m(\u001b[0m\u001b[0mx_test\u001b[0m\u001b[0;34m,\u001b[0m \u001b[0my_test\u001b[0m\u001b[0;34m,\u001b[0m \u001b[0mbatch_size\u001b[0m\u001b[0;34m=\u001b[0m\u001b[0;36m128\u001b[0m\u001b[0;34m)\u001b[0m\u001b[0;34m\u001b[0m\u001b[0;34m\u001b[0m\u001b[0m\n\u001b[0m",
      "\u001b[0;31mNameError\u001b[0m: name 'model' is not defined"
     ]
    }
   ],
   "source": [
    "loss_and_metrics = model.evaluate(x_test, y_test, batch_size=128)"
   ]
  },
  {
   "cell_type": "code",
   "execution_count": null,
   "metadata": {},
   "outputs": [],
   "source": [
    "classes = model.predict(x_test, batch_size=128)\n"
   ]
  }
 ],
 "metadata": {
  "kernelspec": {
   "display_name": "kobe",
   "language": "python",
   "name": "kobe"
  },
  "language_info": {
   "codemirror_mode": {
    "name": "ipython",
    "version": 3
   },
   "file_extension": ".py",
   "mimetype": "text/x-python",
   "name": "python",
   "nbconvert_exporter": "python",
   "pygments_lexer": "ipython3",
   "version": "3.7.6"
  }
 },
 "nbformat": 4,
 "nbformat_minor": 4
}
